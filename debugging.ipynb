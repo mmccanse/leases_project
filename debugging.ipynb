{
 "cells": [
  {
   "cell_type": "code",
   "execution_count": 10,
   "metadata": {},
   "outputs": [],
   "source": [
    "import os\n",
    "from dotenv import load_dotenv\n",
    "import streamlit as st\n",
    "from langchain_community.document_loaders import PyPDFLoader\n",
    "from langchain_text_splitters import RecursiveCharacterTextSplitter\n",
    "from langchain.vectorstores import Qdrant\n",
    "from langchain_openai import OpenAIEmbeddings\n",
    "from langchain.chains import RetrievalQA\n",
    "from langchain_openai import OpenAI\n",
    "from qdrant_client import QdrantClient, models\n",
    "import qdrant_client\n",
    "from langchain.chat_models import ChatOpenAI\n",
    "from langchain.chains import ConversationalRetrievalChain, LLMChain\n",
    "from langchain_core.prompts import PromptTemplate, FewShotPromptTemplate\n",
    "import logging\n",
    "logging.basicConfig(level=logging.DEBUG)"
   ]
  },
  {
   "cell_type": "code",
   "execution_count": 15,
   "metadata": {},
   "outputs": [],
   "source": [
    "# Set the model name for LLM\n",
    "OPENAI_MODEL = \"gpt-3.5-turbo\"\n",
    "\n",
    "# Store API key as a variable\n",
    "openai_api_key = st.secrets[\"OPENAI_API_KEY\"]"
   ]
  },
  {
   "cell_type": "code",
   "execution_count": 11,
   "metadata": {},
   "outputs": [],
   "source": [
    "def get_vector_store():\n",
    "    #Create a client to connect to Qdrant server\n",
    "    client = qdrant_client.QdrantClient(\n",
    "        st.secrets[\"QDRANT_HOST\"],\n",
    "        api_key=st.secrets[\"QDRANT_API_KEY\"]\n",
    "        )\n",
    "    \n",
    "    #initialize embeddings for vector store\n",
    "    embeddings = OpenAIEmbeddings()\n",
    "    \n",
    "    # create vector_store with Qdrant and embeddings\n",
    "    vector_store = Qdrant(client,\n",
    "                          collection_name = st.secrets[\"QDRANT_COLLECTION_NAME\"],\n",
    "                          embeddings=embeddings)\n",
    "    return vector_store"
   ]
  },
  {
   "cell_type": "code",
   "execution_count": null,
   "metadata": {},
   "outputs": [],
   "source": [
    "qa = RetrievalQA.from_chain_type(\n",
    "    llm=ChatOpenAI(model=OPENAI_MODEL, temperature=0, api_key=openai_api_key),\n",
    "    # chain_type=\"stuff\",\n",
    "    retriever = vector_store.as_retriever(metadata_fields=['metadata'])\n",
    "    \n",
    ")"
   ]
  },
  {
   "cell_type": "code",
   "execution_count": 24,
   "metadata": {},
   "outputs": [],
   "source": [
    "def initialize_crc(vector_store):\n",
    "    llm = ChatOpenAI(model=OPENAI_MODEL, temperature=0, api_key=openai_api_key)\n",
    "    retriever=vector_store.as_retriever(metadata_fields=['metadata'])\n",
    "    crc = ConversationalRetrievalChain.from_llm(llm, retriever)\n",
    "    st.session_state.crc = crc\n",
    "    st.success('Source documents loaded!')\n",
    "    return crc "
   ]
  },
  {
   "cell_type": "code",
   "execution_count": null,
   "metadata": {},
   "outputs": [],
   "source": [
    "initialize_crc(vector_store)"
   ]
  },
  {
   "cell_type": "code",
   "execution_count": 27,
   "metadata": {},
   "outputs": [
    {
     "ename": "NameError",
     "evalue": "name 'crc' is not defined",
     "output_type": "error",
     "traceback": [
      "\u001b[1;31m---------------------------------------------------------------------------\u001b[0m",
      "\u001b[1;31mNameError\u001b[0m                                 Traceback (most recent call last)",
      "Cell \u001b[1;32mIn[27], line 3\u001b[0m\n\u001b[0;32m      1\u001b[0m query \u001b[38;5;241m=\u001b[39m \u001b[38;5;124m\"\u001b[39m\u001b[38;5;124mHow does ASC 606 interact with ASC 842?\u001b[39m\u001b[38;5;124m\"\u001b[39m\n\u001b[1;32m----> 3\u001b[0m response \u001b[38;5;241m=\u001b[39m crc\u001b[38;5;241m.\u001b[39mrun(query)\n\u001b[0;32m      5\u001b[0m \u001b[38;5;28mprint\u001b[39m(response)\n",
      "\u001b[1;31mNameError\u001b[0m: name 'crc' is not defined"
     ]
    }
   ],
   "source": [
    "query = \"How does ASC 606 interact with ASC 842?\"\n",
    "\n",
    "response = qa.run(query)\n",
    "\n",
    "print(response)"
   ]
  }
 ],
 "metadata": {
  "kernelspec": {
   "display_name": "base",
   "language": "python",
   "name": "python3"
  },
  "language_info": {
   "codemirror_mode": {
    "name": "ipython",
    "version": 3
   },
   "file_extension": ".py",
   "mimetype": "text/x-python",
   "name": "python",
   "nbconvert_exporter": "python",
   "pygments_lexer": "ipython3",
   "version": "3.11.5"
  }
 },
 "nbformat": 4,
 "nbformat_minor": 2
}
