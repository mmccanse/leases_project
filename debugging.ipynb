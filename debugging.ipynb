{
 "cells": [
  {
   "cell_type": "code",
   "execution_count": 7,
   "metadata": {},
   "outputs": [],
   "source": [
    "import os\n",
    "from dotenv import load_dotenv\n",
    "import streamlit as st\n",
    "from langchain_community.document_loaders import PyPDFLoader\n",
    "from langchain_text_splitters import RecursiveCharacterTextSplitter\n",
    "from langchain.vectorstores import Qdrant\n",
    "from langchain_openai import OpenAIEmbeddings\n",
    "from langchain.chains import RetrievalQA\n",
    "from langchain_openai import ChatOpenAI, OpenAI\n",
    "from qdrant_client import QdrantClient, models\n",
    "import qdrant_client\n",
    "from langchain.chains import ConversationalRetrievalChain, LLMChain\n",
    "from langchain_core.prompts import PromptTemplate, FewShotPromptTemplate\n",
    "import logging\n",
    "logging.basicConfig(level=logging.DEBUG)"
   ]
  },
  {
   "cell_type": "code",
   "execution_count": 2,
   "metadata": {},
   "outputs": [],
   "source": [
    "# Set the model name for LLM\n",
    "OPENAI_MODEL = \"gpt-3.5-turbo\"\n",
    "\n",
    "# Store API key as a variable\n",
    "openai_api_key = st.secrets[\"OPENAI_API_KEY\"]"
   ]
  },
  {
   "cell_type": "code",
   "execution_count": 3,
   "metadata": {},
   "outputs": [],
   "source": [
    "def get_vector_store():\n",
    "    #Create a client to connect to Qdrant server\n",
    "    client = qdrant_client.QdrantClient(\n",
    "        st.secrets[\"QDRANT_HOST\"],\n",
    "        api_key=st.secrets[\"QDRANT_API_KEY\"]\n",
    "        )\n",
    "    \n",
    "    #initialize embeddings for vector store\n",
    "    embeddings = OpenAIEmbeddings()\n",
    "    \n",
    "    # create vector_store with Qdrant and embeddings\n",
    "    vector_store = Qdrant(client,\n",
    "                          collection_name = st.secrets[\"QDRANT_COLLECTION_NAME\"],\n",
    "                          embeddings=embeddings)\n",
    "    return vector_store"
   ]
  },
  {
   "cell_type": "code",
   "execution_count": 8,
   "metadata": {},
   "outputs": [
    {
     "name": "stderr",
     "output_type": "stream",
     "text": [
      "DEBUG:httpx:load_ssl_context verify=True cert=None trust_env=True http2=False\n",
      "DEBUG:httpx:load_verify_locations cafile='C:\\\\Users\\\\mered\\\\anaconda3\\\\Library\\\\ssl\\\\cacert.pem'\n",
      "DEBUG:httpx:load_ssl_context verify=True cert=None trust_env=True http2=False\n",
      "DEBUG:httpx:load_verify_locations cafile='C:\\\\Users\\\\mered\\\\anaconda3\\\\Library\\\\ssl\\\\cacert.pem'\n",
      "DEBUG:httpx:load_ssl_context verify=True cert=None trust_env=True http2=False\n",
      "DEBUG:httpx:load_verify_locations cafile='C:\\\\Users\\\\mered\\\\anaconda3\\\\Library\\\\ssl\\\\cacert.pem'\n"
     ]
    }
   ],
   "source": [
    "vector_store = get_vector_store()"
   ]
  },
  {
   "cell_type": "code",
   "execution_count": 9,
   "metadata": {},
   "outputs": [],
   "source": [
    "#initialize conversational retrieval chain\n",
    "def initialize_crc(vector_store):\n",
    "    llm = ChatOpenAI(model=OPENAI_MODEL, temperature=0, api_key=openai_api_key)\n",
    "    retriever=vector_store.as_retriever()\n",
    "    crc = ConversationalRetrievalChain.from_llm(llm, retriever)\n",
    "    # st.session_state['crc'] = crc\n",
    "    # st.success('Source documents loaded!')\n",
    "    return crc "
   ]
  },
  {
   "cell_type": "code",
   "execution_count": 10,
   "metadata": {},
   "outputs": [
    {
     "name": "stderr",
     "output_type": "stream",
     "text": [
      "DEBUG:httpx:load_ssl_context verify=True cert=None trust_env=True http2=False\n",
      "DEBUG:httpx:load_verify_locations cafile='C:\\\\Users\\\\mered\\\\anaconda3\\\\Library\\\\ssl\\\\cacert.pem'\n",
      "DEBUG:httpx:load_ssl_context verify=True cert=None trust_env=True http2=False\n",
      "DEBUG:httpx:load_verify_locations cafile='C:\\\\Users\\\\mered\\\\anaconda3\\\\Library\\\\ssl\\\\cacert.pem'\n",
      "DEBUG:httpx:load_ssl_context verify=True cert=None trust_env=True http2=False\n",
      "DEBUG:httpx:load_verify_locations cafile='C:\\\\Users\\\\mered\\\\anaconda3\\\\Library\\\\ssl\\\\cacert.pem'\n",
      "DEBUG:httpx:load_ssl_context verify=True cert=None trust_env=True http2=False\n",
      "DEBUG:httpx:load_verify_locations cafile='C:\\\\Users\\\\mered\\\\anaconda3\\\\Library\\\\ssl\\\\cacert.pem'\n",
      "DEBUG:httpx:load_ssl_context verify=True cert=None trust_env=True http2=False\n",
      "DEBUG:httpx:load_verify_locations cafile='C:\\\\Users\\\\mered\\\\anaconda3\\\\Library\\\\ssl\\\\cacert.pem'\n"
     ]
    },
    {
     "name": "stdout",
     "output_type": "stream",
     "text": [
      "combine_docs_chain=StuffDocumentsChain(llm_chain=LLMChain(prompt=ChatPromptTemplate(input_variables=['context', 'question'], messages=[SystemMessagePromptTemplate(prompt=PromptTemplate(input_variables=['context'], template=\"Use the following pieces of context to answer the user's question. \\nIf you don't know the answer, just say that you don't know, don't try to make up an answer.\\n----------------\\n{context}\")), HumanMessagePromptTemplate(prompt=PromptTemplate(input_variables=['question'], template='{question}'))]), llm=ChatOpenAI(client=<openai.resources.chat.completions.Completions object at 0x000001C3DE1A55D0>, async_client=<openai.resources.chat.completions.AsyncCompletions object at 0x000001C3DE1A6DD0>, temperature=0.0, openai_api_key=SecretStr('**********'), openai_proxy='')), document_variable_name='context') question_generator=LLMChain(prompt=PromptTemplate(input_variables=['chat_history', 'question'], template='Given the following conversation and a follow up question, rephrase the follow up question to be a standalone question, in its original language.\\n\\nChat History:\\n{chat_history}\\nFollow Up Input: {question}\\nStandalone question:'), llm=ChatOpenAI(client=<openai.resources.chat.completions.Completions object at 0x000001C3DE1A55D0>, async_client=<openai.resources.chat.completions.AsyncCompletions object at 0x000001C3DE1A6DD0>, temperature=0.0, openai_api_key=SecretStr('**********'), openai_proxy='')) retriever=VectorStoreRetriever(tags=['Qdrant', 'OpenAIEmbeddings'], vectorstore=<langchain_community.vectorstores.qdrant.Qdrant object at 0x000001C3DE19AF10>)\n"
     ]
    }
   ],
   "source": [
    "vector_store = get_vector_store()\n",
    "crc = initialize_crc(vector_store)\n",
    "print(crc)  # Inspect the crc object"
   ]
  },
  {
   "cell_type": "code",
   "execution_count": null,
   "metadata": {},
   "outputs": [],
   "source": [
    "qa = RetrievalQA.from_chain_type(\n",
    "    llm=ChatOpenAI(model=OPENAI_MODEL, temperature=0, api_key=openai_api_key),\n",
    "    # chain_type=\"stuff\",\n",
    "    retriever = vector_store.as_retriever(metadata_fields=['metadata'])\n",
    "    \n",
    ")"
   ]
  },
  {
   "cell_type": "code",
   "execution_count": 12,
   "metadata": {},
   "outputs": [
    {
     "name": "stderr",
     "output_type": "stream",
     "text": [
      "DEBUG:openai._base_client:Request options: {'method': 'post', 'url': '/embeddings', 'files': None, 'post_parser': <function Embeddings.create.<locals>.parser at 0x000001C3DD0667A0>, 'json_data': {'input': [[4438, 1587, 20382, 220, 20213, 16681, 449, 20382, 220, 25377, 30]], 'model': 'text-embedding-ada-002', 'encoding_format': 'base64'}}\n",
      "DEBUG:httpcore.connection:connect_tcp.started host='api.openai.com' port=443 local_address=None timeout=None socket_options=None\n",
      "DEBUG:httpcore.connection:connect_tcp.complete return_value=<httpcore._backends.sync.SyncStream object at 0x000001C3DD075D50>\n",
      "DEBUG:httpcore.connection:start_tls.started ssl_context=<ssl.SSLContext object at 0x000001C3DE14F410> server_hostname='api.openai.com' timeout=None\n",
      "DEBUG:httpcore.connection:start_tls.complete return_value=<httpcore._backends.sync.SyncStream object at 0x000001C3DF145310>\n",
      "DEBUG:httpcore.http11:send_request_headers.started request=<Request [b'POST']>\n",
      "DEBUG:httpcore.http11:send_request_headers.complete\n",
      "DEBUG:httpcore.http11:send_request_body.started request=<Request [b'POST']>\n",
      "DEBUG:httpcore.http11:send_request_body.complete\n",
      "DEBUG:httpcore.http11:receive_response_headers.started request=<Request [b'POST']>\n",
      "DEBUG:httpcore.http11:receive_response_headers.complete return_value=(b'HTTP/1.1', 200, b'OK', [(b'Date', b'Sun, 28 Apr 2024 06:14:03 GMT'), (b'Content-Type', b'application/json'), (b'Transfer-Encoding', b'chunked'), (b'Connection', b'keep-alive'), (b'access-control-allow-origin', b'*'), (b'openai-model', b'text-embedding-ada-002'), (b'openai-organization', b'user-xqtp7jgtgwdv2lgnvjry1mni'), (b'openai-processing-ms', b'23'), (b'openai-version', b'2020-10-01'), (b'strict-transport-security', b'max-age=15724800; includeSubDomains'), (b'x-ratelimit-limit-requests', b'3000'), (b'x-ratelimit-limit-tokens', b'1000000'), (b'x-ratelimit-remaining-requests', b'2999'), (b'x-ratelimit-remaining-tokens', b'999989'), (b'x-ratelimit-reset-requests', b'20ms'), (b'x-ratelimit-reset-tokens', b'0s'), (b'x-request-id', b'req_b6089502532e0243d803a97b52f52883'), (b'CF-Cache-Status', b'DYNAMIC'), (b'Set-Cookie', b'__cf_bm=9.ImgUAL_u_PvDdbCOIIAKAdUp4uLJe5HPSY99FRREQ-1714284843-1.0.1.1-gnvT_dixl9ePINq5a1M5aJ6g0YhTNjKlAD61ofkiaKRS_.MEmQh9kOTw5ZQIYbCWwIqduL3MFalaXljyEhMEqQ; path=/; expires=Sun, 28-Apr-24 06:44:03 GMT; domain=.api.openai.com; HttpOnly; Secure; SameSite=None'), (b'Set-Cookie', b'_cfuvid=JAC7DDFABzDFSo72QSmt8_AzU_0uw8U49XJ7s0Z1NGw-1714284843393-0.0.1.1-604800000; path=/; domain=.api.openai.com; HttpOnly; Secure; SameSite=None'), (b'Server', b'cloudflare'), (b'CF-RAY', b'87b4e8ee6c4051ee-DEN'), (b'Content-Encoding', b'br'), (b'alt-svc', b'h3=\":443\"; ma=86400')])\n",
      "INFO:httpx:HTTP Request: POST https://api.openai.com/v1/embeddings \"HTTP/1.1 200 OK\"\n",
      "DEBUG:httpcore.http11:receive_response_body.started request=<Request [b'POST']>\n",
      "DEBUG:httpcore.http11:receive_response_body.complete\n",
      "DEBUG:httpcore.http11:response_closed.started\n",
      "DEBUG:httpcore.http11:response_closed.complete\n",
      "DEBUG:openai._base_client:HTTP Request: POST https://api.openai.com/v1/embeddings \"200 OK\"\n",
      "DEBUG:httpcore.connection:connect_tcp.started host='23f0b85b-de0f-4ac9-aa14-7efc4b366fdf.us-east4-0.gcp.cloud.qdrant.io' port=6333 local_address=None timeout=5.0 socket_options=None\n",
      "DEBUG:httpcore.connection:connect_tcp.complete return_value=<httpcore._backends.sync.SyncStream object at 0x000001C3DF1732D0>\n",
      "DEBUG:httpcore.connection:start_tls.started ssl_context=<ssl.SSLContext object at 0x000001C3DE14F380> server_hostname='23f0b85b-de0f-4ac9-aa14-7efc4b366fdf.us-east4-0.gcp.cloud.qdrant.io' timeout=5.0\n",
      "DEBUG:httpcore.connection:start_tls.complete return_value=<httpcore._backends.sync.SyncStream object at 0x000001C3DF136A90>\n",
      "DEBUG:httpcore.http11:send_request_headers.started request=<Request [b'POST']>\n",
      "DEBUG:httpcore.http11:send_request_headers.complete\n",
      "DEBUG:httpcore.http11:send_request_body.started request=<Request [b'POST']>\n",
      "DEBUG:httpcore.http11:send_request_body.complete\n",
      "DEBUG:httpcore.http11:receive_response_headers.started request=<Request [b'POST']>\n",
      "DEBUG:httpcore.http11:receive_response_headers.complete return_value=(b'HTTP/1.1', 200, b'OK', [(b'Content-Encoding', b'br'), (b'Content-Type', b'application/json'), (b'Date', b'Sun, 28 Apr 2024 06:14:03 GMT'), (b'Vary', b'accept-encoding, Origin, Access-Control-Request-Method, Access-Control-Request-Headers'), (b'Transfer-Encoding', b'chunked')])\n",
      "INFO:httpx:HTTP Request: POST https://23f0b85b-de0f-4ac9-aa14-7efc4b366fdf.us-east4-0.gcp.cloud.qdrant.io:6333/collections/lease-guidance/points/search \"HTTP/1.1 200 OK\"\n",
      "DEBUG:httpcore.http11:receive_response_body.started request=<Request [b'POST']>\n",
      "DEBUG:httpcore.http11:receive_response_body.complete\n",
      "DEBUG:httpcore.http11:response_closed.started\n",
      "DEBUG:httpcore.http11:response_closed.complete\n",
      "DEBUG:openai._base_client:Request options: {'method': 'post', 'url': '/chat/completions', 'files': None, 'json_data': {'messages': [{'content': \"Use the following pieces of context to answer the user's question. \\nIf you don't know the answer, just say that you don't know, don't try to make up an answer.\\n----------------\\n11 Effective date and transition  \\nFinancial reporting developments  Lease accounting  | 385 Entities subject to SEC reporting requirements sho uld provide disclosures about the effects of ASC 842 in \\nregistration statements and periodic reports filed with the SEC. As noted in SEC Staff Accounting Bulletin \\n(SAB) Topic 11.M, the SEC staff expects disclosure of the potential effects of new standards if they are \\nknown. These entities should make the following disclosures within MD&A and the financial statements:  \\n• A brief description of the new standard, the date that adoption is required and the date that the \\nregistrant plans to adopt, if earlier  \\n• A disc ussion of the method of adoption allowed, including whether the optional practical expedients \\nwill be applied (refer to section 11.2.2, Transition practical expedients)  \\n• A discussion of the effect the standard is expected to have on the financial statements  or, if the \\neffect is  not known or reasonably estimable, a statement to that effect  \\n• Disclosure of other significant matters that the entity believes might result from adopting the \\nstandard ( e.g.,  planned or intended changes in business practices, effect on  debt covenants)  \\nConsistent with SAB Topic 11.M, at an October 2016 Emerging Issues Task Force (EITF) Meeting, the \\nSEC Observer said that if a registrant does not know or cannot reasonably estimate the effect that the \\nadoption of a new standard will have o n its financial statements, it should make a statement to that \\neffect and consider providing qualitative disclosures to help the reader assess the significance of the \\neffect on the registrant’s financial statements. These qualitative disclosures should inc lude a description \\nof the new standard’s effect on the registrant’s accounting policies and provide a comparison to the \\nregistrant’s previous accounting policies  under ASC 840. The SEC Observer also said that registrants \\nshould describe the status of their  processes to implement the new standards and the significance of any \\nimplementation matters yet to be addressed in those processes. The SEC staff expects an entity’s \\ndisclosures to evolve in each reporting period as more information about the effects of a  new standard \\nbecomes available. Members of the SEC staff have said that disclosure of the probable outcomes of applying \\nnew accounting standards, including ASC 842, will be a focus in reviews of registrants’ 10 -K filings.  \\n11.1.2  Adoption of ASC 842 and ASC 606 (updated August 2022)  \\nThe FASB aligned several concepts in ASC 842 with concepts in ASC 606 ( e.g.,  determining whether the \\ntransfer of an asset is a sale in a sale and leaseback transaction) and in some cases required lessors to \\napply specific guidance in ASC 606 to their leasing transactions ( e.g.,  for a lessor’s allocation of the \\nconsideration in the contract). ASU 2014 -09, the update that created ASC 606, included consequential \\namendments to ASC 840 that require both the purchaser (lessee) and supplier (lessor) to apply the \\nallocation guidance in ASC 606 to multiple -element arrangements that contain a  lease.  The FASB \\nclarified at a June 2017 Board meeting that it did not intend for an entity to revisit the allocation of \\ncontract consideration to lease components for existing unmodified contracts upon the adoption of \\nASC 842, except when lease classific ation changes upon the adoption of ASC 842.  \\nQuestions have arisen about the accounting for certain maintenance activities. Under ASC 840, certain \\nmaintenance activities are considered executory costs ( i.e., a lease element). However, u nder ASC 842, \\npayment s for maintenance activities, including common area maintenance ( e.g., cleaning a lobby of a building, \\nremoving snow from a parking lot for employees and customers), will instead be considered non -lease \\ncomponents and will be accounted for under ASC 606 by  lessors (refer to section 1.4.2.1, Executory costs ). \\nUpon adoption of ASC 842, a lessor’s accounting for such activities will depend on whether the lease \\nclassification changes. If lease classification does not change upon adoption of ASC 842 ( e.g.,  an \\noperating lease under ASC 840 remains an operating lease under ASC 842), a lessor generally runs out \\nits existing ASC 840 accounting ( i.e., the lessor continues to account for maintenance costs as executory \\ncosts under ASC 840). In contrast, if classification changes ( e.g.,  an operating lease under ASC 840\\n\\nContents  \\nFinancial reporting developments  Lease accounting  | ix 11.2.7  Application of ASC  842’s and ASC  606’s transition provisions for \\narrangements  that no longer qualify as a lease  ................................ ...........................  408 \\n11.2.8  Practical expedient to not separate lease and non -lease components  ...........................  409 \\n11.3  Lessee transition  ................................ ................................ ................................ ...............  409 \\n11.3.1  Leases previously classified as capital leases under ASC  840 that are \\nclassified as finance leases under ASC  842 ................................ ................................ . 411 \\n11.3.1.1  Initial mea surement  ................................ ................................ ..........................  414 \\n11.3.1.2  Subsequent measurement before the effective date ................................ ...........  415 \\n11.3.1.3  Subsequent measurement on or after the effective date  ................................ .... 416 \\n11.3.2  Leases previously classified as capital leases under ASC  840 that are \\nclassified as operating leases under ASC  842 ................................ .............................  417 \\n11.3.2.1  Initial measurement  ................................ ................................ ..........................  420 \\n11.3.2.2  Subsequent measurement before and on or after effective date  .........................  421 \\n11.3.3  Leases previously classified as operating lease s under ASC  840 that are \\nclassified  as operating leases under ASC  842 — lessee  ................................ ....................  422 \\n11.3.3.1  Initial measurement of leases previou sly classified as operating \\nleases under ASC  840 — lessee  ................................ ................................ ..........  427 \\n11.3.3.2  Subsequent measurement before the effective date  — leases \\nclassified as operating leases under ASC  842 — lessee  ................................ ........  430 \\n11.3.3.3  Subsequent measurement on or after the effective date  — leases \\nclassified as operating leases under ASC  842 — lessee  ................................ ........  431 \\n11.3.3a  Leases previously classified as operating leases under A SC 840 that are \\nclassified  as finance leases under ASC  842 — lessee  ................................ .......................  432 \\n11.3.3a.1  Initial measurement  for leases previously classified as operating \\nleases under ASC  840 — lessee  ................................ ................................ ..........  435 \\n11.3.3a.2  Subsequent measurement before and on or after the effective \\ndate — leases classified as finance leases under ASC  842 ................................ .... 437 \\n11.3.3b  Discount rates  — leases previously classified as o perating leases under \\nASC 840 — lessee  ................................ ................................ ................................ .......  438 \\n11.3.3c  Remaining minimum rental payments  — leases previously classified as \\noperating leases under ASC  840 — lessee  ................................ ................................ ...... 439 \\n11.3.3d  Foreign exchange rate  — leases previously classified as operating leases \\nunder ASC  840 — lessee  ................................ ................................ ............................  439 \\n11.3.4  Reassessment of lease liabilities and right -of-use assets  — transition \\nconsiderations  ................................ ................................ ................................ ..........  440 \\n11.3.5  Lessee transition  — examples  ................................ ................................ .....................  442 \\n11.3.5.1  Leases previously classified as capital leases under ASC  840 ..............................  442 \\n11.3.5.2  Leases previously classified as operati ng leases under ASC  840 .........................  443 \\n11.3.6  Lessee involvement in asset construction (‘build -to-suit’ transactions)  .........................  444 \\n11.4  Lessor transition  ................................ ................................ ................................ ................  447 \\n11.4.1  Leases previously classified as sales -type or direct financing leases under ASC  840 \\nthat are classified as sales -type or direct financing leases under ASC  842 ....................  450 \\n11.4.1.1  Initial measurement  ................................ ................................ ..........................  452 \\n11.4.1.2  Subsequent measurement before the effective date ................................ ...........  452 \\n11.4.1.3  Subsequent measurement on or after the effective date  ................................ .... 453 \\n11.4.2  Leases previously classified as sales -type or direct financing leases under \\nASC 840 that are classified as operating leases under ASC  842 ................................ ... 454 \\n11.4.2.1  Initial measurement  ................................ ................................ ..........................  456\\n\\nLeases  1127  \\n13B. Effective dates and transition : comparative method   \\n  \\n \\n \\n© 2023  KPMG LLP, a Delaware limited liability partnership and a member firm of the KPMG global organization of independent \\nmember firms affiliated with KPMG International Limited, a private English company limited by guarantee. All rights reserved.  The transition provisions in ASC Topic 842 require that a public business \\nentity and certain other specified entities adopt ASC Topic 842 for fiscal \\nyears beginnin g after December 15, 2018, and interim periods within \\nthose fiscal years.FN3 All other entities are required to adopt ASC Topic \\n842 for fiscal years beginning after December 15, 2019, and interim \\nperiods within fiscal years beginning after December 15, 2020.  \\nIn response to the stakeholder inquiries outlined above, the SEC staff \\nwould not object to a public business entity that otherwise would not \\nmeet the definition of a public business entity except for a requir ement \\nto include or the inclusion of its financial statements or financial \\ninformation in another entity’s filing with the SEC adopting (1) ASC Topic \\n606 for annual reporting periods beginning after December 15, 2018, and \\ninterim reporting periods within a nnual reporting periods beginning after \\nDecember 15, 2019, and (2) ASC Topic 842 for fiscal years beginning \\nafter December 15, 2019, and interim periods within fiscal years \\nbeginning after December 15, 2020.  \\nA public business entity that otherwise would no t meet the definition of a \\npublic business entity except for a requirement to include or the inclusion \\nof its financial statements or financial information in another entity’s filing \\nwith the SEC may still elect to adopt ASC Topic 606 and ASC Topic 842 \\naccording to the public business entity effective dates outlined above.  \\nThis announcement is applicable only to public business entities that \\notherwise would not meet the definition of a public business entity \\nexcept for a requirement to include or the inclus ion of its financial \\nstatements or financial information in another entity’s filing with the SEC. \\nThis announcement is not applicable to other public business entities.  \\nFN 1 The definition of Public Business Entity in the FASB’s ASC Master \\nGlossary state s, in part, the following:  \\nA public business entity is a business entity meeting any one of the \\ncriteria below . . .  \\na. It is required by the U.S. Securities and Exchange Commission \\n(SEC) to file or furnish financial statements, or does file or furnish \\nfinan cial statements (including voluntary filers), with the SEC \\n(including other entities whose financial statements or financial \\ninformation are required to be or are included in a filing) . . .  \\nAn en tity may meet the definition of a public business entity sol ely \\nbecause its financial statements or financial information is included in \\nanother entity’s filing with the SEC. In that case, the entity is only a \\npublic business entity for purposes of financial statements that are filed \\nor furnished with the SEC.  \\nFN 2 Early adoption of ASC Topic 606 is permitted for public business \\nentities and certain other specified entities only as of annual reporting \\nperiods beginning after December 15, 2016, including interim reporting \\nperiods within that reporting period.  \\nFN 3 Early adoption of ASC Topic 842 is permitted for public business \\nentities and certain other specified entities, as well as for all other \\nentitie s.\\n\\n11 Effective date and transition  \\nFinancial reporting developments  Lease accounting  | 384 ASC 842 was effective for all other entities  for annual periods beginning after 15 December 2021 and \\ninterim periods within annual periods beginning after 15 December 2022.  \\nThese effective dates  are based on ASU 2020 -05, Revenue from Contracts with Customers (Topic 606) \\nand Leases (Topic 842): Effective Dates for Certain Entities . \\nInterim adoption  \\nEarly adoption is permitted for all entities. ASC 842 neither specifically addresses nor prohibits early \\nadoption in an interim period other than the first interim period of an entity’s fiscal year. We believe an \\nentity can early adopt the  standard in an interim period other than the first interim period; however, the \\nadoption would be reflect ed as of the beginning of the annual period in accordance with ASC 250. For \\nexample, if a calendar -year entity early adopts in the second quarter of 2017, it should reflect the adoption of \\nASC 842 as if it had adopted the standard on 1 January 2017. The ne xt time an entity presents its financial \\nstatements for the first quarter of 2017 ( i.e., in the first quarter of 2018), it would adjust them to reflect \\nthe adoption of ASC 842.  \\n11.1.1  Disclosure before adoption  \\nExcerpts from Accounting Standards Codificati on \\nAccounting Changes and Error Corrections  — Overall  \\nSEC Materials  \\nSEC Staff Guidance  \\n250-10-S99-6 \\nThe following is the text of SEC Staff Announcement: Disclosure of the Impact That Recently Issued \\nAccounting Standards Will Have on the Financial Statements of a Registrant When Such Standards Are \\nAdopted in a Future Period (in accordance with Staff Accounting Bulletin [SAB] Topic 11.M) . \\nThis announcement applies to Accounting Standards Update (ASU) No. 2014 -09, Revenue from \\nContracts with Customers  (Topic 606) ; ASU No. 2016 -02, Leases (Topic 842) ; and ASU No. 2016 -\\n13, Financial Instruments  — Credit Losses (Topic 326): Measurement of Credit Losses on Financial \\nInstruments . FN1 \\nSAB Topic 11.M provides the SEC staff view that a registrant should evalua te ASUs that have not \\nyet been adopted to determine the appropriate financial statement disclosures FN2 about the \\npotential material effects of those ASUs on the financial statements when adopted. Consistent with \\nTopic 11.M, if a registrant does not know or cannot reasonably estimate the impact that adoption of \\nthe ASUs referenced in this announcement is ex pected to have on the financial statements, then in \\naddition to making a statement to that effect, that registrant should consider additional qualitative \\nfinancial statement disclosures to assist the reader in assessing the significance of the impact that \\nthe standard will have on the financial statements of the registrant when adopted. In this regard, \\nthe SEC staff expects the additional qualitative disclosures to include a description of the effect of \\nthe accounting policies that the registrant expects to  apply, if determined, and a comparison to the \\nregistrant’s current accounting policies. Also, a registrant should describe the status of its process \\nto implement the new standards and the significant implementation matters yet to be addressed.  \\nFN 1 This announcement also applies to any subsequent amendments to guidance in the ASUs \\nthat are issued prior to a registrant’s adoption of the aforementioned ASUs.  \\nFN 2 Topic 11.M provides SEC staff views on disclosures that registrants should consider i n both \\nManagement’s Discussion & Analysis (MD&A) and the notes to the financial statements. MD&A may \\ncontain cross references to these disclosures that appear within the notes to the financial statements.\", 'role': 'system'}, {'content': 'How does ASC 606 interact with ASC 842?', 'role': 'user'}], 'model': 'gpt-3.5-turbo', 'n': 1, 'stream': False, 'temperature': 0.0}}\n",
      "DEBUG:httpcore.connection:connect_tcp.started host='api.openai.com' port=443 local_address=None timeout=None socket_options=None\n",
      "DEBUG:httpcore.connection:connect_tcp.complete return_value=<httpcore._backends.sync.SyncStream object at 0x000001C3DF1368D0>\n",
      "DEBUG:httpcore.connection:start_tls.started ssl_context=<ssl.SSLContext object at 0x000001C3DE14F260> server_hostname='api.openai.com' timeout=None\n",
      "DEBUG:httpcore.connection:start_tls.complete return_value=<httpcore._backends.sync.SyncStream object at 0x000001C3DD075FD0>\n",
      "DEBUG:httpcore.http11:send_request_headers.started request=<Request [b'POST']>\n",
      "DEBUG:httpcore.http11:send_request_headers.complete\n",
      "DEBUG:httpcore.http11:send_request_body.started request=<Request [b'POST']>\n",
      "DEBUG:httpcore.http11:send_request_body.complete\n",
      "DEBUG:httpcore.http11:receive_response_headers.started request=<Request [b'POST']>\n",
      "DEBUG:httpcore.http11:receive_response_headers.complete return_value=(b'HTTP/1.1', 200, b'OK', [(b'Date', b'Sun, 28 Apr 2024 06:14:06 GMT'), (b'Content-Type', b'application/json'), (b'Transfer-Encoding', b'chunked'), (b'Connection', b'keep-alive'), (b'access-control-allow-origin', b'*'), (b'Cache-Control', b'no-cache, must-revalidate'), (b'openai-model', b'gpt-3.5-turbo-0125'), (b'openai-organization', b'user-xqtp7jgtgwdv2lgnvjry1mni'), (b'openai-processing-ms', b'2157'), (b'openai-version', b'2020-10-01'), (b'strict-transport-security', b'max-age=15724800; includeSubDomains'), (b'x-ratelimit-limit-requests', b'10000'), (b'x-ratelimit-limit-tokens', b'60000'), (b'x-ratelimit-remaining-requests', b'9999'), (b'x-ratelimit-remaining-tokens', b'55721'), (b'x-ratelimit-reset-requests', b'8.64s'), (b'x-ratelimit-reset-tokens', b'4.279s'), (b'x-request-id', b'req_e2ceff3f84761c2e68b6d8efdda44086'), (b'CF-Cache-Status', b'DYNAMIC'), (b'Set-Cookie', b'__cf_bm=nuJWR5oNRcgiZ.rGUcIwddmjqUPCI.SX9ZsAxPgPJZI-1714284846-1.0.1.1-DLZsnUoZtCz2XJfVTeBptMeyfk0SRxMKm7sETwHd.LYW4LHOHt0B5c81HtZMkmorfB37cA2S2SaGXijFYyKaIg; path=/; expires=Sun, 28-Apr-24 06:44:06 GMT; domain=.api.openai.com; HttpOnly; Secure; SameSite=None'), (b'Set-Cookie', b'_cfuvid=Pba4nHRNB7I5JwU6tNKgp9DN37ztYIVUF9C7bu50JKE-1714284846468-0.0.1.1-604800000; path=/; domain=.api.openai.com; HttpOnly; Secure; SameSite=None'), (b'Server', b'cloudflare'), (b'CF-RAY', b'87b4e8f29fc17c2e-DEN'), (b'Content-Encoding', b'br'), (b'alt-svc', b'h3=\":443\"; ma=86400')])\n",
      "INFO:httpx:HTTP Request: POST https://api.openai.com/v1/chat/completions \"HTTP/1.1 200 OK\"\n",
      "DEBUG:httpcore.http11:receive_response_body.started request=<Request [b'POST']>\n",
      "DEBUG:httpcore.http11:receive_response_body.complete\n",
      "DEBUG:httpcore.http11:response_closed.started\n",
      "DEBUG:httpcore.http11:response_closed.complete\n",
      "DEBUG:openai._base_client:HTTP Request: POST https://api.openai.com/v1/chat/completions \"200 OK\"\n"
     ]
    },
    {
     "name": "stdout",
     "output_type": "stream",
     "text": [
      "ASC 606 (Revenue from Contracts with Customers) and ASC 842 (Leases) interact in several ways. ASC 842 aligns certain concepts with ASC 606, such as determining whether the transfer of an asset is a sale in a sale and leaseback transaction. Additionally, ASC 842 requires lessors to apply specific guidance in ASC 606 to their leasing transactions, particularly in the allocation of consideration in the contract. The FASB clarified that entities do not need to revisit the allocation of contract consideration to lease components for existing unmodified contracts upon the adoption of ASC 842, except when lease classification changes. Furthermore, under ASC 842, certain maintenance activities that were considered executory costs under ASC 840 are now treated as non-lease components and accounted for under ASC 606 by lessors.\n"
     ]
    }
   ],
   "source": [
    "query = \"How does ASC 606 interact with ASC 842?\"\n",
    "chat_history = []\n",
    "response = crc.run({\n",
    "    'question': query,\n",
    "    'chat_history': chat_history\n",
    "})\n",
    "\n",
    "print(response)"
   ]
  },
  {
   "cell_type": "code",
   "execution_count": 4,
   "metadata": {},
   "outputs": [],
   "source": [
    "def get_vector_store():\n",
    "    # Create a client to connect to Qdrant server\n",
    "    client = qdrant_client.QdrantClient(\n",
    "        st.secrets[\"QDRANT_HOST\"],\n",
    "        api_key=st.secrets[\"QDRANT_API_KEY\"]\n",
    "    )\n",
    "\n",
    "    # Initialize embeddings for vector store\n",
    "    embeddings = OpenAIEmbeddings()\n",
    "\n",
    "    # Create a vector store with Qdrant and embeddings\n",
    "    vector_store = Qdrant(client,\n",
    "                          collection_name=st.secrets[\"QDRANT_COLLECTION_NAME\"],\n",
    "                          embeddings=embeddings)\n",
    "    \n",
    "    # Get the number of vectors in the Qdrant collection\n",
    "    collection_info = client.get_collection(collection_name=st.secrets[\"QDRANT_COLLECTION_NAME\"])\n",
    "    vector_count = collection_info.points_count\n",
    "\n",
    "    print(f\"Vector store contains {vector_count} vectors.\")\n",
    "\n",
    "    return vector_store\n",
    "    "
   ]
  }
 ],
 "metadata": {
  "kernelspec": {
   "display_name": "base",
   "language": "python",
   "name": "python3"
  },
  "language_info": {
   "codemirror_mode": {
    "name": "ipython",
    "version": 3
   },
   "file_extension": ".py",
   "mimetype": "text/x-python",
   "name": "python",
   "nbconvert_exporter": "python",
   "pygments_lexer": "ipython3",
   "version": "3.11.5"
  }
 },
 "nbformat": 4,
 "nbformat_minor": 2
}
