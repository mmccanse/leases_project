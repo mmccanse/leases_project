{
 "cells": [
  {
   "cell_type": "code",
   "execution_count": 1,
   "metadata": {},
   "outputs": [],
   "source": [
    "import os\n",
    "from dotenv import load_dotenv\n",
    "import streamlit as st\n",
    "from langchain_community.document_loaders import PyPDFLoader\n",
    "from langchain_text_splitters import RecursiveCharacterTextSplitter\n",
    "from langchain.vectorstores import Qdrant\n",
    "from langchain_openai import OpenAIEmbeddings\n",
    "from langchain.chains import RetrievalQA\n",
    "from langchain_openai import ChatOpenAI, OpenAI\n",
    "from qdrant_client import QdrantClient, models\n",
    "import qdrant_client\n",
    "from langchain.chains import ConversationalRetrievalChain, LLMChain\n",
    "from langchain_core.prompts import PromptTemplate, FewShotPromptTemplate\n",
    "import logging\n",
    "from langchain.chains import create_history_aware_retriever, create_retrieval_chain\n",
    "from langchain.chains.combine_documents import create_stuff_documents_chain\n",
    "from langchain import hub\n",
    "from langchain_core.prompts import ChatPromptTemplate, MessagesPlaceholder\n",
    "logging.basicConfig(level=logging.DEBUG)"
   ]
  },
  {
   "cell_type": "code",
   "execution_count": 2,
   "metadata": {},
   "outputs": [],
   "source": [
    "# Set the model name for LLM\n",
    "OPENAI_MODEL = \"gpt-3.5-turbo\"\n",
    "\n",
    "# Store API key as a variable\n",
    "openai_api_key = st.secrets[\"OPENAI_API_KEY\"]"
   ]
  },
  {
   "cell_type": "code",
   "execution_count": 3,
   "metadata": {},
   "outputs": [],
   "source": [
    "def get_vector_store():\n",
    "    #Create a client to connect to Qdrant server\n",
    "    client = qdrant_client.QdrantClient(\n",
    "        st.secrets[\"QDRANT_HOST\"],\n",
    "        api_key=st.secrets[\"QDRANT_API_KEY\"]\n",
    "        )\n",
    "    \n",
    "    #initialize embeddings for vector store\n",
    "    embeddings = OpenAIEmbeddings(\n",
    "        api_key=openai_api_key,\n",
    "        model=\"text-embedding-3-large\"\n",
    "    )\n",
    "    \n",
    "    # create vector_store with Qdrant and embeddings\n",
    "    vector_store = Qdrant(\n",
    "        client = client,\n",
    "        collection_name = st.secrets[\"QDRANT_COLLECTION_NAME\"],\n",
    "        embeddings = embeddings,\n",
    "    )\n",
    "    \n",
    "    return vector_store"
   ]
  },
  {
   "cell_type": "code",
   "execution_count": 4,
   "metadata": {},
   "outputs": [
    {
     "name": "stderr",
     "output_type": "stream",
     "text": [
      "DEBUG:httpx:load_ssl_context verify=True cert=None trust_env=True http2=False\n",
      "DEBUG:httpx:load_verify_locations cafile='C:\\\\Users\\\\mered\\\\anaconda3\\\\Library\\\\ssl\\\\cacert.pem'\n",
      "DEBUG:httpx:load_ssl_context verify=True cert=None trust_env=True http2=False\n",
      "DEBUG:httpx:load_verify_locations cafile='C:\\\\Users\\\\mered\\\\anaconda3\\\\Library\\\\ssl\\\\cacert.pem'\n",
      "DEBUG:httpx:load_ssl_context verify=True cert=None trust_env=True http2=False\n",
      "DEBUG:httpx:load_verify_locations cafile='C:\\\\Users\\\\mered\\\\anaconda3\\\\Library\\\\ssl\\\\cacert.pem'\n"
     ]
    }
   ],
   "source": [
    "vector_store = get_vector_store()"
   ]
  },
  {
   "cell_type": "code",
   "execution_count": 29,
   "metadata": {},
   "outputs": [],
   "source": [
    "# Create function to setup prompt template\n",
    "def setup_prompt_template():\n",
    "    prefix=\"\"\"You are a leases chatbot. You answer questions relating to ASC 842 under US GAAP. You respond to the queries \n",
    "    as shown in the examples. The responses do not have to be brief. Giving a thorough response with citations from the source \n",
    "    documents is moreimportant than brevity. Each response will be followed by reference from multiple sources with section \n",
    "    numbers or page numbers (whichis in the meta data) from the source documents. The responses will be provided only from \n",
    "    the provided PDF source documents.  The responses will be clear and helpful and will use language that is easy to \n",
    "    understand. Responses will include examples and potential scenarios.  If the answer is not avaiable in the PDF source \n",
    "    documents, the response will be \"I do not have information related to that specific scenario, please seek guidance from \n",
    "    a qualified expert.\" If the question is not on the topic of leases, respond by saying, \"This is outside the scope of what \n",
    "    I can help you with. Let's get back to lease accounting.\" \n",
    "\n",
    "    Below are several examples demonstrating the way in which you will respond to questions. Note that each example provides \n",
    "    a response and then reference to where more information can be found in the source documents.\"\"\"\n",
    "     \n",
    "     # Define examples to instruct app how to respond\n",
    "    examples = [\n",
    "        {\n",
    "            \"input\": \"How do I determine the different lease components?\",\n",
    "            \"answer\": \"\"\"Lease components are elements of the arrangement that provide the customer with the right to use an \n",
    "            identified asset. An entity should consider the right to use an underlying asset to be a separate lease component \n",
    "            if the following 2 conditions are met: 1. Lessee can benefit from the ROU asset either on its own or together with \n",
    "            other readily available resources and 2. The ROU is neither highly dependent on; nor highly interrelated with the \n",
    "            other ROU(s) in the contract. You can find additional information in the following reference documents. References: \n",
    "            KPMG-leaseshandbook section 4.1, PWC-leasesguide0124, section 2.4, EY-financial-reporting-developments-lease-\n",
    "            accounting, section 1.4\"\"\"\n",
    "        },\n",
    "        {\n",
    "            \"input\": \"I am a lessor, how do I account for lease modifications?\",\n",
    "            \"answer\": \"\"\"Several questions must be answered to determine how to appropriately account for lease modifications for \n",
    "            a lessor. Is the modified contract a lease, or does it contain a lease? If yes, does the modification result in a \n",
    "            separate contract? If yes, account for two separate contracts: the unmodified original contract, and a separate \n",
    "            contract accounted for in the same manner as any other new lease. If the modification does not result in a separate \n",
    "            contract, remeasure and reallocate the remaining consideration in the contract, reassess the lease classification at \n",
    "            the modification effective date, and account for any initial direct costs, lease incentives, and other paymetns made to \n",
    "            or by the lessor. Whether or not the lease classification changes, and how it changes drives the appropriate accounting. \n",
    "            You can find additional information in the following reference documents. References: EY - Financial Reporting Developments: \n",
    "            lease accounting, section 5.6, PWC - Leases Guide, section 5.6, KPMG - Leases Handbook, section 7.6\"\"\"\n",
    "        }\n",
    "    ]\n",
    "    \n",
    "    example_prompt = PromptTemplate(input_variables=[\"input\"],\n",
    "                                      template=\"\\nQuestion: {input}\\nAnswer: {answer}\")    \n",
    "    #Define suffix for query\n",
    "    suffix=\"\\n\\nQuestion: {input}\\nResponse: \"\n",
    "    \n",
    "    #Construct FewShotPromptTemplate\n",
    "    prompt_template = FewShotPromptTemplate(\n",
    "                                            examples=examples,\n",
    "                                            example_prompt=example_prompt,\n",
    "                                            input_variables=[\"input\"],\n",
    "                                            prefix=prefix,\n",
    "                                            suffix=suffix,\n",
    "                                            example_separator=\"\\n\")\n",
    "\n",
    "    return prompt_template"
   ]
  },
  {
   "cell_type": "code",
   "execution_count": 30,
   "metadata": {},
   "outputs": [],
   "source": [
    "prompt_template = setup_prompt_template"
   ]
  },
  {
   "cell_type": "code",
   "execution_count": 31,
   "metadata": {},
   "outputs": [],
   "source": [
    "prefix=\"\"\"You are a leases chatbot. You answer questions relating to ASC 842 under US GAAP. You respond to the queries as shown in \n",
    "    the examples. The responses do not have to be brief. Giving a thorough response with citations from the source documents is more\n",
    "    important than brevity. Each response will be followed by reference from multiple sources with section numbers or page numbers (which\n",
    "    is in the meta data) from the source documents. The responses will be provided only from the provided PDF source documents.  \n",
    "    The responses will be clear and helpful and will use language that is easy to understand. Responses will include examples and \n",
    "    potential scenarios.  If the answer is not avaiable in the PDF source documents, the response will be \"I do not have information related \n",
    "    to that specific scenario, please seek guidance from a qualified expert.\" If the question is not on the topic of leases, respond by \n",
    "    saying, \"This is outside the scope of what I can help you with. Let's get back to lease accounting.\" \"\"\""
   ]
  },
  {
   "cell_type": "code",
   "execution_count": 32,
   "metadata": {},
   "outputs": [],
   "source": [
    "examples = [\n",
    "        {\n",
    "            \"input\": \"How do I determine the different lease components?\",\n",
    "            \"answer\": \"\"\"Lease components are elements of the arrangement that provide the customer with the right to use an \n",
    "            identified asset. An entity should consider the right to use an underlying asset to be a separate lease component \n",
    "            if the following 2 conditions are met: 1. Lessee can benefit from the ROU asset either on its own or together with \n",
    "            other readily available resources and 2. The ROU is neither highly dependent on; nor highly interrelated with the other \n",
    "            ROU(s) in the contract. You can find additional information in the following reference documents. References: \n",
    "            KPMG-leaseshandbook section 4.1, PWC-leasesguide0124, section 2.4, EY-financial-reporting-developments-lease-accounting, section 1.4\"\"\"\n",
    "        },\n",
    "        {\n",
    "            \"input\": \"I am a lessor, how do I account for lease modifications?\",\n",
    "            \"answer\": \"\"\"Several questions must be answered to determine how to appropriately account for lease modifications for \n",
    "            a lessor. Is the modified contract a lease, or does it contain a lease? If yes, does the modification result in a \n",
    "            separate contract? If yes, account for two separate contracts: the unmodified original contract, and a separate \n",
    "            contract accounted for in the same manner as any other new lease. If the modification does not result in a separate \n",
    "            contract, remeasure and reallocate the remaining consideration in the contract, reassess the lease classification at \n",
    "            the modification effective date, and account for any initial direct costs, lease incentives, and other paymetns made to \n",
    "            or by the lessor. Whether or not the lease classification changes, and how it changes drives the appropriate accounting. \n",
    "            You can find additional information in the following reference documents. References: EY - Financial Reporting Developments: \n",
    "            lease accounting, section 5.6, PWC - Leases Guide, section 5.6, KPMG - Leases Handbook, section 7.6\"\"\"\n",
    "        }\n",
    "    ]"
   ]
  },
  {
   "cell_type": "code",
   "execution_count": 33,
   "metadata": {},
   "outputs": [
    {
     "name": "stdout",
     "output_type": "stream",
     "text": [
      "\n",
      "Question: How do I determine the different lease components?\n",
      "\n",
      "Answer: Lease components are elements of the arrangement that provide the customer with the right to use an \n",
      "            identified asset. An entity should consider the right to use an underlying asset to be a separate lease component \n",
      "            if the following 2 conditions are met: 1. Lessee can benefit from the ROU asset either on its own or together with \n",
      "            other readily available resources and 2. The ROU is neither highly dependent on; nor highly interrelated with the other \n",
      "            ROU(s) in the contract. You can find additional information in the following reference documents. References: \n",
      "            KPMG-leaseshandbook section 4.1, PWC-leasesguide0124, section 2.4, EY-financial-reporting-developments-lease-accounting, section 1.4\n"
     ]
    }
   ],
   "source": [
    "example_prompt = PromptTemplate(input_variables=[\"input\"],\n",
    "                                      template=\"\\nQuestion: {input}\\n\\nAnswer: {answer}\") \n",
    "print(example_prompt.format(**examples[0]))"
   ]
  },
  {
   "cell_type": "code",
   "execution_count": 34,
   "metadata": {},
   "outputs": [],
   "source": [
    "suffix=\"\\n\\nQuestion: {input}\\nAnswer: \""
   ]
  },
  {
   "cell_type": "code",
   "execution_count": 35,
   "metadata": {},
   "outputs": [],
   "source": [
    "prompt_template = FewShotPromptTemplate(\n",
    "                                        examples=examples,\n",
    "                                        example_prompt=example_prompt,\n",
    "                                        input_variables=[\"input\"],\n",
    "                                        prefix=prefix,\n",
    "                                        suffix=suffix,\n",
    "                                        example_separator=\"\\n\")"
   ]
  },
  {
   "cell_type": "code",
   "execution_count": 36,
   "metadata": {},
   "outputs": [
    {
     "name": "stdout",
     "output_type": "stream",
     "text": [
      "You are a leases chatbot. You answer questions relating to ASC 842 under US GAAP. You respond to the queries as shown in \n",
      "    the examples. The responses do not have to be brief. Giving a thorough response with citations from the source documents is more\n",
      "    important than brevity. Each response will be followed by reference from multiple sources with section numbers or page numbers (which\n",
      "    is in the meta data) from the source documents. The responses will be provided only from the provided PDF source documents.  \n",
      "    The responses will be clear and helpful and will use language that is easy to understand. Responses will include examples and \n",
      "    potential scenarios.  If the answer is not avaiable in the PDF source documents, the response will be \"I do not have information related \n",
      "    to that specific scenario, please seek guidance from a qualified expert.\" If the question is not on the topic of leases, respond by \n",
      "    saying, \"This is outside the scope of what I can help you with. Let's get back to lease accounting.\" \n",
      "\n",
      "Question: How do I determine the different lease components?\n",
      "\n",
      "Answer: Lease components are elements of the arrangement that provide the customer with the right to use an \n",
      "            identified asset. An entity should consider the right to use an underlying asset to be a separate lease component \n",
      "            if the following 2 conditions are met: 1. Lessee can benefit from the ROU asset either on its own or together with \n",
      "            other readily available resources and 2. The ROU is neither highly dependent on; nor highly interrelated with the other \n",
      "            ROU(s) in the contract. You can find additional information in the following reference documents. References: \n",
      "            KPMG-leaseshandbook section 4.1, PWC-leasesguide0124, section 2.4, EY-financial-reporting-developments-lease-accounting, section 1.4\n",
      "\n",
      "Question: I am a lessor, how do I account for lease modifications?\n",
      "\n",
      "Answer: Several questions must be answered to determine how to appropriately account for lease modifications for \n",
      "            a lessor. Is the modified contract a lease, or does it contain a lease? If yes, does the modification result in a \n",
      "            separate contract? If yes, account for two separate contracts: the unmodified original contract, and a separate \n",
      "            contract accounted for in the same manner as any other new lease. If the modification does not result in a separate \n",
      "            contract, remeasure and reallocate the remaining consideration in the contract, reassess the lease classification at \n",
      "            the modification effective date, and account for any initial direct costs, lease incentives, and other paymetns made to \n",
      "            or by the lessor. Whether or not the lease classification changes, and how it changes drives the appropriate accounting. \n",
      "            You can find additional information in the following reference documents. References: EY - Financial Reporting Developments: \n",
      "            lease accounting, section 5.6, PWC - Leases Guide, section 5.6, KPMG - Leases Handbook, section 7.6\n",
      "\n",
      "\n",
      "Question: What are the disclosure requirements under ASC 842?\n",
      "Answer: \n"
     ]
    }
   ],
   "source": [
    "print(prompt_template.format(input=\"What are the disclosure requirements under ASC 842?\"))"
   ]
  },
  {
   "cell_type": "code",
   "execution_count": 37,
   "metadata": {},
   "outputs": [
    {
     "name": "stdout",
     "output_type": "stream",
     "text": [
      "input_variables=['input'] examples=[{'input': 'How do I determine the different lease components?', 'answer': 'Lease components are elements of the arrangement that provide the customer with the right to use an \\n            identified asset. An entity should consider the right to use an underlying asset to be a separate lease component \\n            if the following 2 conditions are met: 1. Lessee can benefit from the ROU asset either on its own or together with \\n            other readily available resources and 2. The ROU is neither highly dependent on; nor highly interrelated with the \\n            other ROU(s) in the contract. You can find additional information in the following reference documents. References: \\n            KPMG-leaseshandbook section 4.1, PWC-leasesguide0124, section 2.4, EY-financial-reporting-developments-lease-\\n            accounting, section 1.4'}, {'input': 'I am a lessor, how do I account for lease modifications?', 'answer': 'Several questions must be answered to determine how to appropriately account for lease modifications for \\n            a lessor. Is the modified contract a lease, or does it contain a lease? If yes, does the modification result in a \\n            separate contract? If yes, account for two separate contracts: the unmodified original contract, and a separate \\n            contract accounted for in the same manner as any other new lease. If the modification does not result in a separate \\n            contract, remeasure and reallocate the remaining consideration in the contract, reassess the lease classification at \\n            the modification effective date, and account for any initial direct costs, lease incentives, and other paymetns made to \\n            or by the lessor. Whether or not the lease classification changes, and how it changes drives the appropriate accounting. \\n            You can find additional information in the following reference documents. References: EY - Financial Reporting Developments: \\n            lease accounting, section 5.6, PWC - Leases Guide, section 5.6, KPMG - Leases Handbook, section 7.6'}] example_prompt=PromptTemplate(input_variables=['answer', 'input'], template='\\nQuestion: {input}\\nAnswer: {answer}') suffix='\\n\\nQuestion: {input}\\nResponse: ' example_separator='\\n' prefix='You are a leases chatbot. You answer questions relating to ASC 842 under US GAAP. You respond to the queries \\n    as shown in the examples. The responses do not have to be brief. Giving a thorough response with citations from the source \\n    documents is moreimportant than brevity. Each response will be followed by reference from multiple sources with section \\n    numbers or page numbers (whichis in the meta data) from the source documents. The responses will be provided only from \\n    the provided PDF source documents.  The responses will be clear and helpful and will use language that is easy to \\n    understand. Responses will include examples and potential scenarios.  If the answer is not avaiable in the PDF source \\n    documents, the response will be \"I do not have information related to that specific scenario, please seek guidance from \\n    a qualified expert.\" If the question is not on the topic of leases, respond by saying, \"This is outside the scope of what \\n    I can help you with. Let\\'s get back to lease accounting.\" \\n\\n    Below are several examples demonstrating the way in which you will respond to questions. Note that each example provides \\n    a response and then reference to where more information can be found in the source documents.'\n"
     ]
    }
   ],
   "source": [
    "#initialize prompt template\n",
    "prompt_template = setup_prompt_template()\n",
    "print(prompt_template)"
   ]
  },
  {
   "cell_type": "code",
   "execution_count": 39,
   "metadata": {},
   "outputs": [],
   "source": [
    "input = \"What are the disclosure requirements under ASC 842?\"\n",
    "llm = ChatOpenAI(api_key=openai_api_key, model=OPENAI_MODEL)\n",
    "retriever = vector_store.as_retriever()\n",
    "retriever_chain = create_history_aware_retriever(llm, retriever, prompt_template)"
   ]
  },
  {
   "cell_type": "code",
   "execution_count": 46,
   "metadata": {},
   "outputs": [],
   "source": [
    "from langchain_core.messages import HumanMessage, AIMessage\n",
    "\n",
    "chat_history = [HumanMessage(content=\"In what ways does ASC 842 intersect with ASC 606?\"), AIMessage(content=\"ASC 842 and ASC 606 intersect in several ways. ASC 842 aligns certain concepts with ASC 606, such as determining whether the transfer of an asset is a sale in a sale and leaseback transaction. Additionally, ASC 842 requires lessors to apply specific guidance in ASC 606 to their leasing transactions, particularly for the allocation of consideration in the contract. The FASB clarified that existing unmodified contracts do not need to revisit the allocation of contract consideration to lease components upon the adoption of ASC 842, except when lease classification changes. Overall, the alignment between ASC 842 and ASC 606 aims to provide consistency and clarity in lease and revenue recognition accounting practices.\")]"
   ]
  },
  {
   "cell_type": "code",
   "execution_count": null,
   "metadata": {},
   "outputs": [],
   "source": [
    "retriever_chain.invoke({\"chat_history\": chat_history,\n",
    "                        \"input\": input})"
   ]
  },
  {
   "cell_type": "code",
   "execution_count": null,
   "metadata": {},
   "outputs": [],
   "source": [
    "# combine_docs_chain = create_stuff_documents_chain(llm, prompt_template)\n",
    "# retrieval_chain = create_retrieval_chain(retriever, combine_docs_chain)"
   ]
  },
  {
   "cell_type": "code",
   "execution_count": null,
   "metadata": {},
   "outputs": [],
   "source": [
    "# #initialize create retrieval chain (experiment)\n",
    "# def initialize_createrc(vector_store):\n",
    "#     llm = ChatOpenAI(model=OPENAI_MODEL, temperature=0, api_key=openai_api_key)\n",
    "#     retriever=vector_store.as_retriever()\n",
    "#     contextualize_q_system_prompt = (\"\"\"\"Given a chat history and the latest user question \"\n",
    "#     \"which might reference context in the chat history, \"\n",
    "#     \"formulate a standalone question which can be understood \"\n",
    "#     \"without the chat history. Do NOT answer the question, just \"\n",
    "#     \"reformulate it if needed and otherwise return it as is.\"\"\")\n",
    "    \n",
    "#     contextualize_q_prompt = ChatPromptTemplate.from_messages(\n",
    "#         [\n",
    "#             (\"system\", contextualize_q_system_prompt),\n",
    "#             MessagesPlaceholder(\"chat_history\"),\n",
    "#             (\"human\", \"{input}\"),\n",
    "#         ]\n",
    "#     )\n",
    "#     history_aware_retriever = create_history_aware_retriever(\n",
    "#         llm, retriever, contextualize_q_prompt\n",
    "#     )\n",
    "    \n",
    "#     # setup for answering the question\n",
    "#     qa_system_prompt = (\n",
    "#         \"\"\"You are a leases chatbot. You answer questions relating to ASC 842 under US GAAP. You respond to the queries as shown in \n",
    "#         the examples. Each response will be followed by reference from multiple sources with section numbers from the source documents. \n",
    "#         The responses will be provided only from the provided PDF source documents.  The responses will be clear and helpful and will use \n",
    "#         language that is easy to understand. Responses will include examples and potential scenarios.  If the answer is not avaiable in\n",
    "#         the PDF source documents, the response will be \"I do not have information related to that specific scenario, please seek guidance\n",
    "#         from a qualified expert.\" \"\"\"\n",
    "#     )\n",
    "#     qa_prompt = ChatPromptTemplate.from_messages(\n",
    "#         [\n",
    "#             (\"system\", qa_system_prompt),\n",
    "#             MessagesPlaceholder(\"retrieved_documents\"),\n",
    "#             (\"human\", \"{context}\"),\n",
    "#         ]\n",
    "#     )\n",
    "    \n",
    "#     # Combine the documents and use the LLM to generate an answer\n",
    "#     stuff_documents_chain = create_stuff_documents_chain(llm, qa_prompt)\n",
    "    \n",
    "#     # Create the complete retrieval chain\n",
    "#     crc = create_retrieval_chain(history_aware_retriever, stuff_documents_chain)\n",
    "\n",
    "#     return crc"
   ]
  },
  {
   "cell_type": "code",
   "execution_count": null,
   "metadata": {},
   "outputs": [],
   "source": [
    "# #initialize conversational retrieval chain\n",
    "# def initialize_crc(vector_store):\n",
    "#     llm = ChatOpenAI(model=OPENAI_MODEL, temperature=0, api_key=openai_api_key)\n",
    "#     retriever=vector_store.as_retriever()\n",
    "#     crc = ConversationalRetrievalChain.from_llm(llm, retriever)\n",
    "#     # st.session_state['crc'] = crc\n",
    "#     # st.success('Source documents loaded!')\n",
    "#     return crc "
   ]
  }
 ],
 "metadata": {
  "kernelspec": {
   "display_name": "base",
   "language": "python",
   "name": "python3"
  },
  "language_info": {
   "codemirror_mode": {
    "name": "ipython",
    "version": 3
   },
   "file_extension": ".py",
   "mimetype": "text/x-python",
   "name": "python",
   "nbconvert_exporter": "python",
   "pygments_lexer": "ipython3",
   "version": "3.11.5"
  }
 },
 "nbformat": 4,
 "nbformat_minor": 2
}
