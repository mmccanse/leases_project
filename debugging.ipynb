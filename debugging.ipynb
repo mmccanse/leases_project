{
 "cells": [
  {
   "cell_type": "code",
   "execution_count": 1,
   "metadata": {},
   "outputs": [],
   "source": [
    "import os\n",
    "from dotenv import load_dotenv\n",
    "import streamlit as st\n",
    "from langchain_community.document_loaders import PyPDFLoader\n",
    "from langchain_text_splitters import RecursiveCharacterTextSplitter\n",
    "from langchain.vectorstores import Qdrant\n",
    "from langchain_openai import OpenAIEmbeddings\n",
    "from langchain.chains import RetrievalQA\n",
    "from langchain_openai import ChatOpenAI, OpenAI\n",
    "from qdrant_client import QdrantClient, models\n",
    "import qdrant_client\n",
    "from langchain.chains import ConversationalRetrievalChain, LLMChain\n",
    "from langchain_core.prompts import PromptTemplate, FewShotPromptTemplate\n",
    "import logging\n",
    "from langchain.chains import create_history_aware_retriever, create_retrieval_chain\n",
    "from langchain.chains import (\n",
    "    StuffDocumentsChain, LLMChain, ConversationalRetrievalChain\n",
    ")\n",
    "\n",
    "from langchain.chains.combine_documents import create_stuff_documents_chain\n",
    "from langchain import hub\n",
    "from langchain_core.prompts import ChatPromptTemplate, MessagesPlaceholder\n",
    "logging.basicConfig(level=logging.DEBUG)"
   ]
  },
  {
   "cell_type": "code",
   "execution_count": 2,
   "metadata": {},
   "outputs": [],
   "source": [
    "# Set the model name for LLM\n",
    "OPENAI_MODEL = \"gpt-3.5-turbo\"\n",
    "\n",
    "# Store API key as a variable\n",
    "openai_api_key = st.secrets[\"OPENAI_API_KEY\"]"
   ]
  },
  {
   "cell_type": "code",
   "execution_count": 3,
   "metadata": {},
   "outputs": [],
   "source": [
    "def get_vector_store():\n",
    "    #Create a client to connect to Qdrant server\n",
    "    client = qdrant_client.QdrantClient(\n",
    "        st.secrets[\"QDRANT_HOST\"],\n",
    "        api_key=st.secrets[\"QDRANT_API_KEY\"]\n",
    "        )\n",
    "    \n",
    "    #initialize embeddings for vector store\n",
    "    embeddings = OpenAIEmbeddings(\n",
    "        api_key=openai_api_key,\n",
    "        model=\"text-embedding-3-large\"\n",
    "    )\n",
    "    \n",
    "    # create vector_store with Qdrant and embeddings\n",
    "    vector_store = Qdrant(\n",
    "        client = client,\n",
    "        collection_name = st.secrets[\"QDRANT_COLLECTION_NAME\"],\n",
    "        embeddings = embeddings,\n",
    "    )\n",
    "    \n",
    "    return vector_store"
   ]
  },
  {
   "cell_type": "code",
   "execution_count": 4,
   "metadata": {},
   "outputs": [
    {
     "name": "stderr",
     "output_type": "stream",
     "text": [
      "DEBUG:httpx:load_ssl_context verify=True cert=None trust_env=True http2=False\n",
      "DEBUG:httpx:load_verify_locations cafile='C:\\\\Users\\\\mered\\\\anaconda3\\\\Library\\\\ssl\\\\cacert.pem'\n",
      "DEBUG:httpx:load_ssl_context verify=True cert=None trust_env=True http2=False\n",
      "DEBUG:httpx:load_verify_locations cafile='C:\\\\Users\\\\mered\\\\anaconda3\\\\Library\\\\ssl\\\\cacert.pem'\n",
      "DEBUG:httpx:load_ssl_context verify=True cert=None trust_env=True http2=False\n",
      "DEBUG:httpx:load_verify_locations cafile='C:\\\\Users\\\\mered\\\\anaconda3\\\\Library\\\\ssl\\\\cacert.pem'\n"
     ]
    }
   ],
   "source": [
    "vector_store = get_vector_store()"
   ]
  },
  {
   "cell_type": "code",
   "execution_count": 5,
   "metadata": {},
   "outputs": [],
   "source": [
    "# # Create function to setup prompt template\n",
    "# def setup_prompt_template():\n",
    "#     prefix=\"\"\"You are a leases chatbot. You answer questions relating to ASC 842 under US GAAP. You respond to the queries \n",
    "#     as shown in the examples. The responses do not have to be brief. Giving a thorough response with citations from the source \n",
    "#     documents is moreimportant than brevity. Each response will be followed by reference from multiple sources with section \n",
    "#     numbers or page numbers (whichis in the meta data) from the source documents. The responses will be provided only from \n",
    "#     the provided PDF source documents.  The responses will be clear and helpful and will use language that is easy to \n",
    "#     understand. Responses will include examples and potential scenarios.  If the answer is not avaiable in the PDF source \n",
    "#     documents, the response will be \"I do not have information related to that specific scenario, please seek guidance from \n",
    "#     a qualified expert.\" If the question is not on the topic of leases, respond by saying, \"This is outside the scope of what \n",
    "#     I can help you with. Let's get back to lease accounting.\" \n",
    "\n",
    "#     Below are several examples demonstrating the way in which you will respond to questions. Note that each example provides \n",
    "#     a response and then reference to where more information can be found in the source documents.\"\"\"\n",
    "     \n",
    "#      # Define examples to instruct app how to respond\n",
    "#     examples = [\n",
    "#         {\n",
    "#             \"input\": \"How do I determine the different lease components?\",\n",
    "#             \"answer\": \"\"\"Lease components are elements of the arrangement that provide the customer with the right to use an \n",
    "#             identified asset. An entity should consider the right to use an underlying asset to be a separate lease component \n",
    "#             if the following 2 conditions are met: 1. Lessee can benefit from the ROU asset either on its own or together with \n",
    "#             other readily available resources and 2. The ROU is neither highly dependent on; nor highly interrelated with the \n",
    "#             other ROU(s) in the contract. You can find additional information in the following reference documents. References: \n",
    "#             KPMG-leaseshandbook section 4.1, PWC-leasesguide0124, section 2.4, EY-financial-reporting-developments-lease-\n",
    "#             accounting, section 1.4\"\"\"\n",
    "#         },\n",
    "#         {\n",
    "#             \"input\": \"I am a lessor, how do I account for lease modifications?\",\n",
    "#             \"answer\": \"\"\"Several questions must be answered to determine how to appropriately account for lease modifications for \n",
    "#             a lessor. Is the modified contract a lease, or does it contain a lease? If yes, does the modification result in a \n",
    "#             separate contract? If yes, account for two separate contracts: the unmodified original contract, and a separate \n",
    "#             contract accounted for in the same manner as any other new lease. If the modification does not result in a separate \n",
    "#             contract, remeasure and reallocate the remaining consideration in the contract, reassess the lease classification at \n",
    "#             the modification effective date, and account for any initial direct costs, lease incentives, and other paymetns made to \n",
    "#             or by the lessor. Whether or not the lease classification changes, and how it changes drives the appropriate accounting. \n",
    "#             You can find additional information in the following reference documents. References: EY - Financial Reporting Developments: \n",
    "#             lease accounting, section 5.6, PWC - Leases Guide, section 5.6, KPMG - Leases Handbook, section 7.6\"\"\"\n",
    "#         }\n",
    "#     ]\n",
    "    \n",
    "#     example_prompt = PromptTemplate(input_variables=[\"input\"],\n",
    "#                                       template=\"\\nQuestion: {input}\\nAnswer: {answer}\")    \n",
    "#     #Define suffix for query\n",
    "#     suffix=\"\\n\\nQuestion: {input}\\nResponse: \"\n",
    "    \n",
    "#     #Construct FewShotPromptTemplate\n",
    "#     prompt_template = FewShotPromptTemplate(\n",
    "#                                             examples=examples,\n",
    "#                                             example_prompt=example_prompt,\n",
    "#                                             input_variables=[\"input\"],\n",
    "#                                             prefix=prefix,\n",
    "#                                             suffix=suffix,\n",
    "#                                             example_separator=\"\\n\")\n",
    "\n",
    "#     return prompt_template"
   ]
  },
  {
   "cell_type": "code",
   "execution_count": 6,
   "metadata": {},
   "outputs": [],
   "source": [
    "# prompt_template = setup_prompt_template"
   ]
  },
  {
   "cell_type": "code",
   "execution_count": 7,
   "metadata": {},
   "outputs": [],
   "source": [
    "prefix=\"\"\"You are a leases chatbot. You answer questions relating to ASC 842 under US GAAP. You respond to the queries as shown in \n",
    "    the examples. The responses do not have to be brief. Giving a thorough response with citations from the source documents is more\n",
    "    important than brevity. Each response will be followed by reference from multiple sources with section numbers or page numbers (which\n",
    "    is in the meta data) from the context documents. The responses will be provided only from the provided PDF source documents.  \n",
    "    The responses will be clear and helpful and will use language that is easy to understand. Responses will include examples and \n",
    "    potential scenarios.  If the answer is not avaiable in the PDF source documents, the response will be \"I do not have information related \n",
    "    to that specific scenario, please seek guidance from a qualified expert.\" If the question is not on the topic of leases, respond by \n",
    "    saying, \"This is outside the scope of what I can help you with. Let's get back to lease accounting.\" \n",
    "    \n",
    "    You will answer the input question based on the provided context:\n",
    "    \n",
    "    <context>\n",
    "    {context}\n",
    "    </context>\n",
    "    \n",
    "    You will use the provided examples for guidance on how to construct your responses. Your responses should be similar.\"\"\""
   ]
  },
  {
   "cell_type": "code",
   "execution_count": 8,
   "metadata": {},
   "outputs": [],
   "source": [
    "examples = [\n",
    "        {\n",
    "            \"input\": \"How do I determine the different lease components?\",\n",
    "            \"answer\": \"\"\"Lease components are elements of the arrangement that provide the customer with the right to use an \n",
    "            identified asset. An entity should consider the right to use an underlying asset to be a separate lease component \n",
    "            if the following 2 conditions are met: 1. Lessee can benefit from the ROU asset either on its own or together with \n",
    "            other readily available resources and 2. The ROU is neither highly dependent on; nor highly interrelated with the other \n",
    "            ROU(s) in the contract. You can find additional information in the following reference documents. References: \n",
    "            KPMG-leaseshandbook section 4.1, PWC-leasesguide0124, section 2.4, EY-financial-reporting-developments-lease-accounting, section 1.4\"\"\"\n",
    "        },\n",
    "        {\n",
    "            \"input\": \"I am a lessor, how do I account for lease modifications?\",\n",
    "            \"answer\": \"\"\"Several questions must be answered to determine how to appropriately account for lease modifications for \n",
    "            a lessor. Is the modified contract a lease, or does it contain a lease? If yes, does the modification result in a \n",
    "            separate contract? If yes, account for two separate contracts: the unmodified original contract, and a separate \n",
    "            contract accounted for in the same manner as any other new lease. If the modification does not result in a separate \n",
    "            contract, remeasure and reallocate the remaining consideration in the contract, reassess the lease classification at \n",
    "            the modification effective date, and account for any initial direct costs, lease incentives, and other paymetns made to \n",
    "            or by the lessor. Whether or not the lease classification changes, and how it changes drives the appropriate accounting. \n",
    "            You can find additional information in the following reference documents. References: EY - Financial Reporting Developments: \n",
    "            lease accounting, section 5.6, PWC - Leases Guide, section 5.6, KPMG - Leases Handbook, section 7.6\"\"\"\n",
    "        }\n",
    "    ]"
   ]
  },
  {
   "cell_type": "code",
   "execution_count": 9,
   "metadata": {},
   "outputs": [
    {
     "name": "stdout",
     "output_type": "stream",
     "text": [
      "\n",
      "Question: How do I determine the different lease components?\n",
      "\n",
      "Answer: Lease components are elements of the arrangement that provide the customer with the right to use an \n",
      "            identified asset. An entity should consider the right to use an underlying asset to be a separate lease component \n",
      "            if the following 2 conditions are met: 1. Lessee can benefit from the ROU asset either on its own or together with \n",
      "            other readily available resources and 2. The ROU is neither highly dependent on; nor highly interrelated with the other \n",
      "            ROU(s) in the contract. You can find additional information in the following reference documents. References: \n",
      "            KPMG-leaseshandbook section 4.1, PWC-leasesguide0124, section 2.4, EY-financial-reporting-developments-lease-accounting, section 1.4\n"
     ]
    }
   ],
   "source": [
    "example_prompt = PromptTemplate(input_variables=['input', 'context'],\n",
    "                                      template=\"\\nQuestion: {input}\\n\\nAnswer: {answer}\") \n",
    "print(example_prompt.format(**examples[0]))"
   ]
  },
  {
   "cell_type": "code",
   "execution_count": 10,
   "metadata": {},
   "outputs": [],
   "source": [
    "suffix=\"\\n\\nQuestion: {input}\\nAnswer: \""
   ]
  },
  {
   "cell_type": "code",
   "execution_count": 11,
   "metadata": {},
   "outputs": [],
   "source": [
    "prompt_template = FewShotPromptTemplate(\n",
    "                                        examples=examples,\n",
    "                                        example_prompt=example_prompt,\n",
    "                                        input_variables=['input','context'],\n",
    "                                        prefix=prefix,\n",
    "                                        suffix=suffix,\n",
    "                                        example_separator=\"\\n\")"
   ]
  },
  {
   "cell_type": "code",
   "execution_count": 12,
   "metadata": {},
   "outputs": [
    {
     "name": "stdout",
     "output_type": "stream",
     "text": [
      "You are a leases chatbot. You answer questions relating to ASC 842 under US GAAP. You respond to the queries as shown in \n",
      "    the examples. The responses do not have to be brief. Giving a thorough response with citations from the source documents is more\n",
      "    important than brevity. Each response will be followed by reference from multiple sources with section numbers or page numbers (which\n",
      "    is in the meta data) from the context documents. The responses will be provided only from the provided PDF source documents.  \n",
      "    The responses will be clear and helpful and will use language that is easy to understand. Responses will include examples and \n",
      "    potential scenarios.  If the answer is not avaiable in the PDF source documents, the response will be \"I do not have information related \n",
      "    to that specific scenario, please seek guidance from a qualified expert.\" If the question is not on the topic of leases, respond by \n",
      "    saying, \"This is outside the scope of what I can help you with. Let's get back to lease accounting.\" \n",
      "    \n",
      "    You will answer the input question based on the provided context:\n",
      "    \n",
      "    <context>\n",
      "    the disclosures are terrible!\n",
      "    </context>\n",
      "    \n",
      "    You will use the provided examples for guidance on how to construct your responses. Your responses should be similar.\n",
      "\n",
      "Question: How do I determine the different lease components?\n",
      "\n",
      "Answer: Lease components are elements of the arrangement that provide the customer with the right to use an \n",
      "            identified asset. An entity should consider the right to use an underlying asset to be a separate lease component \n",
      "            if the following 2 conditions are met: 1. Lessee can benefit from the ROU asset either on its own or together with \n",
      "            other readily available resources and 2. The ROU is neither highly dependent on; nor highly interrelated with the other \n",
      "            ROU(s) in the contract. You can find additional information in the following reference documents. References: \n",
      "            KPMG-leaseshandbook section 4.1, PWC-leasesguide0124, section 2.4, EY-financial-reporting-developments-lease-accounting, section 1.4\n",
      "\n",
      "Question: I am a lessor, how do I account for lease modifications?\n",
      "\n",
      "Answer: Several questions must be answered to determine how to appropriately account for lease modifications for \n",
      "            a lessor. Is the modified contract a lease, or does it contain a lease? If yes, does the modification result in a \n",
      "            separate contract? If yes, account for two separate contracts: the unmodified original contract, and a separate \n",
      "            contract accounted for in the same manner as any other new lease. If the modification does not result in a separate \n",
      "            contract, remeasure and reallocate the remaining consideration in the contract, reassess the lease classification at \n",
      "            the modification effective date, and account for any initial direct costs, lease incentives, and other paymetns made to \n",
      "            or by the lessor. Whether or not the lease classification changes, and how it changes drives the appropriate accounting. \n",
      "            You can find additional information in the following reference documents. References: EY - Financial Reporting Developments: \n",
      "            lease accounting, section 5.6, PWC - Leases Guide, section 5.6, KPMG - Leases Handbook, section 7.6\n",
      "\n",
      "\n",
      "Question: What are the disclosure requirements under ASC 842?\n",
      "Answer: \n"
     ]
    }
   ],
   "source": [
    "print(prompt_template.format(input=\"What are the disclosure requirements under ASC 842?\", context = \"the disclosures are terrible!\"))"
   ]
  },
  {
   "cell_type": "code",
   "execution_count": 13,
   "metadata": {},
   "outputs": [
    {
     "ename": "NameError",
     "evalue": "name 'setup_prompt_template' is not defined",
     "output_type": "error",
     "traceback": [
      "\u001b[1;31m---------------------------------------------------------------------------\u001b[0m",
      "\u001b[1;31mNameError\u001b[0m                                 Traceback (most recent call last)",
      "Cell \u001b[1;32mIn[13], line 2\u001b[0m\n\u001b[0;32m      1\u001b[0m \u001b[38;5;66;03m#initialize prompt template\u001b[39;00m\n\u001b[1;32m----> 2\u001b[0m prompt_template \u001b[38;5;241m=\u001b[39m setup_prompt_template()\n\u001b[0;32m      3\u001b[0m \u001b[38;5;28mprint\u001b[39m(prompt_template)\n",
      "\u001b[1;31mNameError\u001b[0m: name 'setup_prompt_template' is not defined"
     ]
    }
   ],
   "source": [
    "#initialize prompt template\n",
    "prompt_template = setup_prompt_template()\n",
    "print(prompt_template)"
   ]
  },
  {
   "cell_type": "code",
   "execution_count": 14,
   "metadata": {},
   "outputs": [
    {
     "name": "stderr",
     "output_type": "stream",
     "text": [
      "DEBUG:httpx:load_ssl_context verify=True cert=None trust_env=True http2=False\n",
      "DEBUG:httpx:load_verify_locations cafile='C:\\\\Users\\\\mered\\\\anaconda3\\\\Library\\\\ssl\\\\cacert.pem'\n",
      "DEBUG:httpx:load_ssl_context verify=True cert=None trust_env=True http2=False\n",
      "DEBUG:httpx:load_verify_locations cafile='C:\\\\Users\\\\mered\\\\anaconda3\\\\Library\\\\ssl\\\\cacert.pem'\n"
     ]
    }
   ],
   "source": [
    "input = \"What are the disclosure requirements under ASC 842?\"\n",
    "llm = ChatOpenAI(api_key=openai_api_key, model=OPENAI_MODEL)\n",
    "retriever = vector_store.as_retriever()\n",
    "history_aware_retriever_chain = create_history_aware_retriever(llm, retriever, prompt_template)"
   ]
  },
  {
   "cell_type": "code",
   "execution_count": null,
   "metadata": {},
   "outputs": [],
   "source": [
    "from langchain_core.messages import HumanMessage, AIMessage\n",
    "\n",
    "chat_history = [HumanMessage(content=\"In what ways does ASC 842 intersect with ASC 606?\"), AIMessage(content=\"ASC 842 and ASC 606 intersect in several ways. ASC 842 aligns certain concepts with ASC 606, such as determining whether the transfer of an asset is a sale in a sale and leaseback transaction. Additionally, ASC 842 requires lessors to apply specific guidance in ASC 606 to their leasing transactions, particularly for the allocation of consideration in the contract. The FASB clarified that existing unmodified contracts do not need to revisit the allocation of contract consideration to lease components upon the adoption of ASC 842, except when lease classification changes. Overall, the alignment between ASC 842 and ASC 606 aims to provide consistency and clarity in lease and revenue recognition accounting practices.\")]"
   ]
  },
  {
   "cell_type": "code",
   "execution_count": 17,
   "metadata": {},
   "outputs": [],
   "source": [
    "chat_history = \" \"\n",
    "context = \"the disclosures are terrible!\""
   ]
  },
  {
   "cell_type": "code",
   "execution_count": 18,
   "metadata": {},
   "outputs": [
    {
     "name": "stderr",
     "output_type": "stream",
     "text": [
      "DEBUG:openai._base_client:Request options: {'method': 'post', 'url': '/chat/completions', 'files': None, 'json_data': {'messages': [{'content': 'You are a leases chatbot. You answer questions relating to ASC 842 under US GAAP. You respond to the queries as shown in \\n    the examples. The responses do not have to be brief. Giving a thorough response with citations from the source documents is more\\n    important than brevity. Each response will be followed by reference from multiple sources with section numbers or page numbers (which\\n    is in the meta data) from the context documents. The responses will be provided only from the provided PDF source documents.  \\n    The responses will be clear and helpful and will use language that is easy to understand. Responses will include examples and \\n    potential scenarios.  If the answer is not avaiable in the PDF source documents, the response will be \"I do not have information related \\n    to that specific scenario, please seek guidance from a qualified expert.\" If the question is not on the topic of leases, respond by \\n    saying, \"This is outside the scope of what I can help you with. Let\\'s get back to lease accounting.\" \\n    \\n    You will answer the input question based on the provided context:\\n    \\n    <context>\\n    the disclosures are terrible!\\n    </context>\\n    \\n    You will use the provided examples for guidance on how to construct your responses. Your responses should be similar.\\n\\nQuestion: How do I determine the different lease components?\\n\\nAnswer: Lease components are elements of the arrangement that provide the customer with the right to use an \\n            identified asset. An entity should consider the right to use an underlying asset to be a separate lease component \\n            if the following 2 conditions are met: 1. Lessee can benefit from the ROU asset either on its own or together with \\n            other readily available resources and 2. The ROU is neither highly dependent on; nor highly interrelated with the other \\n            ROU(s) in the contract. You can find additional information in the following reference documents. References: \\n            KPMG-leaseshandbook section 4.1, PWC-leasesguide0124, section 2.4, EY-financial-reporting-developments-lease-accounting, section 1.4\\n\\nQuestion: I am a lessor, how do I account for lease modifications?\\n\\nAnswer: Several questions must be answered to determine how to appropriately account for lease modifications for \\n            a lessor. Is the modified contract a lease, or does it contain a lease? If yes, does the modification result in a \\n            separate contract? If yes, account for two separate contracts: the unmodified original contract, and a separate \\n            contract accounted for in the same manner as any other new lease. If the modification does not result in a separate \\n            contract, remeasure and reallocate the remaining consideration in the contract, reassess the lease classification at \\n            the modification effective date, and account for any initial direct costs, lease incentives, and other paymetns made to \\n            or by the lessor. Whether or not the lease classification changes, and how it changes drives the appropriate accounting. \\n            You can find additional information in the following reference documents. References: EY - Financial Reporting Developments: \\n            lease accounting, section 5.6, PWC - Leases Guide, section 5.6, KPMG - Leases Handbook, section 7.6\\n\\n\\nQuestion: What are the disclosure requirements under ASC 842?\\nAnswer: ', 'role': 'user'}], 'model': 'gpt-3.5-turbo', 'n': 1, 'stream': False, 'temperature': 0.7}}\n",
      "DEBUG:httpcore.connection:connect_tcp.started host='api.openai.com' port=443 local_address=None timeout=None socket_options=None\n",
      "DEBUG:httpcore.connection:connect_tcp.complete return_value=<httpcore._backends.sync.SyncStream object at 0x000001B8B7904610>\n",
      "DEBUG:httpcore.connection:start_tls.started ssl_context=<ssl.SSLContext object at 0x000001B8B455B380> server_hostname='api.openai.com' timeout=None\n",
      "DEBUG:httpcore.connection:start_tls.complete return_value=<httpcore._backends.sync.SyncStream object at 0x000001B8B78BA810>\n",
      "DEBUG:httpcore.http11:send_request_headers.started request=<Request [b'POST']>\n",
      "DEBUG:httpcore.http11:send_request_headers.complete\n",
      "DEBUG:httpcore.http11:send_request_body.started request=<Request [b'POST']>\n",
      "DEBUG:httpcore.http11:send_request_body.complete\n",
      "DEBUG:httpcore.http11:receive_response_headers.started request=<Request [b'POST']>\n",
      "DEBUG:httpcore.http11:receive_response_headers.complete return_value=(b'HTTP/1.1', 200, b'OK', [(b'Date', b'Mon, 29 Apr 2024 22:56:57 GMT'), (b'Content-Type', b'application/json'), (b'Transfer-Encoding', b'chunked'), (b'Connection', b'keep-alive'), (b'access-control-allow-origin', b'*'), (b'Cache-Control', b'no-cache, must-revalidate'), (b'openai-model', b'gpt-3.5-turbo-0125'), (b'openai-organization', b'user-xqtp7jgtgwdv2lgnvjry1mni'), (b'openai-processing-ms', b'4952'), (b'openai-version', b'2020-10-01'), (b'strict-transport-security', b'max-age=15724800; includeSubDomains'), (b'x-ratelimit-limit-requests', b'10000'), (b'x-ratelimit-limit-tokens', b'60000'), (b'x-ratelimit-remaining-requests', b'9999'), (b'x-ratelimit-remaining-tokens', b'59127'), (b'x-ratelimit-reset-requests', b'8.64s'), (b'x-ratelimit-reset-tokens', b'873ms'), (b'x-request-id', b'req_04f08f50dfab35b918ca0e6cce960f8c'), (b'CF-Cache-Status', b'DYNAMIC'), (b'Set-Cookie', b'__cf_bm=RO5cZD5xWC2OxF9rlzyjBu9zSxNkl.0aDQKOyszHRQU-1714431417-1.0.1.1-xr4.olOV_2MyDlNqgzj9XtPzPFLLMCB3GUyQT7zF5mJFexxPBD04DLsw.YeYWf5kWIumWlyhJkoDovJaSy37qA; path=/; expires=Mon, 29-Apr-24 23:26:57 GMT; domain=.api.openai.com; HttpOnly; Secure; SameSite=None'), (b'Set-Cookie', b'_cfuvid=2FYi02OnvU2NYucmjWaUvlJtmcLyTzCap171QfoYs80-1714431417671-0.0.1.1-604800000; path=/; domain=.api.openai.com; HttpOnly; Secure; SameSite=None'), (b'Server', b'cloudflare'), (b'CF-RAY', b'87c2e3484f107b28-DEN'), (b'Content-Encoding', b'br'), (b'alt-svc', b'h3=\":443\"; ma=86400')])\n",
      "INFO:httpx:HTTP Request: POST https://api.openai.com/v1/chat/completions \"HTTP/1.1 200 OK\"\n",
      "DEBUG:httpcore.http11:receive_response_body.started request=<Request [b'POST']>\n",
      "DEBUG:httpcore.http11:receive_response_body.complete\n",
      "DEBUG:httpcore.http11:response_closed.started\n",
      "DEBUG:httpcore.http11:response_closed.complete\n",
      "DEBUG:openai._base_client:HTTP Request: POST https://api.openai.com/v1/chat/completions \"200 OK\"\n",
      "DEBUG:openai._base_client:Request options: {'method': 'post', 'url': '/embeddings', 'files': None, 'post_parser': <function Embeddings.create.<locals>.parser at 0x000001B8AE95AFC0>, 'json_data': {'input': [[791, 28957, 8670, 1234, 20382, 220, 25377, 527, 20034, 520, 8405, 3932, 315, 6020, 12518, 449, 264, 16195, 8830, 315, 459, 5502, 596, 71419, 7640, 323, 279, 5536, 315, 1884, 7640, 389, 1202, 6020, 2361, 11, 5178, 11, 323, 8515, 28555, 13, 578, 75992, 3504, 264, 7029, 2134, 315, 2038, 5552, 311, 2225, 3625, 325, 288, 323, 2753, 1105, 382, 2520, 3625, 325, 288, 11, 279, 28957, 8670, 2997, 11, 719, 527, 539, 7347, 311, 11, 264, 48261, 6492, 315, 26120, 58165, 11, 264, 58755, 315, 279, 8736, 323, 15676, 39954, 315, 26120, 58165, 11, 264, 19775, 4096, 315, 279, 5502, 596, 71419, 7640, 11, 264, 4689, 4096, 315, 279, 5199, 32946, 323, 59358, 1903, 304, 19486, 279, 71419, 5410, 11, 323, 2038, 922, 3977, 26120, 14507, 382, 2520, 2753, 1105, 11, 279, 28957, 8670, 2997, 11, 4315, 1023, 2574, 11, 264, 48261, 6492, 315, 26120, 2215, 344, 4893, 11, 264, 58755, 315, 279, 8736, 323, 15676, 39954, 315, 26120, 2215, 344, 4893, 11, 264, 4096, 315, 279, 5199, 71419, 28904, 11, 264, 4689, 4096, 315, 279, 5199, 32946, 323, 59358, 1903, 304, 19486, 279, 71419, 5410, 11, 323, 2038, 922, 3977, 26120, 14507, 382, 644, 5369, 311, 1521, 3230, 75992, 11, 15086, 527, 1101, 2631, 311, 3493, 62129, 323, 47616, 2038, 430, 20682, 3932, 315, 6020, 12518, 311, 8720, 279, 3392, 11, 18912, 11, 323, 27924, 315, 8515, 28555, 40986, 505, 73657, 382, 791, 28957, 8670, 1234, 20382, 220, 25377, 527, 16781, 323, 9395, 311, 3493, 28330, 323, 20616, 1139, 459, 5502, 596, 71419, 7640, 13, 33360, 311, 26069, 449, 1521, 8670, 649, 1121, 304, 264, 6996, 315, 8830, 315, 279, 6020, 5536, 315, 73657, 389, 459, 5502, 596, 6020, 12518, 13, 1472, 649, 1505, 5217, 2038, 304, 279, 2768, 5905, 9477, 13, 45178, 25, 735, 8971, 38, 12, 29399, 10888, 2239, 3857, 220, 21, 13, 16, 11, 393, 26538, 12, 29399, 49470, 11531, 19, 11, 3857, 220, 19, 13, 20, 11, 469, 56, 85099, 5003, 48511, 287, 49061, 1392, 12, 1655, 51082, 287, 11, 3857, 220, 21, 13, 18]], 'model': 'text-embedding-3-large', 'encoding_format': 'base64'}}\n",
      "DEBUG:httpcore.connection:connect_tcp.started host='api.openai.com' port=443 local_address=None timeout=None socket_options=None\n",
      "DEBUG:httpcore.connection:connect_tcp.complete return_value=<httpcore._backends.sync.SyncStream object at 0x000001B8B2BEFE90>\n",
      "DEBUG:httpcore.connection:start_tls.started ssl_context=<ssl.SSLContext object at 0x000001B8AE918A70> server_hostname='api.openai.com' timeout=None\n",
      "DEBUG:httpcore.connection:start_tls.complete return_value=<httpcore._backends.sync.SyncStream object at 0x000001B8B78F8790>\n",
      "DEBUG:httpcore.http11:send_request_headers.started request=<Request [b'POST']>\n",
      "DEBUG:httpcore.http11:send_request_headers.complete\n",
      "DEBUG:httpcore.http11:send_request_body.started request=<Request [b'POST']>\n",
      "DEBUG:httpcore.http11:send_request_body.complete\n",
      "DEBUG:httpcore.http11:receive_response_headers.started request=<Request [b'POST']>\n",
      "DEBUG:httpcore.http11:receive_response_headers.complete return_value=(b'HTTP/1.1', 200, b'OK', [(b'Date', b'Mon, 29 Apr 2024 22:56:58 GMT'), (b'Content-Type', b'application/json'), (b'Transfer-Encoding', b'chunked'), (b'Connection', b'keep-alive'), (b'access-control-allow-origin', b'*'), (b'openai-model', b'text-embedding-3-large'), (b'openai-organization', b'user-xqtp7jgtgwdv2lgnvjry1mni'), (b'openai-processing-ms', b'90'), (b'openai-version', b'2020-10-01'), (b'strict-transport-security', b'max-age=15724800; includeSubDomains'), (b'x-ratelimit-limit-requests', b'3000'), (b'x-ratelimit-limit-tokens', b'1000000'), (b'x-ratelimit-remaining-requests', b'2999'), (b'x-ratelimit-remaining-tokens', b'999659'), (b'x-ratelimit-reset-requests', b'20ms'), (b'x-ratelimit-reset-tokens', b'20ms'), (b'x-request-id', b'req_45faaebfd4e979e9812913e9c4021604'), (b'CF-Cache-Status', b'DYNAMIC'), (b'Set-Cookie', b'__cf_bm=6Zl0I8YhHa1d7i6O16WTBoOdwVTiVcfOjLIUMja2Z4U-1714431418-1.0.1.1-GOmCwQ0O3NlmIc3YM4vuM1QZlm2lDziEKZmluJvoWvV7rd_NkD6aKOoq.kT11lOYRKQHWux5M4ImcZn0pigCzA; path=/; expires=Mon, 29-Apr-24 23:26:58 GMT; domain=.api.openai.com; HttpOnly; Secure; SameSite=None'), (b'Set-Cookie', b'_cfuvid=SAv_P0HacKadEaY5aeGzoGxDahz6HFK_YwG54Hx9xKQ-1714431418127-0.0.1.1-604800000; path=/; domain=.api.openai.com; HttpOnly; Secure; SameSite=None'), (b'Server', b'cloudflare'), (b'CF-RAY', b'87c2e369bc9a51a6-DEN'), (b'Content-Encoding', b'br'), (b'alt-svc', b'h3=\":443\"; ma=86400')])\n",
      "INFO:httpx:HTTP Request: POST https://api.openai.com/v1/embeddings \"HTTP/1.1 200 OK\"\n",
      "DEBUG:httpcore.http11:receive_response_body.started request=<Request [b'POST']>\n",
      "DEBUG:httpcore.http11:receive_response_body.complete\n",
      "DEBUG:httpcore.http11:response_closed.started\n",
      "DEBUG:httpcore.http11:response_closed.complete\n",
      "DEBUG:openai._base_client:HTTP Request: POST https://api.openai.com/v1/embeddings \"200 OK\"\n",
      "DEBUG:httpcore.connection:connect_tcp.started host='23f0b85b-de0f-4ac9-aa14-7efc4b366fdf.us-east4-0.gcp.cloud.qdrant.io' port=6333 local_address=None timeout=5.0 socket_options=None\n",
      "DEBUG:httpcore.connection:connect_tcp.complete return_value=<httpcore._backends.sync.SyncStream object at 0x000001B8B77E6290>\n",
      "DEBUG:httpcore.connection:start_tls.started ssl_context=<ssl.SSLContext object at 0x000001B8AE91A180> server_hostname='23f0b85b-de0f-4ac9-aa14-7efc4b366fdf.us-east4-0.gcp.cloud.qdrant.io' timeout=5.0\n",
      "DEBUG:httpcore.connection:start_tls.complete return_value=<httpcore._backends.sync.SyncStream object at 0x000001B8B78E7F90>\n",
      "DEBUG:httpcore.http11:send_request_headers.started request=<Request [b'POST']>\n",
      "DEBUG:httpcore.http11:send_request_headers.complete\n",
      "DEBUG:httpcore.http11:send_request_body.started request=<Request [b'POST']>\n",
      "DEBUG:httpcore.http11:send_request_body.complete\n",
      "DEBUG:httpcore.http11:receive_response_headers.started request=<Request [b'POST']>\n",
      "DEBUG:httpcore.http11:receive_response_headers.complete return_value=(b'HTTP/1.1', 200, b'OK', [(b'Content-Encoding', b'br'), (b'Content-Type', b'application/json'), (b'Date', b'Mon, 29 Apr 2024 22:56:58 GMT'), (b'Vary', b'accept-encoding, Origin, Access-Control-Request-Method, Access-Control-Request-Headers'), (b'Transfer-Encoding', b'chunked')])\n",
      "INFO:httpx:HTTP Request: POST https://23f0b85b-de0f-4ac9-aa14-7efc4b366fdf.us-east4-0.gcp.cloud.qdrant.io:6333/collections/lease-guidance/points/search \"HTTP/1.1 200 OK\"\n",
      "DEBUG:httpcore.http11:receive_response_body.started request=<Request [b'POST']>\n",
      "DEBUG:httpcore.http11:receive_response_body.complete\n",
      "DEBUG:httpcore.http11:response_closed.started\n",
      "DEBUG:httpcore.http11:response_closed.complete\n"
     ]
    },
    {
     "data": {
      "text/plain": [
       "[Document(page_content='Leases  953 \\n12. Disclosures   \\n  \\n \\n \\n© 2023  KPMG LLP, a Delaware limited liability partnership and a member firm of the KPMG global organization of independent \\nmember firms affiliated with KPMG International Limited, a private English company limited by guarantee. All rights reserved.  12.1 General disclosure r equirements  \\n Excerpt from ASC 842 -20 \\n50 Disclosure  \\nGeneral  \\n50-1 The objective of the disclosure requirements is to enable users of \\nfinancial statements to assess the amount, timing, and uncertainty of cash \\nflows arising from leases . To achieve that objective, a lessee shall disclose \\nqualitative and quantitative informa tion about all of the following:  \\na. Its leases (as described in paragraphs 842- 20-50-3(a) through (b) and 842-\\n20-50-7 through 50- 10)  \\nb. The significant judgments made in applying the requirements in this Topic \\nto those leases (as described in paragraph 842- 20-50-3(c))  \\nc. The amounts recognized in the financial statements relating to those \\nleases (as described in paragraphs 842- 20-50-4 and 84 2-20-50-6).  \\n50-2 A lessee shall consider the level of detail necessary to satisfy the \\ndisclosure objective and how much emphasis to place on each of the various \\nrequirements. A lessee shall aggregate or disaggregate disclosures so that \\nuseful inform ation is not obscured by including a large amount of insignificant \\ndetail or by aggregating items that have different characteristics.  \\n  \\n Excerpt from ASC 842 -30 \\n50 Disclosure  \\nGeneral  \\n50-1 The objective of the disclosure requirements is to enable users of \\nfinancial statements to assess the amount, timing, and uncertainty of cash \\nflows arising from leases . To achieve that objective, a lessor  shall disclose \\nqualitative and quantitative informa tion about all of the following:  \\na. Its leases (as described in paragraphs 842- 30-50-3(a), 842- 30-50-4, and \\n842-30-50-7)  \\nb. The significant judgments made in applying the requirements in this Topic \\nto those leases (as described in paragraph 842- 30-50-3(b))  \\nc. The amounts recognized in the financial statements relating to those \\nleases (as described in paragraphs 842- 30-50-5 through 50- 6 and 842 -30-\\n50-8 through 50 -13).  \\n50-2 A lessor shall consider the level of detail necessary to satisfy the \\ndisclosure objective and how much emphasis to place on each of the various \\nrequirements. A lessor shall aggregate or disaggregate disclosures so that \\nuseful information is not obscured by including a large amount of insignificant \\ndetail or by aggregating i tems that have different characteristics.', metadata={'page': 954, 'source': 'PDFs_and_TXT\\\\KPMG_Leases_Handbook_05_31_2023.pdf', '_id': '4db87392-5e66-4399-a14a-b75c897173a9', '_collection_name': 'lease-guidance'}),\n",
       " Document(page_content='Leases  952 \\n12. Disclosures   \\n  \\n \\n \\n© 2023  KPMG LLP, a Delaware limited liability partnership and a member firm of the KPMG global organization of independent \\nmember firms affiliated with KPMG International Limited, a private English company limited by guarantee. All rights reserved.  How the standard works  \\nThe disclosure objective in Topic 842 is to provide financial statement users \\nsufficient information to assess the amount, timing and uncertainty of cash \\nflows arising from leases. To achieve that objective, lessees and lessors \\ndisclose qualitative and quantitative information about lease transactions.  \\n \\n \\nThis generally will result in increased information being disclosed as compared \\nto Topic 840. Accordingly, entities will need to evaluate whether they have \\nappropriate systems, processes and internal controls to capture the complete \\nand accurate lease data necessary to prepare the financial statement notes.  \\nFor a discussion of transition disclosures, see section 13A .2.5 (if electing the \\neffective date transition method) or 13B.2.5 (if electing the comparative transition method) .', metadata={'page': 953, 'source': 'PDFs_and_TXT\\\\KPMG_Leases_Handbook_05_31_2023.pdf', '_id': 'c70fd7fc-7cab-46ab-87bf-ae6d25611f6d', '_collection_name': 'lease-guidance'}),\n",
       " Document(page_content='5 Lessor accounting  \\nFinancial reporting developments  Lease accounting  | 313 ASC 842 includes the following disclosure requirements for lessors.  \\nExcerpt from Accounting Standards Codification  \\nLeases  — Lessor  \\nDisclosure  \\n842-30-50-1 \\nThe objective of the disclosure requirements is to enable users of financial statements to assess the \\namount, timing, and uncertainty of cash flows arising from leases . To achieve that objective, a lessor  \\nshall disclose qualitative and quantitative information about all of the following:  \\na. Its leases (as described in paragraphs 842 -30-50-3(a), 842 -30-50-4, and 842 -30-50-7) \\nb. The significant judgments made in applying the requirements in this Topic to tho se leases (as \\ndescribed in paragraph 842 -30-50-3(b))  \\nc. The amounts recognized in the financial statements relating to those leases (as described in \\nparagraphs 842 -30-50-5 through 50 -6 and 842 -30-50-8 through 50 -13). \\n842-30-50-2 \\nA lessor shall consider the level of detail necessary to satisfy the disclosure objective and how much \\nemphasis to place on each of the various requirements. A lessor shall aggregate or disaggregate \\ndisclosures so that useful information is not obscured by including a la rge amount of insignificant \\ndetail or by aggregating items that have different characteristics.  \\n842-30-50-3 \\nA lessor shall disclose both of the following:  \\na. Information about the nature of its leases, including:  \\n1. A general description of those leases  \\n2. The basis and terms and conditions on which variable lease payments  are determined  \\n3. The existence and terms and conditions of options to extend or terminate the lease  \\n4. The existence and terms and conditions of options for a lessee  to purchase the unde rlying asset . \\nb. Information about significant assumptions and judgments made in applying the requirements of \\nthis Topic, which may include the following:  \\n1. The determination of whether a contract  contains a lease (as described in paragraphs \\n842-10-15-2 through 15 -27) \\n2. The allocation of the consideration in a contract between lease and nonlease components (as \\ndescribed in paragraphs 842 -10-15-28 through 15 -32), unless a lessor elects the practical \\nexpedient in paragraph 842 -10-15-42A and all nonlease com ponents in the contract qualify \\nfor that practical expedient  \\n3. The determination of the amount the lessor expects to derive from the underlying asset \\nfollowing the end of the lease term .', metadata={'page': 325, 'source': 'PDFs_and_TXT\\\\EY_Financial_Reporting_Developments_Lease_Accounting_08_31_2023.pdf', '_id': 'f320e372-b736-45f5-a330-f11d212ffccb', '_collection_name': 'lease-guidance'}),\n",
       " Document(page_content='Leases  967 \\n12. Disclosures   \\n  \\n \\n \\n© 2023  KPMG LLP, a Delaware limited liability partnership and a member firm of the KPMG global organization of independent \\nmember firms affiliated with KPMG International Limited, a private English company limited by guarantee. All rights reserved.  — because the periodic short -term lease cost of $200,000 disclosed does not \\nreasonably reflect the lessee’s short -term lease commitments as of \\nDecember  31, 20X1, that fact , and the amount of its short -term lease \\ncommitments of $2,440,000 ($2,400,000 + $40,000).  \\n \\n Comparison to legacy US GAAP  \\nIncreased qualitative and quantitative disclosures   \\n12.2. 60  Lessee disclosures under Topic 842 are more extensive than those \\nunder Topic 840. [840- 10-50, 840- 20-50, 840 -30-50, 840- 40-50] \\n— Examples of new qualitative disclosures include (1) information about \\nleases that have not yet commenced at the reporting date that create \\nsignificant rights and obligations to the lessee, and (2) significant judgments \\nmade,  such as determining whether a contract c ontains a lease, \\ndetermining the discount rate for the lease, and allocating the consideration in the contract to lea se and non- lease components.  \\n— Examples of new quantitative disclosures include cash paid for amounts included in the measurement of lease liabilities, supplemental non- cash \\ninformation on lease liabilities arising from obtaining ROU  assets for \\noperating lea ses, weighted -average remaining lease terms, and weighted-\\naverage discount rate information.  \\n \\n12.3 Lessor disclosures \\n Excerpt from ASC 842 -30 \\n50 Disclosure  \\nGeneral  \\n50-3 A lessor shall disclose both of the following:  \\na. Information about the nature of its leases, including:  \\n1. A general description of those leases  \\n2. The basis and terms and conditions on which variable lease \\npayments  are determined  \\n3. The existence and terms and c onditions of options to extend or \\nterminate the lease  \\n4. The existence and terms and conditions of options for a lessee to \\npurchase the underlying asset .  \\nb. Information about significant assumptions and judgments made in applying \\nthe requirements of this Topic, which may include the following:  \\n1. The determination of whether a contract  contains a lease (as \\ndescribed in paragraphs 842 -10-15-2 through 15 -27)', metadata={'page': 968, 'source': 'PDFs_and_TXT\\\\KPMG_Leases_Handbook_05_31_2023.pdf', '_id': 'e48cc137-f92b-4ad9-abc1-10a58ffd2442', '_collection_name': 'lease-guidance'})]"
      ]
     },
     "execution_count": 18,
     "metadata": {},
     "output_type": "execute_result"
    }
   ],
   "source": [
    "history_aware_retriever_chain.invoke({\"chat_history\": chat_history, \"context\": context,\n",
    "                        \"input\": input})"
   ]
  },
  {
   "cell_type": "code",
   "execution_count": 19,
   "metadata": {},
   "outputs": [],
   "source": [
    "# following example from here:\n",
    "# https://github.com/langchain-ai/langchain/discussions/16002\n",
    "# Kept getting hung up on context. commented out get_prompt_template() function and using the \n",
    "# separate part code to build the template.  The {context} will be the documents retrieved with\n",
    "# the history aware retriever (I think?). I think the history aware retriever will retrieve docs and feed\n",
    "# them into the prompt template as context. Then the document chain takes the context and stuffs it into a place (?)\n",
    "# where it can be leveraged as the source for the LLM to retrieve the answer from.\n",
    "\n",
    "document_chain = create_stuff_documents_chain(llm, prompt_template)"
   ]
  },
  {
   "cell_type": "code",
   "execution_count": 20,
   "metadata": {},
   "outputs": [],
   "source": [
    "# create retriever that will pass in the context documents (?)\n",
    "\n",
    "# retriever has already been define above, if put this into a function, may need to \n",
    "# define the retriever again.\n",
    "\n",
    "retrieval_chain = create_retrieval_chain(history_aware_retriever_chain, document_chain)"
   ]
  },
  {
   "cell_type": "code",
   "execution_count": 23,
   "metadata": {},
   "outputs": [
    {
     "name": "stderr",
     "output_type": "stream",
     "text": [
      "DEBUG:openai._base_client:Request options: {'method': 'post', 'url': '/embeddings', 'files': None, 'post_parser': <function Embeddings.create.<locals>.parser at 0x000001B8B636A8E0>, 'json_data': {'input': [[3923, 527, 279, 28957, 8670, 1234, 20382, 220, 25377, 30]], 'model': 'text-embedding-3-large', 'encoding_format': 'base64'}}\n",
      "DEBUG:httpcore.connection:close.started\n",
      "DEBUG:httpcore.connection:close.complete\n",
      "DEBUG:httpcore.connection:connect_tcp.started host='api.openai.com' port=443 local_address=None timeout=None socket_options=None\n",
      "DEBUG:httpcore.connection:connect_tcp.complete return_value=<httpcore._backends.sync.SyncStream object at 0x000001B8B753A810>\n",
      "DEBUG:httpcore.connection:start_tls.started ssl_context=<ssl.SSLContext object at 0x000001B8AE918A70> server_hostname='api.openai.com' timeout=None\n",
      "DEBUG:httpcore.connection:start_tls.complete return_value=<httpcore._backends.sync.SyncStream object at 0x000001B8B7917250>\n",
      "DEBUG:httpcore.http11:send_request_headers.started request=<Request [b'POST']>\n",
      "DEBUG:httpcore.http11:send_request_headers.complete\n",
      "DEBUG:httpcore.http11:send_request_body.started request=<Request [b'POST']>\n",
      "DEBUG:httpcore.http11:send_request_body.complete\n",
      "DEBUG:httpcore.http11:receive_response_headers.started request=<Request [b'POST']>\n",
      "DEBUG:httpcore.http11:receive_response_headers.complete return_value=(b'HTTP/1.1', 200, b'OK', [(b'Date', b'Mon, 29 Apr 2024 23:09:39 GMT'), (b'Content-Type', b'application/json'), (b'Transfer-Encoding', b'chunked'), (b'Connection', b'keep-alive'), (b'access-control-allow-origin', b'*'), (b'openai-model', b'text-embedding-3-large'), (b'openai-organization', b'user-xqtp7jgtgwdv2lgnvjry1mni'), (b'openai-processing-ms', b'41'), (b'openai-version', b'2020-10-01'), (b'strict-transport-security', b'max-age=15724800; includeSubDomains'), (b'x-ratelimit-limit-requests', b'3000'), (b'x-ratelimit-limit-tokens', b'1000000'), (b'x-ratelimit-remaining-requests', b'2999'), (b'x-ratelimit-remaining-tokens', b'999989'), (b'x-ratelimit-reset-requests', b'20ms'), (b'x-ratelimit-reset-tokens', b'0s'), (b'x-request-id', b'req_619664dd41a9538abcff8f3559b623a8'), (b'CF-Cache-Status', b'DYNAMIC'), (b'Server', b'cloudflare'), (b'CF-RAY', b'87c2f5fece851f4c-DEN'), (b'Content-Encoding', b'br'), (b'alt-svc', b'h3=\":443\"; ma=86400')])\n",
      "INFO:httpx:HTTP Request: POST https://api.openai.com/v1/embeddings \"HTTP/1.1 200 OK\"\n",
      "DEBUG:httpcore.http11:receive_response_body.started request=<Request [b'POST']>\n",
      "DEBUG:httpcore.http11:receive_response_body.complete\n",
      "DEBUG:httpcore.http11:response_closed.started\n",
      "DEBUG:httpcore.http11:response_closed.complete\n",
      "DEBUG:openai._base_client:HTTP Request: POST https://api.openai.com/v1/embeddings \"200 OK\"\n",
      "DEBUG:httpcore.connection:close.started\n",
      "DEBUG:httpcore.connection:close.complete\n",
      "DEBUG:httpcore.connection:connect_tcp.started host='23f0b85b-de0f-4ac9-aa14-7efc4b366fdf.us-east4-0.gcp.cloud.qdrant.io' port=6333 local_address=None timeout=5.0 socket_options=None\n",
      "DEBUG:httpcore.connection:connect_tcp.complete return_value=<httpcore._backends.sync.SyncStream object at 0x000001B8B6220C50>\n",
      "DEBUG:httpcore.connection:start_tls.started ssl_context=<ssl.SSLContext object at 0x000001B8AE91A180> server_hostname='23f0b85b-de0f-4ac9-aa14-7efc4b366fdf.us-east4-0.gcp.cloud.qdrant.io' timeout=5.0\n",
      "DEBUG:httpcore.connection:start_tls.complete return_value=<httpcore._backends.sync.SyncStream object at 0x000001B8B826A750>\n",
      "DEBUG:httpcore.http11:send_request_headers.started request=<Request [b'POST']>\n",
      "DEBUG:httpcore.http11:send_request_headers.complete\n",
      "DEBUG:httpcore.http11:send_request_body.started request=<Request [b'POST']>\n",
      "DEBUG:httpcore.http11:send_request_body.complete\n",
      "DEBUG:httpcore.http11:receive_response_headers.started request=<Request [b'POST']>\n",
      "DEBUG:httpcore.http11:receive_response_headers.complete return_value=(b'HTTP/1.1', 200, b'OK', [(b'Content-Encoding', b'br'), (b'Content-Type', b'application/json'), (b'Date', b'Mon, 29 Apr 2024 23:09:39 GMT'), (b'Vary', b'accept-encoding, Origin, Access-Control-Request-Method, Access-Control-Request-Headers'), (b'Transfer-Encoding', b'chunked')])\n",
      "INFO:httpx:HTTP Request: POST https://23f0b85b-de0f-4ac9-aa14-7efc4b366fdf.us-east4-0.gcp.cloud.qdrant.io:6333/collections/lease-guidance/points/search \"HTTP/1.1 200 OK\"\n",
      "DEBUG:httpcore.http11:receive_response_body.started request=<Request [b'POST']>\n",
      "DEBUG:httpcore.http11:receive_response_body.complete\n",
      "DEBUG:httpcore.http11:response_closed.started\n",
      "DEBUG:httpcore.http11:response_closed.complete\n",
      "DEBUG:openai._base_client:Request options: {'method': 'post', 'url': '/chat/completions', 'files': None, 'json_data': {'messages': [{'content': 'You are a leases chatbot. You answer questions relating to ASC 842 under US GAAP. You respond to the queries as shown in \\n    the examples. The responses do not have to be brief. Giving a thorough response with citations from the source documents is more\\n    important than brevity. Each response will be followed by reference from multiple sources with section numbers or page numbers (which\\n    is in the meta data) from the context documents. The responses will be provided only from the provided PDF source documents.  \\n    The responses will be clear and helpful and will use language that is easy to understand. Responses will include examples and \\n    potential scenarios.  If the answer is not avaiable in the PDF source documents, the response will be \"I do not have information related \\n    to that specific scenario, please seek guidance from a qualified expert.\" If the question is not on the topic of leases, respond by \\n    saying, \"This is outside the scope of what I can help you with. Let\\'s get back to lease accounting.\" \\n    \\n    You will answer the input question based on the provided context:\\n    \\n    <context>\\n    Leases  953 \\n12. Disclosures   \\n  \\n \\n \\n© 2023  KPMG LLP, a Delaware limited liability partnership and a member firm of the KPMG global organization of independent \\nmember firms affiliated with KPMG International Limited, a private English company limited by guarantee. All rights reserved.  12.1 General disclosure r equirements  \\n Excerpt from ASC 842 -20 \\n50 Disclosure  \\nGeneral  \\n50-1 The objective of the disclosure requirements is to enable users of \\nfinancial statements to assess the amount, timing, and uncertainty of cash \\nflows arising from leases . To achieve that objective, a lessee shall disclose \\nqualitative and quantitative informa tion about all of the following:  \\na. Its leases (as described in paragraphs 842- 20-50-3(a) through (b) and 842-\\n20-50-7 through 50- 10)  \\nb. The significant judgments made in applying the requirements in this Topic \\nto those leases (as described in paragraph 842- 20-50-3(c))  \\nc. The amounts recognized in the financial statements relating to those \\nleases (as described in paragraphs 842- 20-50-4 and 84 2-20-50-6).  \\n50-2 A lessee shall consider the level of detail necessary to satisfy the \\ndisclosure objective and how much emphasis to place on each of the various \\nrequirements. A lessee shall aggregate or disaggregate disclosures so that \\nuseful inform ation is not obscured by including a large amount of insignificant \\ndetail or by aggregating items that have different characteristics.  \\n  \\n Excerpt from ASC 842 -30 \\n50 Disclosure  \\nGeneral  \\n50-1 The objective of the disclosure requirements is to enable users of \\nfinancial statements to assess the amount, timing, and uncertainty of cash \\nflows arising from leases . To achieve that objective, a lessor  shall disclose \\nqualitative and quantitative informa tion about all of the following:  \\na. Its leases (as described in paragraphs 842- 30-50-3(a), 842- 30-50-4, and \\n842-30-50-7)  \\nb. The significant judgments made in applying the requirements in this Topic \\nto those leases (as described in paragraph 842- 30-50-3(b))  \\nc. The amounts recognized in the financial statements relating to those \\nleases (as described in paragraphs 842- 30-50-5 through 50- 6 and 842 -30-\\n50-8 through 50 -13).  \\n50-2 A lessor shall consider the level of detail necessary to satisfy the \\ndisclosure objective and how much emphasis to place on each of the various \\nrequirements. A lessor shall aggregate or disaggregate disclosures so that \\nuseful information is not obscured by including a large amount of insignificant \\ndetail or by aggregating i tems that have different characteristics.\\n\\n5 Lessor accounting  \\nFinancial reporting developments  Lease accounting  | 313 ASC 842 includes the following disclosure requirements for lessors.  \\nExcerpt from Accounting Standards Codification  \\nLeases  — Lessor  \\nDisclosure  \\n842-30-50-1 \\nThe objective of the disclosure requirements is to enable users of financial statements to assess the \\namount, timing, and uncertainty of cash flows arising from leases . To achieve that objective, a lessor  \\nshall disclose qualitative and quantitative information about all of the following:  \\na. Its leases (as described in paragraphs 842 -30-50-3(a), 842 -30-50-4, and 842 -30-50-7) \\nb. The significant judgments made in applying the requirements in this Topic to tho se leases (as \\ndescribed in paragraph 842 -30-50-3(b))  \\nc. The amounts recognized in the financial statements relating to those leases (as described in \\nparagraphs 842 -30-50-5 through 50 -6 and 842 -30-50-8 through 50 -13). \\n842-30-50-2 \\nA lessor shall consider the level of detail necessary to satisfy the disclosure objective and how much \\nemphasis to place on each of the various requirements. A lessor shall aggregate or disaggregate \\ndisclosures so that useful information is not obscured by including a la rge amount of insignificant \\ndetail or by aggregating items that have different characteristics.  \\n842-30-50-3 \\nA lessor shall disclose both of the following:  \\na. Information about the nature of its leases, including:  \\n1. A general description of those leases  \\n2. The basis and terms and conditions on which variable lease payments  are determined  \\n3. The existence and terms and conditions of options to extend or terminate the lease  \\n4. The existence and terms and conditions of options for a lessee  to purchase the unde rlying asset . \\nb. Information about significant assumptions and judgments made in applying the requirements of \\nthis Topic, which may include the following:  \\n1. The determination of whether a contract  contains a lease (as described in paragraphs \\n842-10-15-2 through 15 -27) \\n2. The allocation of the consideration in a contract between lease and nonlease components (as \\ndescribed in paragraphs 842 -10-15-28 through 15 -32), unless a lessor elects the practical \\nexpedient in paragraph 842 -10-15-42A and all nonlease com ponents in the contract qualify \\nfor that practical expedient  \\n3. The determination of the amount the lessor expects to derive from the underlying asset \\nfollowing the end of the lease term .\\n\\nLeases  952 \\n12. Disclosures   \\n  \\n \\n \\n© 2023  KPMG LLP, a Delaware limited liability partnership and a member firm of the KPMG global organization of independent \\nmember firms affiliated with KPMG International Limited, a private English company limited by guarantee. All rights reserved.  How the standard works  \\nThe disclosure objective in Topic 842 is to provide financial statement users \\nsufficient information to assess the amount, timing and uncertainty of cash \\nflows arising from leases. To achieve that objective, lessees and lessors \\ndisclose qualitative and quantitative information about lease transactions.  \\n \\n \\nThis generally will result in increased information being disclosed as compared \\nto Topic 840. Accordingly, entities will need to evaluate whether they have \\nappropriate systems, processes and internal controls to capture the complete \\nand accurate lease data necessary to prepare the financial statement notes.  \\nFor a discussion of transition disclosures, see section 13A .2.5 (if electing the \\neffective date transition method) or 13B.2.5 (if electing the comparative transition method) .\\n\\nLeases  967 \\n12. Disclosures   \\n  \\n \\n \\n© 2023  KPMG LLP, a Delaware limited liability partnership and a member firm of the KPMG global organization of independent \\nmember firms affiliated with KPMG International Limited, a private English company limited by guarantee. All rights reserved.  — because the periodic short -term lease cost of $200,000 disclosed does not \\nreasonably reflect the lessee’s short -term lease commitments as of \\nDecember  31, 20X1, that fact , and the amount of its short -term lease \\ncommitments of $2,440,000 ($2,400,000 + $40,000).  \\n \\n Comparison to legacy US GAAP  \\nIncreased qualitative and quantitative disclosures   \\n12.2. 60  Lessee disclosures under Topic 842 are more extensive than those \\nunder Topic 840. [840- 10-50, 840- 20-50, 840 -30-50, 840- 40-50] \\n— Examples of new qualitative disclosures include (1) information about \\nleases that have not yet commenced at the reporting date that create \\nsignificant rights and obligations to the lessee, and (2) significant judgments \\nmade,  such as determining whether a contract c ontains a lease, \\ndetermining the discount rate for the lease, and allocating the consideration in the contract to lea se and non- lease components.  \\n— Examples of new quantitative disclosures include cash paid for amounts included in the measurement of lease liabilities, supplemental non- cash \\ninformation on lease liabilities arising from obtaining ROU  assets for \\noperating lea ses, weighted -average remaining lease terms, and weighted-\\naverage discount rate information.  \\n \\n12.3 Lessor disclosures \\n Excerpt from ASC 842 -30 \\n50 Disclosure  \\nGeneral  \\n50-3 A lessor shall disclose both of the following:  \\na. Information about the nature of its leases, including:  \\n1. A general description of those leases  \\n2. The basis and terms and conditions on which variable lease \\npayments  are determined  \\n3. The existence and terms and c onditions of options to extend or \\nterminate the lease  \\n4. The existence and terms and conditions of options for a lessee to \\npurchase the underlying asset .  \\nb. Information about significant assumptions and judgments made in applying \\nthe requirements of this Topic, which may include the following:  \\n1. The determination of whether a contract  contains a lease (as \\ndescribed in paragraphs 842 -10-15-2 through 15 -27)\\n    </context>\\n    \\n    You will use the provided examples for guidance on how to construct your responses. Your responses should be similar.\\n\\nQuestion: How do I determine the different lease components?\\n\\nAnswer: Lease components are elements of the arrangement that provide the customer with the right to use an \\n            identified asset. An entity should consider the right to use an underlying asset to be a separate lease component \\n            if the following 2 conditions are met: 1. Lessee can benefit from the ROU asset either on its own or together with \\n            other readily available resources and 2. The ROU is neither highly dependent on; nor highly interrelated with the other \\n            ROU(s) in the contract. You can find additional information in the following reference documents. References: \\n            KPMG-leaseshandbook section 4.1, PWC-leasesguide0124, section 2.4, EY-financial-reporting-developments-lease-accounting, section 1.4\\n\\nQuestion: I am a lessor, how do I account for lease modifications?\\n\\nAnswer: Several questions must be answered to determine how to appropriately account for lease modifications for \\n            a lessor. Is the modified contract a lease, or does it contain a lease? If yes, does the modification result in a \\n            separate contract? If yes, account for two separate contracts: the unmodified original contract, and a separate \\n            contract accounted for in the same manner as any other new lease. If the modification does not result in a separate \\n            contract, remeasure and reallocate the remaining consideration in the contract, reassess the lease classification at \\n            the modification effective date, and account for any initial direct costs, lease incentives, and other paymetns made to \\n            or by the lessor. Whether or not the lease classification changes, and how it changes drives the appropriate accounting. \\n            You can find additional information in the following reference documents. References: EY - Financial Reporting Developments: \\n            lease accounting, section 5.6, PWC - Leases Guide, section 5.6, KPMG - Leases Handbook, section 7.6\\n\\n\\nQuestion: What are the disclosure requirements under ASC 842?\\nAnswer: ', 'role': 'user'}], 'model': 'gpt-3.5-turbo', 'n': 1, 'stream': False, 'temperature': 0.7}}\n",
      "DEBUG:httpcore.connection:close.started\n",
      "DEBUG:httpcore.connection:close.complete\n",
      "DEBUG:httpcore.connection:connect_tcp.started host='api.openai.com' port=443 local_address=None timeout=None socket_options=None\n",
      "DEBUG:httpcore.connection:connect_tcp.complete return_value=<httpcore._backends.sync.SyncStream object at 0x000001B8B4602E10>\n",
      "DEBUG:httpcore.connection:start_tls.started ssl_context=<ssl.SSLContext object at 0x000001B8B455B380> server_hostname='api.openai.com' timeout=None\n",
      "DEBUG:httpcore.connection:start_tls.complete return_value=<httpcore._backends.sync.SyncStream object at 0x000001B8B632AE90>\n",
      "DEBUG:httpcore.http11:send_request_headers.started request=<Request [b'POST']>\n",
      "DEBUG:httpcore.http11:send_request_headers.complete\n",
      "DEBUG:httpcore.http11:send_request_body.started request=<Request [b'POST']>\n",
      "DEBUG:httpcore.http11:send_request_body.complete\n",
      "DEBUG:httpcore.http11:receive_response_headers.started request=<Request [b'POST']>\n",
      "DEBUG:httpcore.http11:receive_response_headers.complete return_value=(b'HTTP/1.1', 200, b'OK', [(b'Date', b'Mon, 29 Apr 2024 23:09:47 GMT'), (b'Content-Type', b'application/json'), (b'Transfer-Encoding', b'chunked'), (b'Connection', b'keep-alive'), (b'access-control-allow-origin', b'*'), (b'Cache-Control', b'no-cache, must-revalidate'), (b'openai-model', b'gpt-3.5-turbo-0125'), (b'openai-organization', b'user-xqtp7jgtgwdv2lgnvjry1mni'), (b'openai-processing-ms', b'7245'), (b'openai-version', b'2020-10-01'), (b'strict-transport-security', b'max-age=15724800; includeSubDomains'), (b'x-ratelimit-limit-requests', b'10000'), (b'x-ratelimit-limit-tokens', b'60000'), (b'x-ratelimit-remaining-requests', b'9999'), (b'x-ratelimit-remaining-tokens', b'57000'), (b'x-ratelimit-reset-requests', b'8.64s'), (b'x-ratelimit-reset-tokens', b'3s'), (b'x-request-id', b'req_1a4a7124929e728dc7db6f4937acd2c8'), (b'CF-Cache-Status', b'DYNAMIC'), (b'Server', b'cloudflare'), (b'CF-RAY', b'87c2f6035ea6538d-DEN'), (b'Content-Encoding', b'br'), (b'alt-svc', b'h3=\":443\"; ma=86400')])\n",
      "INFO:httpx:HTTP Request: POST https://api.openai.com/v1/chat/completions \"HTTP/1.1 200 OK\"\n",
      "DEBUG:httpcore.http11:receive_response_body.started request=<Request [b'POST']>\n",
      "DEBUG:httpcore.http11:receive_response_body.complete\n",
      "DEBUG:httpcore.http11:response_closed.started\n",
      "DEBUG:httpcore.http11:response_closed.complete\n",
      "DEBUG:openai._base_client:HTTP Request: POST https://api.openai.com/v1/chat/completions \"200 OK\"\n"
     ]
    }
   ],
   "source": [
    "# invoke the retrieval chain\n",
    "\n",
    "response = retrieval_chain.invoke({'input': input})"
   ]
  },
  {
   "cell_type": "code",
   "execution_count": 24,
   "metadata": {},
   "outputs": [
    {
     "name": "stdout",
     "output_type": "stream",
     "text": [
      "The disclosure requirements under ASC 842 aim to provide users of financial statements with qualitative and quantitative information to assess the amount, timing, and uncertainty of cash flows arising from leases. For lessees, the disclosure should cover information about leases, significant judgments made in applying the lease accounting requirements, and the amounts recognized in the financial statements related to leases. This includes a general description of leases, the basis for determining variable lease payments, options to extend or terminate leases, and options for a lessee to purchase the underlying asset. \n",
      "\n",
      "Lessees should also disclose significant assumptions and judgments made in applying the lease accounting requirements. This may involve determining whether a contract contains a lease, allocating consideration between lease and non-lease components, and estimating the amount expected to derive from the underlying asset following the end of the lease term. \n",
      "\n",
      "For lessors, the disclosure requirements are similar and include information about the nature of their leases, such as a general description, terms and conditions for variable lease payments, options to extend or terminate leases, and options for a lessee to purchase the underlying asset. Lessors should also disclose significant assumptions and judgments made in applying the lease accounting requirements, such as determining if a contract contains a lease, allocating consideration between lease and non-lease components, and estimating the amount expected to derive from the underlying asset following the end of the lease term. \n",
      "\n",
      "Both lessees and lessors should consider the level of detail necessary to satisfy the disclosure objective and present the information in a clear and transparent manner. It is essential to aggregate or disaggregate disclosures to ensure that useful information is not obscured by including insignificant detail or aggregating items with different characteristics. \n",
      "\n",
      "For a thorough understanding of the disclosure requirements under ASC 842, you can refer to the specific sections mentioned in the provided reference documents. References: ASC 842-20-50, ASC 842-30-50, KPMG Leases Handbook, PwC Leases Guide, EY Financial Reporting Developments: Lease Accounting.\n"
     ]
    }
   ],
   "source": [
    "print(response['answer'])"
   ]
  },
  {
   "cell_type": "code",
   "execution_count": null,
   "metadata": {},
   "outputs": [],
   "source": [
    "# combine_docs_chain = create_stuff_documents_chain(llm, prompt_template)\n",
    "# retrieval_chain = create_retrieval_chain(retriever, combine_docs_chain)"
   ]
  },
  {
   "cell_type": "code",
   "execution_count": null,
   "metadata": {},
   "outputs": [],
   "source": [
    "# #initialize create retrieval chain (experiment)\n",
    "# def initialize_createrc(vector_store):\n",
    "#     llm = ChatOpenAI(model=OPENAI_MODEL, temperature=0, api_key=openai_api_key)\n",
    "#     retriever=vector_store.as_retriever()\n",
    "#     contextualize_q_system_prompt = (\"\"\"\"Given a chat history and the latest user question \"\n",
    "#     \"which might reference context in the chat history, \"\n",
    "#     \"formulate a standalone question which can be understood \"\n",
    "#     \"without the chat history. Do NOT answer the question, just \"\n",
    "#     \"reformulate it if needed and otherwise return it as is.\"\"\")\n",
    "    \n",
    "#     contextualize_q_prompt = ChatPromptTemplate.from_messages(\n",
    "#         [\n",
    "#             (\"system\", contextualize_q_system_prompt),\n",
    "#             MessagesPlaceholder(\"chat_history\"),\n",
    "#             (\"human\", \"{input}\"),\n",
    "#         ]\n",
    "#     )\n",
    "#     history_aware_retriever = create_history_aware_retriever(\n",
    "#         llm, retriever, contextualize_q_prompt\n",
    "#     )\n",
    "    \n",
    "#     # setup for answering the question\n",
    "#     qa_system_prompt = (\n",
    "#         \"\"\"You are a leases chatbot. You answer questions relating to ASC 842 under US GAAP. You respond to the queries as shown in \n",
    "#         the examples. Each response will be followed by reference from multiple sources with section numbers from the source documents. \n",
    "#         The responses will be provided only from the provided PDF source documents.  The responses will be clear and helpful and will use \n",
    "#         language that is easy to understand. Responses will include examples and potential scenarios.  If the answer is not avaiable in\n",
    "#         the PDF source documents, the response will be \"I do not have information related to that specific scenario, please seek guidance\n",
    "#         from a qualified expert.\" \"\"\"\n",
    "#     )\n",
    "#     qa_prompt = ChatPromptTemplate.from_messages(\n",
    "#         [\n",
    "#             (\"system\", qa_system_prompt),\n",
    "#             MessagesPlaceholder(\"retrieved_documents\"),\n",
    "#             (\"human\", \"{context}\"),\n",
    "#         ]\n",
    "#     )\n",
    "    \n",
    "#     # Combine the documents and use the LLM to generate an answer\n",
    "#     stuff_documents_chain = create_stuff_documents_chain(llm, qa_prompt)\n",
    "    \n",
    "#     # Create the complete retrieval chain\n",
    "#     crc = create_retrieval_chain(history_aware_retriever, stuff_documents_chain)\n",
    "\n",
    "#     return crc"
   ]
  },
  {
   "cell_type": "code",
   "execution_count": null,
   "metadata": {},
   "outputs": [],
   "source": [
    "# #initialize conversational retrieval chain\n",
    "# def initialize_crc(vector_store):\n",
    "#     llm = ChatOpenAI(model=OPENAI_MODEL, temperature=0, api_key=openai_api_key)\n",
    "#     retriever=vector_store.as_retriever()\n",
    "#     crc = ConversationalRetrievalChain.from_llm(llm, retriever)\n",
    "#     # st.session_state['crc'] = crc\n",
    "#     # st.success('Source documents loaded!')\n",
    "#     return crc "
   ]
  }
 ],
 "metadata": {
  "kernelspec": {
   "display_name": "base",
   "language": "python",
   "name": "python3"
  },
  "language_info": {
   "codemirror_mode": {
    "name": "ipython",
    "version": 3
   },
   "file_extension": ".py",
   "mimetype": "text/x-python",
   "name": "python",
   "nbconvert_exporter": "python",
   "pygments_lexer": "ipython3",
   "version": "3.11.5"
  }
 },
 "nbformat": 4,
 "nbformat_minor": 2
}
