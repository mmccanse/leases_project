{
 "cells": [
  {
   "cell_type": "code",
   "execution_count": 1,
   "metadata": {},
   "outputs": [],
   "source": [
    "import os\n",
    "from dotenv import load_dotenv\n",
    "import streamlit as st\n",
    "from langchain_community.document_loaders import PyPDFLoader\n",
    "from langchain_text_splitters import RecursiveCharacterTextSplitter\n",
    "from langchain.vectorstores import Qdrant\n",
    "from langchain_openai import OpenAIEmbeddings\n",
    "from langchain.chains import RetrievalQA\n",
    "from langchain_openai import ChatOpenAI, OpenAI\n",
    "from qdrant_client import QdrantClient, models\n",
    "import qdrant_client\n",
    "from langchain.chains import ConversationalRetrievalChain, LLMChain\n",
    "from langchain_core.prompts import PromptTemplate, FewShotPromptTemplate\n",
    "import logging\n",
    "from langchain.chains import create_history_aware_retriever, create_retrieval_chain\n",
    "from langchain.chains.combine_documents import create_stuff_documents_chain\n",
    "from langchain import hub\n",
    "from langchain_core.prompts import ChatPromptTemplate, MessagesPlaceholder\n",
    "logging.basicConfig(level=logging.DEBUG)"
   ]
  },
  {
   "cell_type": "code",
   "execution_count": 2,
   "metadata": {},
   "outputs": [],
   "source": [
    "# Set the model name for LLM\n",
    "OPENAI_MODEL = \"gpt-3.5-turbo\"\n",
    "\n",
    "# Store API key as a variable\n",
    "openai_api_key = st.secrets[\"OPENAI_API_KEY\"]"
   ]
  },
  {
   "cell_type": "code",
   "execution_count": 3,
   "metadata": {},
   "outputs": [],
   "source": [
    "def get_vector_store():\n",
    "    #Create a client to connect to Qdrant server\n",
    "    client = qdrant_client.QdrantClient(\n",
    "        st.secrets[\"QDRANT_HOST\"],\n",
    "        api_key=st.secrets[\"QDRANT_API_KEY\"]\n",
    "        )\n",
    "    \n",
    "    #initialize embeddings for vector store\n",
    "    embeddings = OpenAIEmbeddings(\n",
    "        api_key=openai_api_key,\n",
    "        model=\"text-embedding-3-large\"\n",
    "    )\n",
    "    \n",
    "    # create vector_store with Qdrant and embeddings\n",
    "    vector_store = Qdrant(\n",
    "        client = client,\n",
    "        collection_name = st.secrets[\"QDRANT_COLLECTION_NAME\"],\n",
    "        embeddings = embeddings,\n",
    "    )\n",
    "    \n",
    "    return vector_store"
   ]
  },
  {
   "cell_type": "code",
   "execution_count": 4,
   "metadata": {},
   "outputs": [
    {
     "name": "stderr",
     "output_type": "stream",
     "text": [
      "DEBUG:httpx:load_ssl_context verify=True cert=None trust_env=True http2=False\n",
      "DEBUG:httpx:load_verify_locations cafile='C:\\\\Users\\\\mered\\\\anaconda3\\\\Library\\\\ssl\\\\cacert.pem'\n",
      "DEBUG:httpx:load_ssl_context verify=True cert=None trust_env=True http2=False\n",
      "DEBUG:httpx:load_verify_locations cafile='C:\\\\Users\\\\mered\\\\anaconda3\\\\Library\\\\ssl\\\\cacert.pem'\n",
      "DEBUG:httpx:load_ssl_context verify=True cert=None trust_env=True http2=False\n",
      "DEBUG:httpx:load_verify_locations cafile='C:\\\\Users\\\\mered\\\\anaconda3\\\\Library\\\\ssl\\\\cacert.pem'\n"
     ]
    }
   ],
   "source": [
    "vector_store = get_vector_store()"
   ]
  },
  {
   "cell_type": "code",
   "execution_count": 12,
   "metadata": {},
   "outputs": [],
   "source": [
    "# Create function to setup prompt template\n",
    "def setup_prompt_template():\n",
    "    prefix=\"\"\"You are a leases chatbot. You answer questions relating to ASC 842 under US GAAP. You respond to the queries as shown in \n",
    "    the examples. The responses do not have to be brief. Giving a thorough response with citations from the source documents is more\n",
    "    important than brevity. Each response will be followed by reference from multiple sources with section numbers or page numbers (which\n",
    "    is in the meta data) from the source documents. The responses will be provided only from the provided PDF source documents.  \n",
    "    The responses will be clear and helpful and will use language that is easy to understand. Responses will include examples and \n",
    "    potential scenarios.  If the answer is not avaiable in the PDF source documents, the response will be \"I do not have information related \n",
    "    to that specific scenario, please seek guidance from a qualified expert.\" If the question is not on the topic of leases, respond by \n",
    "    saying, \"This is outside the scope of what I can help you with. Let's get back to lease accounting.\" \n",
    "    \n",
    "    Context from source documents:\n",
    "    {context}\n",
    "\n",
    "    Proceed with answering the following questions based on the above context:\"\"\"\n",
    "     \n",
    "     # Define examples to instruct app how to respond\n",
    "    examples = [\n",
    "        {\n",
    "            \"context\": \"Detailed context on leases derived from source documents.\",\n",
    "            \"query\": \"How do I determine the different lease components?\",\n",
    "            \"answer\": \"\"\"Lease components are elements of the arrangement that provide the customer with the right to use an \n",
    "            identified asset. An entity should consider the right to use an underlying asset to be a separate lease component \n",
    "            if the following 2 conditions are met: 1. Lessee can benefit from the ROU asset either on its own or together with \n",
    "            other readily available resources and 2. The ROU is neither highly dependent on; nor highly interrelated with the \n",
    "            other ROU(s) in the contract. You can find additional information in the following reference documents. References: \n",
    "            KPMG-leaseshandbook section 4.1, PWC-leasesguide0124, section 2.4, EY-financial-reporting-developments-lease-\n",
    "            accounting, section 1.4\"\"\"\n",
    "        },\n",
    "        {\n",
    "            \"context\": \"Background information on lease modifications from the document.\",\n",
    "            \"query\": \"I am a lessor, how do I account for lease modifications?\",\n",
    "            \"answer\": \"\"\"Several questions must be answered to determine how to appropriately account for lease modifications for \n",
    "            a lessor. Is the modified contract a lease, or does it contain a lease? If yes, does the modification result in a \n",
    "            separate contract? If yes, account for two separate contracts: the unmodified original contract, and a separate \n",
    "            contract accounted for in the same manner as any other new lease. If the modification does not result in a separate \n",
    "            contract, remeasure and reallocate the remaining consideration in the contract, reassess the lease classification at \n",
    "            the modification effective date, and account for any initial direct costs, lease incentives, and other paymetns made to \n",
    "            or by the lessor. Whether or not the lease classification changes, and how it changes drives the appropriate accounting. \n",
    "            You can find additional information in the following reference documents. References: EY - Financial Reporting Developments: \n",
    "            lease accounting, section 5.6, PWC - Leases Guide, section 5.6, KPMG - Leases Handbook, section 7.6\"\"\"\n",
    "        }\n",
    "    ]\n",
    "    \n",
    "    example_prompt = PromptTemplate(input_variables=[\"query\", \"answer\"],\n",
    "                                      template=\"\\nQuestion: {query}\\nAnswer: {answer}\")    \n",
    "    #Define suffix for query\n",
    "    suffix=\"\\n\\nHuman: {query}\\nAI: \"\n",
    "    \n",
    "    #Construct FewShotPromptTemplate\n",
    "    prompt_template = FewShotPromptTemplate(\n",
    "                                            examples=examples,\n",
    "                                            example_prompt=example_prompt,\n",
    "                                            input_variables=[\"input\"],\n",
    "                                            prefix=prefix,\n",
    "                                            suffix=suffix,\n",
    "                                            example_separator=\"\\n\")\n",
    "\n",
    "    return prompt_template"
   ]
  },
  {
   "cell_type": "code",
   "execution_count": 14,
   "metadata": {},
   "outputs": [],
   "source": [
    "prompt_template = setup_prompt_template"
   ]
  },
  {
   "cell_type": "code",
   "execution_count": 32,
   "metadata": {},
   "outputs": [],
   "source": [
    "prefix=\"\"\"You are a leases chatbot. You answer questions relating to ASC 842 under US GAAP. You respond to the queries as shown in \n",
    "    the examples. The responses do not have to be brief. Giving a thorough response with citations from the source documents is more\n",
    "    important than brevity. Each response will be followed by reference from multiple sources with section numbers or page numbers (which\n",
    "    is in the meta data) from the source documents. The responses will be provided only from the provided PDF source documents.  \n",
    "    The responses will be clear and helpful and will use language that is easy to understand. Responses will include examples and \n",
    "    potential scenarios.  If the answer is not avaiable in the PDF source documents, the response will be \"I do not have information related \n",
    "    to that specific scenario, please seek guidance from a qualified expert.\" If the question is not on the topic of leases, respond by \n",
    "    saying, \"This is outside the scope of what I can help you with. Let's get back to lease accounting.\" \"\"\""
   ]
  },
  {
   "cell_type": "code",
   "execution_count": 33,
   "metadata": {},
   "outputs": [],
   "source": [
    "examples = [\n",
    "        {\n",
    "            \"input\": \"How do I determine the different lease components?\",\n",
    "            \"answer\": \"\"\"Lease components are elements of the arrangement that provide the customer with the right to use an \n",
    "            identified asset. An entity should consider the right to use an underlying asset to be a separate lease component \n",
    "            if the following 2 conditions are met: 1. Lessee can benefit from the ROU asset either on its own or together with \n",
    "            other readily available resources and 2. The ROU is neither highly dependent on; nor highly interrelated with the \n",
    "            other ROU(s) in the contract. You can find additional information in the following reference documents. References: \n",
    "            KPMG-leaseshandbook section 4.1, PWC-leasesguide0124, section 2.4, EY-financial-reporting-developments-lease-\n",
    "            accounting, section 1.4\"\"\"\n",
    "        },\n",
    "        {\n",
    "            \"input\": \"I am a lessor, how do I account for lease modifications?\",\n",
    "            \"answer\": \"\"\"Several questions must be answered to determine how to appropriately account for lease modifications for \n",
    "            a lessor. Is the modified contract a lease, or does it contain a lease? If yes, does the modification result in a \n",
    "            separate contract? If yes, account for two separate contracts: the unmodified original contract, and a separate \n",
    "            contract accounted for in the same manner as any other new lease. If the modification does not result in a separate \n",
    "            contract, remeasure and reallocate the remaining consideration in the contract, reassess the lease classification at \n",
    "            the modification effective date, and account for any initial direct costs, lease incentives, and other paymetns made to \n",
    "            or by the lessor. Whether or not the lease classification changes, and how it changes drives the appropriate accounting. \n",
    "            You can find additional information in the following reference documents. References: EY - Financial Reporting Developments: \n",
    "            lease accounting, section 5.6, PWC - Leases Guide, section 5.6, KPMG - Leases Handbook, section 7.6\"\"\"\n",
    "        }\n",
    "    ]"
   ]
  },
  {
   "cell_type": "code",
   "execution_count": 34,
   "metadata": {},
   "outputs": [
    {
     "name": "stdout",
     "output_type": "stream",
     "text": [
      "\n",
      "Input: How do I determine the different lease components?\n",
      "\n",
      "Answer: Lease components are elements of the arrangement that provide the customer with the right to use an \n",
      "            identified asset. An entity should consider the right to use an underlying asset to be a separate lease component \n",
      "            if the following 2 conditions are met: 1. Lessee can benefit from the ROU asset either on its own or together with \n",
      "            other readily available resources and 2. The ROU is neither highly dependent on; nor highly interrelated with the \n",
      "            other ROU(s) in the contract. You can find additional information in the following reference documents. References: \n",
      "            KPMG-leaseshandbook section 4.1, PWC-leasesguide0124, section 2.4, EY-financial-reporting-developments-lease-\n",
      "            accounting, section 1.4\n"
     ]
    }
   ],
   "source": [
    "example_prompt = PromptTemplate(input_variables=[\"input\", \"answer\"],\n",
    "                                      template=\"\\nInput: {input}\\n\\nAnswer: {answer}\") \n",
    "print(example_prompt.format(**examples[0]))"
   ]
  },
  {
   "cell_type": "code",
   "execution_count": 38,
   "metadata": {},
   "outputs": [],
   "source": [
    "suffix=\"\\n\\nInput: {input}\\nAnswer: \""
   ]
  },
  {
   "cell_type": "code",
   "execution_count": 39,
   "metadata": {},
   "outputs": [],
   "source": [
    "prompt_template = FewShotPromptTemplate(\n",
    "                                        examples=examples,\n",
    "                                        example_prompt=example_prompt,\n",
    "                                        input_variables=[\"input\"],\n",
    "                                        prefix=prefix,\n",
    "                                        suffix=suffix,\n",
    "                                        example_separator=\"\\n\")"
   ]
  },
  {
   "cell_type": "code",
   "execution_count": 40,
   "metadata": {},
   "outputs": [
    {
     "name": "stdout",
     "output_type": "stream",
     "text": [
      "You are a leases chatbot. You answer questions relating to ASC 842 under US GAAP. You respond to the queries as shown in \n",
      "    the examples. The responses do not have to be brief. Giving a thorough response with citations from the source documents is more\n",
      "    important than brevity. Each response will be followed by reference from multiple sources with section numbers or page numbers (which\n",
      "    is in the meta data) from the source documents. The responses will be provided only from the provided PDF source documents.  \n",
      "    The responses will be clear and helpful and will use language that is easy to understand. Responses will include examples and \n",
      "    potential scenarios.  If the answer is not avaiable in the PDF source documents, the response will be \"I do not have information related \n",
      "    to that specific scenario, please seek guidance from a qualified expert.\" If the question is not on the topic of leases, respond by \n",
      "    saying, \"This is outside the scope of what I can help you with. Let's get back to lease accounting.\" \n",
      "\n",
      "Input: How do I determine the different lease components?\n",
      "\n",
      "Answer: Lease components are elements of the arrangement that provide the customer with the right to use an \n",
      "            identified asset. An entity should consider the right to use an underlying asset to be a separate lease component \n",
      "            if the following 2 conditions are met: 1. Lessee can benefit from the ROU asset either on its own or together with \n",
      "            other readily available resources and 2. The ROU is neither highly dependent on; nor highly interrelated with the \n",
      "            other ROU(s) in the contract. You can find additional information in the following reference documents. References: \n",
      "            KPMG-leaseshandbook section 4.1, PWC-leasesguide0124, section 2.4, EY-financial-reporting-developments-lease-\n",
      "            accounting, section 1.4\n",
      "\n",
      "Input: I am a lessor, how do I account for lease modifications?\n",
      "\n",
      "Answer: Several questions must be answered to determine how to appropriately account for lease modifications for \n",
      "            a lessor. Is the modified contract a lease, or does it contain a lease? If yes, does the modification result in a \n",
      "            separate contract? If yes, account for two separate contracts: the unmodified original contract, and a separate \n",
      "            contract accounted for in the same manner as any other new lease. If the modification does not result in a separate \n",
      "            contract, remeasure and reallocate the remaining consideration in the contract, reassess the lease classification at \n",
      "            the modification effective date, and account for any initial direct costs, lease incentives, and other paymetns made to \n",
      "            or by the lessor. Whether or not the lease classification changes, and how it changes drives the appropriate accounting. \n",
      "            You can find additional information in the following reference documents. References: EY - Financial Reporting Developments: \n",
      "            lease accounting, section 5.6, PWC - Leases Guide, section 5.6, KPMG - Leases Handbook, section 7.6\n",
      "\n",
      "\n",
      "Input: What are the disclosure requirements under ASC 842?\n",
      "Answer: \n"
     ]
    }
   ],
   "source": [
    "print(prompt_template.format(input=\"What are the disclosure requirements under ASC 842?\"))"
   ]
  },
  {
   "cell_type": "code",
   "execution_count": 6,
   "metadata": {},
   "outputs": [
    {
     "name": "stdout",
     "output_type": "stream",
     "text": [
      "input_variables=['context', 'query'] examples=[{'context': 'Detailed context on leases derived from source documents.', 'input': 'How do I determine the different lease components?', 'answer': 'Lease components are elements of the arrangement that provide the customer with the right to use an \\n            identified asset. An entity should consider the right to use an underlying asset to be a separate lease component \\n            if the following 2 conditions are met: 1. Lessee can benefit from the ROU asset either on its own or together with \\n            other readily available resources and 2. The ROU is neither highly dependent on; nor highly interrelated with the \\n            other ROU(s) in the contract. You can find additional information in the following reference documents. References: \\n            KPMG-leaseshandbook section 4.1, PWC-leasesguide0124, section 2.4, EY-financial-reporting-developments-lease-\\n            accounting, section 1.4'}, {'context': 'Background information on lease modifications from the document.', 'input': 'I am a lessor, how do I account for lease modifications?', 'answer': 'Several questions must be answered to determine how to appropriately account for lease modifications for \\n            a lessor. Is the modified contract a lease, or does it contain a lease? If yes, does the modification result in a \\n            separate contract? If yes, account for two separate contracts: the unmodified original contract, and a separate \\n            contract accounted for in the same manner as any other new lease. If the modification does not result in a separate \\n            contract, remeasure and reallocate the remaining consideration in the contract, reassess the lease classification at \\n            the modification effective date, and account for any initial direct costs, lease incentives, and other paymetns made to \\n            or by the lessor. Whether or not the lease classification changes, and how it changes drives the appropriate accounting. \\n            You can find additional information in the following reference documents. References: EY - Financial Reporting Developments: \\n            lease accounting, section 5.6, PWC - Leases Guide, section 5.6, KPMG - Leases Handbook, section 7.6'}] example_prompt=PromptTemplate(input_variables=['answer', 'query'], template='\\nQuestion: {query}\\nAnswer: {answer}') suffix='\\n\\nHuman: {query}\\nAI: ' example_separator='\\n' prefix='You are a leases chatbot. You answer questions relating to ASC 842 under US GAAP. You respond to the queries as shown in \\n    the examples. The responses do not have to be brief. Giving a thorough response with citations from the source documents is more\\n    important than brevity. Each response will be followed by reference from multiple sources with section numbers or page numbers (which\\n    is in the meta data) from the source documents. The responses will be provided only from the provided PDF source documents.  \\n    The responses will be clear and helpful and will use language that is easy to understand. Responses will include examples and \\n    potential scenarios.  If the answer is not avaiable in the PDF source documents, the response will be \"I do not have information related \\n    to that specific scenario, please seek guidance from a qualified expert.\" If the question is not on the topic of leases, respond by \\n    saying, \"This is outside the scope of what I can help you with. Let\\'s get back to lease accounting.\" \\n    \\n    Context from source documents:\\n    {context}\\n\\n    Proceed with answering the following questions based on the above context:'\n"
     ]
    }
   ],
   "source": [
    "#initialize prompt template\n",
    "prompt_template = setup_prompt_template()\n",
    "print(prompt_template)"
   ]
  },
  {
   "cell_type": "code",
   "execution_count": 7,
   "metadata": {},
   "outputs": [
    {
     "name": "stderr",
     "output_type": "stream",
     "text": [
      "DEBUG:httpx:load_ssl_context verify=True cert=None trust_env=True http2=False\n",
      "DEBUG:httpx:load_verify_locations cafile='C:\\\\Users\\\\mered\\\\anaconda3\\\\Library\\\\ssl\\\\cacert.pem'\n",
      "DEBUG:httpx:load_ssl_context verify=True cert=None trust_env=True http2=False\n",
      "DEBUG:httpx:load_verify_locations cafile='C:\\\\Users\\\\mered\\\\anaconda3\\\\Library\\\\ssl\\\\cacert.pem'\n"
     ]
    }
   ],
   "source": [
    "query = \"What are the disclosure requirements under ASC 842?\"\n",
    "llm = ChatOpenAI(api_key=openai_api_key, model=OPENAI_MODEL)\n",
    "retriever = vector_store.as_retriever()"
   ]
  },
  {
   "cell_type": "code",
   "execution_count": 8,
   "metadata": {},
   "outputs": [
    {
     "name": "stderr",
     "output_type": "stream",
     "text": [
      "DEBUG:urllib3.connectionpool:Starting new HTTPS connection (1): api.hub.langchain.com:443\n",
      "DEBUG:urllib3.connectionpool:https://api.hub.langchain.com:443 \"GET /commits/langchain-ai/chat-langchain-rephrase/?limit=100&offset=0 HTTP/1.1\" 200 944\n",
      "DEBUG:urllib3.connectionpool:Starting new HTTPS connection (1): api.hub.langchain.com:443\n",
      "DEBUG:urllib3.connectionpool:https://api.hub.langchain.com:443 \"GET /commits/langchain-ai/chat-langchain-rephrase/fb7ddb56be11b2ab10d176174dae36faa2a9a6ba13187c8b2b98315f6ca7d136 HTTP/1.1\" 200 512\n"
     ]
    }
   ],
   "source": [
    "rephrase_prompt = hub.pull(\"langchain-ai/chat-langchain-rephrase\")"
   ]
  },
  {
   "cell_type": "code",
   "execution_count": 11,
   "metadata": {},
   "outputs": [
    {
     "ename": "ValueError",
     "evalue": "Expected `input` to be a prompt variable, but got ['context', 'query']",
     "output_type": "error",
     "traceback": [
      "\u001b[1;31m---------------------------------------------------------------------------\u001b[0m",
      "\u001b[1;31mValueError\u001b[0m                                Traceback (most recent call last)",
      "Cell \u001b[1;32mIn[11], line 1\u001b[0m\n\u001b[1;32m----> 1\u001b[0m retriever_chain \u001b[38;5;241m=\u001b[39m create_history_aware_retriever(llm, retriever, prompt_template)\n",
      "File \u001b[1;32mc:\\Users\\mered\\anaconda3\\Lib\\site-packages\\langchain\\chains\\history_aware_retriever.py:52\u001b[0m, in \u001b[0;36mcreate_history_aware_retriever\u001b[1;34m(llm, retriever, prompt)\u001b[0m\n\u001b[0;32m     15\u001b[0m \u001b[38;5;250m\u001b[39m\u001b[38;5;124;03m\"\"\"Create a chain that takes conversation history and returns documents.\u001b[39;00m\n\u001b[0;32m     16\u001b[0m \n\u001b[0;32m     17\u001b[0m \u001b[38;5;124;03mIf there is no `chat_history`, then the `input` is just passed directly to the\u001b[39;00m\n\u001b[1;32m   (...)\u001b[0m\n\u001b[0;32m     49\u001b[0m \n\u001b[0;32m     50\u001b[0m \u001b[38;5;124;03m\"\"\"\u001b[39;00m\n\u001b[0;32m     51\u001b[0m \u001b[38;5;28;01mif\u001b[39;00m \u001b[38;5;124m\"\u001b[39m\u001b[38;5;124minput\u001b[39m\u001b[38;5;124m\"\u001b[39m \u001b[38;5;129;01mnot\u001b[39;00m \u001b[38;5;129;01min\u001b[39;00m prompt\u001b[38;5;241m.\u001b[39minput_variables:\n\u001b[1;32m---> 52\u001b[0m     \u001b[38;5;28;01mraise\u001b[39;00m \u001b[38;5;167;01mValueError\u001b[39;00m(\n\u001b[0;32m     53\u001b[0m         \u001b[38;5;124m\"\u001b[39m\u001b[38;5;124mExpected `input` to be a prompt variable, \u001b[39m\u001b[38;5;124m\"\u001b[39m\n\u001b[0;32m     54\u001b[0m         \u001b[38;5;124mf\u001b[39m\u001b[38;5;124m\"\u001b[39m\u001b[38;5;124mbut got \u001b[39m\u001b[38;5;132;01m{\u001b[39;00mprompt\u001b[38;5;241m.\u001b[39minput_variables\u001b[38;5;132;01m}\u001b[39;00m\u001b[38;5;124m\"\u001b[39m\n\u001b[0;32m     55\u001b[0m     )\n\u001b[0;32m     57\u001b[0m retrieve_documents: RetrieverOutputLike \u001b[38;5;241m=\u001b[39m RunnableBranch(\n\u001b[0;32m     58\u001b[0m     (\n\u001b[0;32m     59\u001b[0m         \u001b[38;5;66;03m# Both empty string and empty list evaluate to False\u001b[39;00m\n\u001b[1;32m   (...)\u001b[0m\n\u001b[0;32m     65\u001b[0m     prompt \u001b[38;5;241m|\u001b[39m llm \u001b[38;5;241m|\u001b[39m StrOutputParser() \u001b[38;5;241m|\u001b[39m retriever,\n\u001b[0;32m     66\u001b[0m )\u001b[38;5;241m.\u001b[39mwith_config(run_name\u001b[38;5;241m=\u001b[39m\u001b[38;5;124m\"\u001b[39m\u001b[38;5;124mchat_retriever_chain\u001b[39m\u001b[38;5;124m\"\u001b[39m)\n\u001b[0;32m     67\u001b[0m \u001b[38;5;28;01mreturn\u001b[39;00m retrieve_documents\n",
      "\u001b[1;31mValueError\u001b[0m: Expected `input` to be a prompt variable, but got ['context', 'query']"
     ]
    }
   ],
   "source": [
    "\n",
    "retriever_chain = create_history_aware_retriever(llm, retriever, prompt_template)\n"
   ]
  },
  {
   "cell_type": "code",
   "execution_count": 10,
   "metadata": {},
   "outputs": [
    {
     "ename": "SyntaxError",
     "evalue": "expression expected after dictionary key and ':' (323553273.py, line 1)",
     "output_type": "error",
     "traceback": [
      "\u001b[1;36m  Cell \u001b[1;32mIn[10], line 1\u001b[1;36m\u001b[0m\n\u001b[1;33m    chain.invoke({\"input\": \"...\", \"chat_history\": })\u001b[0m\n\u001b[1;37m                                                ^\u001b[0m\n\u001b[1;31mSyntaxError\u001b[0m\u001b[1;31m:\u001b[0m expression expected after dictionary key and ':'\n"
     ]
    }
   ],
   "source": [
    "chain.invoke({\"input\": \"...\", \"chat_history\": })"
   ]
  },
  {
   "cell_type": "code",
   "execution_count": null,
   "metadata": {},
   "outputs": [],
   "source": [
    "# combine_docs_chain = create_stuff_documents_chain(llm, prompt_template)\n",
    "# retrieval_chain = create_retrieval_chain(retriever, combine_docs_chain)"
   ]
  },
  {
   "cell_type": "code",
   "execution_count": null,
   "metadata": {},
   "outputs": [],
   "source": [
    "# #initialize create retrieval chain (experiment)\n",
    "# def initialize_createrc(vector_store):\n",
    "#     llm = ChatOpenAI(model=OPENAI_MODEL, temperature=0, api_key=openai_api_key)\n",
    "#     retriever=vector_store.as_retriever()\n",
    "#     contextualize_q_system_prompt = (\"\"\"\"Given a chat history and the latest user question \"\n",
    "#     \"which might reference context in the chat history, \"\n",
    "#     \"formulate a standalone question which can be understood \"\n",
    "#     \"without the chat history. Do NOT answer the question, just \"\n",
    "#     \"reformulate it if needed and otherwise return it as is.\"\"\")\n",
    "    \n",
    "#     contextualize_q_prompt = ChatPromptTemplate.from_messages(\n",
    "#         [\n",
    "#             (\"system\", contextualize_q_system_prompt),\n",
    "#             MessagesPlaceholder(\"chat_history\"),\n",
    "#             (\"human\", \"{input}\"),\n",
    "#         ]\n",
    "#     )\n",
    "#     history_aware_retriever = create_history_aware_retriever(\n",
    "#         llm, retriever, contextualize_q_prompt\n",
    "#     )\n",
    "    \n",
    "#     # setup for answering the question\n",
    "#     qa_system_prompt = (\n",
    "#         \"\"\"You are a leases chatbot. You answer questions relating to ASC 842 under US GAAP. You respond to the queries as shown in \n",
    "#         the examples. Each response will be followed by reference from multiple sources with section numbers from the source documents. \n",
    "#         The responses will be provided only from the provided PDF source documents.  The responses will be clear and helpful and will use \n",
    "#         language that is easy to understand. Responses will include examples and potential scenarios.  If the answer is not avaiable in\n",
    "#         the PDF source documents, the response will be \"I do not have information related to that specific scenario, please seek guidance\n",
    "#         from a qualified expert.\" \"\"\"\n",
    "#     )\n",
    "#     qa_prompt = ChatPromptTemplate.from_messages(\n",
    "#         [\n",
    "#             (\"system\", qa_system_prompt),\n",
    "#             MessagesPlaceholder(\"retrieved_documents\"),\n",
    "#             (\"human\", \"{context}\"),\n",
    "#         ]\n",
    "#     )\n",
    "    \n",
    "#     # Combine the documents and use the LLM to generate an answer\n",
    "#     stuff_documents_chain = create_stuff_documents_chain(llm, qa_prompt)\n",
    "    \n",
    "#     # Create the complete retrieval chain\n",
    "#     crc = create_retrieval_chain(history_aware_retriever, stuff_documents_chain)\n",
    "\n",
    "#     return crc"
   ]
  },
  {
   "cell_type": "code",
   "execution_count": null,
   "metadata": {},
   "outputs": [],
   "source": [
    "# #initialize conversational retrieval chain\n",
    "# def initialize_crc(vector_store):\n",
    "#     llm = ChatOpenAI(model=OPENAI_MODEL, temperature=0, api_key=openai_api_key)\n",
    "#     retriever=vector_store.as_retriever()\n",
    "#     crc = ConversationalRetrievalChain.from_llm(llm, retriever)\n",
    "#     # st.session_state['crc'] = crc\n",
    "#     # st.success('Source documents loaded!')\n",
    "#     return crc "
   ]
  }
 ],
 "metadata": {
  "kernelspec": {
   "display_name": "base",
   "language": "python",
   "name": "python3"
  },
  "language_info": {
   "codemirror_mode": {
    "name": "ipython",
    "version": 3
   },
   "file_extension": ".py",
   "mimetype": "text/x-python",
   "name": "python",
   "nbconvert_exporter": "python",
   "pygments_lexer": "ipython3",
   "version": "3.11.5"
  }
 },
 "nbformat": 4,
 "nbformat_minor": 2
}
