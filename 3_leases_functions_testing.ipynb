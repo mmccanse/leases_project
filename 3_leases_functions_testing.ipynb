{
 "cells": [
  {
   "cell_type": "code",
   "execution_count": 1,
   "metadata": {},
   "outputs": [],
   "source": [
    "import os\n",
    "from dotenv import load_dotenv\n",
    "import streamlit as st\n",
    "from langchain_community.document_loaders import PyPDFLoader\n",
    "from langchain_text_splitters import RecursiveCharacterTextSplitter\n",
    "from langchain.vectorstores import Qdrant\n",
    "from langchain_openai import OpenAIEmbeddings\n",
    "from langchain.chains import RetrievalQA\n",
    "from langchain_openai import ChatOpenAI, OpenAI\n",
    "from qdrant_client import QdrantClient, models\n",
    "import qdrant_client\n",
    "from langchain.chains import ConversationalRetrievalChain, LLMChain\n",
    "from langchain_core.prompts import PromptTemplate, FewShotPromptTemplate\n",
    "import logging\n",
    "from langchain.chains import create_history_aware_retriever, create_retrieval_chain\n",
    "from langchain.chains import (\n",
    "    StuffDocumentsChain, LLMChain, ConversationalRetrievalChain\n",
    ")\n",
    "\n",
    "from langchain.chains.combine_documents import create_stuff_documents_chain\n",
    "from langchain import hub\n",
    "from langchain_core.prompts import ChatPromptTemplate, MessagesPlaceholder\n",
    "logging.basicConfig(level=logging.DEBUG)"
   ]
  },
  {
   "cell_type": "code",
   "execution_count": 2,
   "metadata": {},
   "outputs": [],
   "source": [
    "# Set the model name for LLM\n",
    "OPENAI_MODEL = \"gpt-3.5-turbo\"\n",
    "\n",
    "# Store API key as a variable\n",
    "openai_api_key = st.secrets[\"OPENAI_API_KEY\"]"
   ]
  },
  {
   "cell_type": "code",
   "execution_count": 3,
   "metadata": {},
   "outputs": [],
   "source": [
    "def get_vector_store():\n",
    "    #Create a client to connect to Qdrant server\n",
    "    client = qdrant_client.QdrantClient(\n",
    "        st.secrets[\"QDRANT_HOST\"],\n",
    "        api_key=st.secrets[\"QDRANT_API_KEY\"]\n",
    "        )\n",
    "    \n",
    "    #initialize embeddings for vector store\n",
    "    embeddings = OpenAIEmbeddings(\n",
    "        api_key=openai_api_key,\n",
    "        model=\"text-embedding-3-large\"\n",
    "    )\n",
    "    \n",
    "    # create vector_store with Qdrant and embeddings\n",
    "    vector_store = Qdrant(\n",
    "        client = client,\n",
    "        collection_name = st.secrets[\"QDRANT_COLLECTION_NAME\"],\n",
    "        embeddings = embeddings,\n",
    "    )\n",
    "    \n",
    "    return vector_store"
   ]
  },
  {
   "cell_type": "code",
   "execution_count": 4,
   "metadata": {},
   "outputs": [
    {
     "name": "stderr",
     "output_type": "stream",
     "text": [
      "DEBUG:httpx:load_ssl_context verify=True cert=None trust_env=True http2=False\n",
      "DEBUG:httpx:load_verify_locations cafile='C:\\\\Users\\\\mered\\\\anaconda3\\\\Library\\\\ssl\\\\cacert.pem'\n",
      "DEBUG:httpx:load_ssl_context verify=True cert=None trust_env=True http2=False\n",
      "DEBUG:httpx:load_verify_locations cafile='C:\\\\Users\\\\mered\\\\anaconda3\\\\Library\\\\ssl\\\\cacert.pem'\n",
      "DEBUG:httpx:load_ssl_context verify=True cert=None trust_env=True http2=False\n",
      "DEBUG:httpx:load_verify_locations cafile='C:\\\\Users\\\\mered\\\\anaconda3\\\\Library\\\\ssl\\\\cacert.pem'\n"
     ]
    }
   ],
   "source": [
    "vector_store = get_vector_store()"
   ]
  },
  {
   "cell_type": "code",
   "execution_count": 5,
   "metadata": {},
   "outputs": [],
   "source": [
    "def setup_prompt_template():\n",
    "    prefix=\"\"\"You are a leases chatbot. You answer questions relating to ASC 842 under US GAAP. You respond to the queries as shown in \n",
    "    the examples. The responses do not have to be brief. Giving a thorough response with citations from the source documents is more\n",
    "    important than brevity. Each response will be followed by reference from multiple sources with section numbers or page numbers (which\n",
    "    is in the meta data) from the context documents. The responses will be provided only from the provided PDF source documents.  \n",
    "    The responses will be clear and helpful and will use language that is easy to understand. Responses will include examples and \n",
    "    potential scenarios.  If the answer is not available in the PDF source documents, the response will be \"I do not have information related \n",
    "    to that specific scenario, please seek guidance from a qualified expert.\" If the question is not on the topic of leases, respond by \n",
    "    saying, \"This is outside the scope of what I can help you with. Let's get back to lease accounting.\" \n",
    "    \n",
    "    You will answer the input question based on the provided context:\n",
    "    \n",
    "    <context>\n",
    "    {context}\n",
    "    </context>\n",
    "    \n",
    "    You will use the provided examples for guidance on how to construct your responses. Your responses should be similar.\"\"\"\n",
    "     \n",
    "     # Define examples to instruct app how to respond\n",
    "    examples = [\n",
    "        {\n",
    "            \"input\": \"How do I determine the different lease components?\",\n",
    "            \"answer\": \"\"\"Lease components are elements of the arrangement that provide the customer with the right to use an \n",
    "            identified asset. An entity should consider the right to use an underlying asset to be a separate lease component \n",
    "            if the following 2 conditions are met: 1. Lessee can benefit from the ROU asset either on its own or together with \n",
    "            other readily available resources and 2. The ROU is neither highly dependent on; nor highly interrelated with the \n",
    "            other ROU(s) in the contract. References: KPMG-leaseshandbook section 4.1, PWC-leasesguide0124, section 2.4, \n",
    "            EY-financial-reporting-developments-lease-accounting, section 1.4\"\"\"\n",
    "        },\n",
    "        {\n",
    "            \"input\": \"I am a lessor, how do I account for lease modifications?\",\n",
    "            \"answer\": \"\"\"Several questions must be answered to determine how to appropriately account for lease modifications for \n",
    "            a lessor. Is the modified contract a lease, or does it contain a lease? If yes, does the modification result in a \n",
    "            separate contract? If yes, account for two separate contracts: the unmodified original contract, and a separate \n",
    "            contract accounted for in the same manner as any other new lease. If the modification does not result in a separate \n",
    "            contract, remeasure and reallocate the remaining consideration in the contract, reassess the lease classification at \n",
    "            the modification effective date, and account for any initial direct costs, lease incentives, and other paymetns made to \n",
    "            or by the lessor. Whether or not the lease classification changes, and how it changes drives the appropriate accounting. \n",
    "            References: EY - Financial Reporting Developments: lease accounting, section 5.6, PWC - Leases Guide, section 5.6, \n",
    "            KPMG - Leases Handbook, section 7.6\"\"\"\n",
    "        }\n",
    "    ]\n",
    "    \n",
    "    #Define format for examples:\n",
    "    example_format = \"\\nQuestion: {input}\\n\\nAnswer: {answer}\"\n",
    "    \n",
    "    example_prompts = [example_format.format(**ex) for ex in examples]\n",
    "    \n",
    "    example_template = PromptTemplate(input_variables=['input', 'context'],\n",
    "                                      template=example_format)\n",
    "    \n",
    "    \n",
    "    \n",
    "    full_prompt = f\"{prefix}\\n\\n\" + \"\\n\\n\".join(example_prompts) + \"\\n\\nQuestion: {input}\\n\\nAnswer: \"\n",
    "    \n",
    "    # enriched_history = history + [(input, full_prompt)]\n",
    "    \n",
    "    #Define suffix for query\n",
    "    suffix=\"\\n\\nQuestion: {input}\\nAnswer: \"\n",
    "    \n",
    "    #Construct FewShotPromptTemplate\n",
    "    prompt_template = FewShotPromptTemplate(\n",
    "                                            examples=examples,\n",
    "                                            example_prompt=example_template,\n",
    "                                            input_variables=['input','context'],\n",
    "                                            prefix=prefix,\n",
    "                                            suffix=suffix,\n",
    "                                            example_separator=\"\\n\\n\")\n",
    "    return prompt_template"
   ]
  },
  {
   "cell_type": "code",
   "execution_count": null,
   "metadata": {},
   "outputs": [],
   "source": [
    "test_prompt = setup_prompt_template()\n",
    "print(test_prompt)"
   ]
  },
  {
   "cell_type": "code",
   "execution_count": null,
   "metadata": {},
   "outputs": [],
   "source": [
    "# prompt_template = setup_prompt_template"
   ]
  },
  {
   "cell_type": "code",
   "execution_count": 6,
   "metadata": {},
   "outputs": [],
   "source": [
    "prefix=\"\"\"You are a leases chatbot. You answer questions relating to ASC 842 under US GAAP. You respond to the queries as shown in \n",
    "    the examples. The responses do not have to be brief. Giving a thorough response with citations from the source documents is more\n",
    "    important than brevity. Each response will be followed by reference from multiple sources with section numbers or page numbers (which\n",
    "    is in the meta data) from the context documents. The responses will be provided only from the provided PDF source documents.  \n",
    "    The responses will be clear and helpful and will use language that is easy to understand. Responses will include examples and \n",
    "    potential scenarios.  If the answer is not available in the PDF source documents, the response will be \"I do not have information related \n",
    "    to that specific scenario, please seek guidance from a qualified expert.\" If the question is not on the topic of leases, respond by \n",
    "    saying, \"This is outside the scope of what I can help you with. Let's get back to lease accounting.\" \n",
    "    \n",
    "    You will answer the input question based on the provided context:\n",
    "    \n",
    "    <context>\n",
    "    {context}\n",
    "    </context>\n",
    "    \n",
    "    You will use the provided examples for guidance on how to construct your responses. Your responses should be similar.\"\"\""
   ]
  },
  {
   "cell_type": "code",
   "execution_count": 7,
   "metadata": {},
   "outputs": [],
   "source": [
    "examples = [\n",
    "        {\n",
    "            \"input\": \"How do I determine the different lease components?\",\n",
    "            \"answer\": \"\"\"Lease components are elements of the arrangement that provide the customer with the right to use an \n",
    "            identified asset. An entity should consider the right to use an underlying asset to be a separate lease component \n",
    "            if the following 2 conditions are met: 1. Lessee can benefit from the ROU asset either on its own or together with \n",
    "            other readily available resources and 2. The ROU is neither highly dependent on; nor highly interrelated with the other \n",
    "            ROU(s) in the contract. You can find additional information in the following reference documents. References: \n",
    "            KPMG-leaseshandbook section 4.1, PWC-leasesguide0124, section 2.4, EY-financial-reporting-developments-lease-accounting, section 1.4\"\"\"\n",
    "        },\n",
    "        {\n",
    "            \"input\": \"I am a lessor, how do I account for lease modifications?\",\n",
    "            \"answer\": \"\"\"Several questions must be answered to determine how to appropriately account for lease modifications for \n",
    "            a lessor. Is the modified contract a lease, or does it contain a lease? If yes, does the modification result in a \n",
    "            separate contract? If yes, account for two separate contracts: the unmodified original contract, and a separate \n",
    "            contract accounted for in the same manner as any other new lease. If the modification does not result in a separate \n",
    "            contract, remeasure and reallocate the remaining consideration in the contract, reassess the lease classification at \n",
    "            the modification effective date, and account for any initial direct costs, lease incentives, and other paymetns made to \n",
    "            or by the lessor. Whether or not the lease classification changes, and how it changes drives the appropriate accounting. \n",
    "            You can find additional information in the following reference documents. References: EY - Financial Reporting Developments: \n",
    "            lease accounting, section 5.6, PWC - Leases Guide, section 5.6, KPMG - Leases Handbook, section 7.6\"\"\"\n",
    "        }\n",
    "    ]"
   ]
  },
  {
   "cell_type": "code",
   "execution_count": 8,
   "metadata": {},
   "outputs": [
    {
     "name": "stdout",
     "output_type": "stream",
     "text": [
      "\n",
      "Question: How do I determine the different lease components?\n",
      "\n",
      "Answer: Lease components are elements of the arrangement that provide the customer with the right to use an \n",
      "            identified asset. An entity should consider the right to use an underlying asset to be a separate lease component \n",
      "            if the following 2 conditions are met: 1. Lessee can benefit from the ROU asset either on its own or together with \n",
      "            other readily available resources and 2. The ROU is neither highly dependent on; nor highly interrelated with the other \n",
      "            ROU(s) in the contract. You can find additional information in the following reference documents. References: \n",
      "            KPMG-leaseshandbook section 4.1, PWC-leasesguide0124, section 2.4, EY-financial-reporting-developments-lease-accounting, section 1.4\n"
     ]
    }
   ],
   "source": [
    "example_prompt = PromptTemplate(input_variables=['input', 'context'],\n",
    "                                      template=\"\\nQuestion: {input}\\n\\nAnswer: {answer}\") \n",
    "print(example_prompt.format(**examples[0]))"
   ]
  },
  {
   "cell_type": "code",
   "execution_count": 9,
   "metadata": {},
   "outputs": [],
   "source": [
    "suffix=\"\\n\\nQuestion: {input}\\nAnswer: \""
   ]
  },
  {
   "cell_type": "code",
   "execution_count": 10,
   "metadata": {},
   "outputs": [],
   "source": [
    "prompt_template = FewShotPromptTemplate(\n",
    "                                        examples=examples,\n",
    "                                        example_prompt=example_prompt,\n",
    "                                        input_variables=['input','context'],\n",
    "                                        prefix=prefix,\n",
    "                                        suffix=suffix,\n",
    "                                        example_separator=\"\\n\")"
   ]
  },
  {
   "cell_type": "code",
   "execution_count": null,
   "metadata": {},
   "outputs": [],
   "source": [
    "print(prompt_template.format(input=\"What are the disclosure requirements under ASC 842?\", context = \"the disclosures are terrible!\"))"
   ]
  },
  {
   "cell_type": "code",
   "execution_count": 11,
   "metadata": {},
   "outputs": [
    {
     "name": "stdout",
     "output_type": "stream",
     "text": [
      "input_variables=['context', 'input'] examples=[{'input': 'How do I determine the different lease components?', 'answer': 'Lease components are elements of the arrangement that provide the customer with the right to use an \\n            identified asset. An entity should consider the right to use an underlying asset to be a separate lease component \\n            if the following 2 conditions are met: 1. Lessee can benefit from the ROU asset either on its own or together with \\n            other readily available resources and 2. The ROU is neither highly dependent on; nor highly interrelated with the \\n            other ROU(s) in the contract. References: KPMG-leaseshandbook section 4.1, PWC-leasesguide0124, section 2.4, \\n            EY-financial-reporting-developments-lease-accounting, section 1.4'}, {'input': 'I am a lessor, how do I account for lease modifications?', 'answer': 'Several questions must be answered to determine how to appropriately account for lease modifications for \\n            a lessor. Is the modified contract a lease, or does it contain a lease? If yes, does the modification result in a \\n            separate contract? If yes, account for two separate contracts: the unmodified original contract, and a separate \\n            contract accounted for in the same manner as any other new lease. If the modification does not result in a separate \\n            contract, remeasure and reallocate the remaining consideration in the contract, reassess the lease classification at \\n            the modification effective date, and account for any initial direct costs, lease incentives, and other paymetns made to \\n            or by the lessor. Whether or not the lease classification changes, and how it changes drives the appropriate accounting. \\n            References: EY - Financial Reporting Developments: lease accounting, section 5.6, PWC - Leases Guide, section 5.6, \\n            KPMG - Leases Handbook, section 7.6'}] example_prompt=PromptTemplate(input_variables=['answer', 'input'], template='\\nQuestion: {input}\\n\\nAnswer: {answer}') suffix='\\n\\nQuestion: {input}\\nAnswer: ' prefix='You are a leases chatbot. You answer questions relating to ASC 842 under US GAAP. You respond to the queries as shown in \\n    the examples. The responses do not have to be brief. Giving a thorough response with citations from the source documents is more\\n    important than brevity. Each response will be followed by reference from multiple sources with section numbers or page numbers (which\\n    is in the meta data) from the context documents. The responses will be provided only from the provided PDF source documents.  \\n    The responses will be clear and helpful and will use language that is easy to understand. Responses will include examples and \\n    potential scenarios.  If the answer is not available in the PDF source documents, the response will be \"I do not have information related \\n    to that specific scenario, please seek guidance from a qualified expert.\" If the question is not on the topic of leases, respond by \\n    saying, \"This is outside the scope of what I can help you with. Let\\'s get back to lease accounting.\" \\n    \\n    You will answer the input question based on the provided context:\\n    \\n    <context>\\n    {context}\\n    </context>\\n    \\n    You will use the provided examples for guidance on how to construct your responses. Your responses should be similar.'\n"
     ]
    }
   ],
   "source": [
    "#initialize prompt template\n",
    "prompt_template = setup_prompt_template()\n",
    "print(prompt_template)"
   ]
  },
  {
   "cell_type": "code",
   "execution_count": 12,
   "metadata": {},
   "outputs": [
    {
     "name": "stderr",
     "output_type": "stream",
     "text": [
      "DEBUG:httpx:load_ssl_context verify=True cert=None trust_env=True http2=False\n",
      "DEBUG:httpx:load_verify_locations cafile='C:\\\\Users\\\\mered\\\\anaconda3\\\\Library\\\\ssl\\\\cacert.pem'\n",
      "DEBUG:httpx:load_ssl_context verify=True cert=None trust_env=True http2=False\n",
      "DEBUG:httpx:load_verify_locations cafile='C:\\\\Users\\\\mered\\\\anaconda3\\\\Library\\\\ssl\\\\cacert.pem'\n"
     ]
    }
   ],
   "source": [
    "input = \"What are the disclosure requirements under ASC 842?\"\n",
    "llm = ChatOpenAI(api_key=openai_api_key, model=OPENAI_MODEL)\n",
    "retriever = vector_store.as_retriever()\n",
    "history_aware_retriever_chain = create_history_aware_retriever(llm, retriever, prompt_template)"
   ]
  },
  {
   "cell_type": "code",
   "execution_count": null,
   "metadata": {},
   "outputs": [],
   "source": [
    "from langchain_core.messages import HumanMessage, AIMessage\n",
    "\n",
    "chat_history = [HumanMessage(content=\"In what ways does ASC 842 intersect with ASC 606?\"), AIMessage(content=\"ASC 842 and ASC 606 intersect in several ways. ASC 842 aligns certain concepts with ASC 606, such as determining whether the transfer of an asset is a sale in a sale and leaseback transaction. Additionally, ASC 842 requires lessors to apply specific guidance in ASC 606 to their leasing transactions, particularly for the allocation of consideration in the contract. The FASB clarified that existing unmodified contracts do not need to revisit the allocation of contract consideration to lease components upon the adoption of ASC 842, except when lease classification changes. Overall, the alignment between ASC 842 and ASC 606 aims to provide consistency and clarity in lease and revenue recognition accounting practices.\")]"
   ]
  },
  {
   "cell_type": "code",
   "execution_count": null,
   "metadata": {},
   "outputs": [],
   "source": [
    "chat_history = \" \"\n",
    "context = \"I hate acconting and I don't understand the technical language so need a very basic explanation as if you were describing it to a child.\""
   ]
  },
  {
   "cell_type": "code",
   "execution_count": null,
   "metadata": {},
   "outputs": [],
   "source": [
    "history_aware_retriever_chain.invoke({\"chat_history\": chat_history, \"context\": context,\n",
    "                        \"input\": input})"
   ]
  },
  {
   "cell_type": "code",
   "execution_count": 13,
   "metadata": {},
   "outputs": [],
   "source": [
    "# following example from here:\n",
    "# https://github.com/langchain-ai/langchain/discussions/16002\n",
    "# Kept getting hung up on context. commented out get_prompt_template() function and using the \n",
    "# separate part code to build the template.  The {context} will be the documents retrieved with\n",
    "# the history aware retriever (I think?). I think the history aware retriever will retrieve docs and feed\n",
    "# them into the prompt template as context. Then the document chain takes the context and stuffs it into a place (?)\n",
    "# where it can be leveraged as the source for the LLM to retrieve the answer from.\n",
    "\n",
    "document_chain = create_stuff_documents_chain(llm, prompt_template)"
   ]
  },
  {
   "cell_type": "code",
   "execution_count": 14,
   "metadata": {},
   "outputs": [],
   "source": [
    "# create retriever that will pass in the context documents (?)\n",
    "\n",
    "# retriever has already been define above, if put this into a function, may need to \n",
    "# define the retriever again.\n",
    "\n",
    "retrieval_chain = create_retrieval_chain(history_aware_retriever_chain, document_chain)"
   ]
  },
  {
   "cell_type": "code",
   "execution_count": 15,
   "metadata": {},
   "outputs": [
    {
     "name": "stderr",
     "output_type": "stream",
     "text": [
      "DEBUG:openai._base_client:Request options: {'method': 'post', 'url': '/embeddings', 'files': None, 'post_parser': <function Embeddings.create.<locals>.parser at 0x00000169F1F01120>, 'json_data': {'input': [[3923, 527, 279, 28957, 8670, 1234, 20382, 220, 25377, 30]], 'model': 'text-embedding-3-large', 'encoding_format': 'base64'}}\n",
      "DEBUG:httpcore.connection:connect_tcp.started host='api.openai.com' port=443 local_address=None timeout=None socket_options=None\n",
      "DEBUG:httpcore.connection:connect_tcp.complete return_value=<httpcore._backends.sync.SyncStream object at 0x00000169EC2BBB50>\n",
      "DEBUG:httpcore.connection:start_tls.started ssl_context=<ssl.SSLContext object at 0x00000169F0D4ADE0> server_hostname='api.openai.com' timeout=None\n",
      "DEBUG:httpcore.connection:start_tls.complete return_value=<httpcore._backends.sync.SyncStream object at 0x00000169EF452A10>\n",
      "DEBUG:httpcore.http11:send_request_headers.started request=<Request [b'POST']>\n",
      "DEBUG:httpcore.http11:send_request_headers.complete\n",
      "DEBUG:httpcore.http11:send_request_body.started request=<Request [b'POST']>\n",
      "DEBUG:httpcore.http11:send_request_body.complete\n",
      "DEBUG:httpcore.http11:receive_response_headers.started request=<Request [b'POST']>\n",
      "DEBUG:httpcore.http11:receive_response_headers.complete return_value=(b'HTTP/1.1', 200, b'OK', [(b'Date', b'Tue, 30 Apr 2024 01:50:40 GMT'), (b'Content-Type', b'application/json'), (b'Transfer-Encoding', b'chunked'), (b'Connection', b'keep-alive'), (b'access-control-allow-origin', b'*'), (b'openai-model', b'text-embedding-3-large'), (b'openai-organization', b'user-xqtp7jgtgwdv2lgnvjry1mni'), (b'openai-processing-ms', b'42'), (b'openai-version', b'2020-10-01'), (b'strict-transport-security', b'max-age=15724800; includeSubDomains'), (b'x-ratelimit-limit-requests', b'3000'), (b'x-ratelimit-limit-tokens', b'1000000'), (b'x-ratelimit-remaining-requests', b'2999'), (b'x-ratelimit-remaining-tokens', b'999989'), (b'x-ratelimit-reset-requests', b'20ms'), (b'x-ratelimit-reset-tokens', b'0s'), (b'x-request-id', b'req_db4e8f23b17069f16be773acb6d025b3'), (b'CF-Cache-Status', b'DYNAMIC'), (b'Set-Cookie', b'__cf_bm=5nKEZm8QxwSDiH5ryaedwyWJudESJFrS4cvVuyG7VDw-1714441840-1.0.1.1-SpyCqTiYplYxwKiIBMXYcmOwm5VtU1AgE7u7rChCOUTtLVT3j1RAK6CGPW4op9i2Ldd3PFM8DGADGrNrbU76jQ; path=/; expires=Tue, 30-Apr-24 02:20:40 GMT; domain=.api.openai.com; HttpOnly; Secure; SameSite=None'), (b'Set-Cookie', b'_cfuvid=QK5mhSokTlJtxBBAN5AWe4YH972EP6aE6RDQgZPrBVI-1714441840682-0.0.1.1-604800000; path=/; domain=.api.openai.com; HttpOnly; Secure; SameSite=None'), (b'Server', b'cloudflare'), (b'CF-RAY', b'87c3e1df68811f30-DEN'), (b'Content-Encoding', b'br'), (b'alt-svc', b'h3=\":443\"; ma=86400')])\n",
      "INFO:httpx:HTTP Request: POST https://api.openai.com/v1/embeddings \"HTTP/1.1 200 OK\"\n",
      "DEBUG:httpcore.http11:receive_response_body.started request=<Request [b'POST']>\n",
      "DEBUG:httpcore.http11:receive_response_body.complete\n",
      "DEBUG:httpcore.http11:response_closed.started\n",
      "DEBUG:httpcore.http11:response_closed.complete\n",
      "DEBUG:openai._base_client:HTTP Request: POST https://api.openai.com/v1/embeddings \"200 OK\"\n",
      "DEBUG:httpcore.connection:connect_tcp.started host='23f0b85b-de0f-4ac9-aa14-7efc4b366fdf.us-east4-0.gcp.cloud.qdrant.io' port=6333 local_address=None timeout=5.0 socket_options=None\n",
      "DEBUG:httpcore.connection:connect_tcp.complete return_value=<httpcore._backends.sync.SyncStream object at 0x00000169EF471C90>\n",
      "DEBUG:httpcore.connection:start_tls.started ssl_context=<ssl.SSLContext object at 0x00000169EB15A210> server_hostname='23f0b85b-de0f-4ac9-aa14-7efc4b366fdf.us-east4-0.gcp.cloud.qdrant.io' timeout=5.0\n",
      "DEBUG:httpcore.connection:start_tls.complete return_value=<httpcore._backends.sync.SyncStream object at 0x00000169EF25CA90>\n",
      "DEBUG:httpcore.http11:send_request_headers.started request=<Request [b'POST']>\n",
      "DEBUG:httpcore.http11:send_request_headers.complete\n",
      "DEBUG:httpcore.http11:send_request_body.started request=<Request [b'POST']>\n",
      "DEBUG:httpcore.http11:send_request_body.complete\n",
      "DEBUG:httpcore.http11:receive_response_headers.started request=<Request [b'POST']>\n",
      "DEBUG:httpcore.http11:receive_response_headers.complete return_value=(b'HTTP/1.1', 200, b'OK', [(b'Content-Encoding', b'br'), (b'Content-Type', b'application/json'), (b'Date', b'Tue, 30 Apr 2024 01:50:40 GMT'), (b'Vary', b'accept-encoding, Origin, Access-Control-Request-Method, Access-Control-Request-Headers'), (b'Transfer-Encoding', b'chunked')])\n",
      "INFO:httpx:HTTP Request: POST https://23f0b85b-de0f-4ac9-aa14-7efc4b366fdf.us-east4-0.gcp.cloud.qdrant.io:6333/collections/lease-guidance/points/search \"HTTP/1.1 200 OK\"\n",
      "DEBUG:httpcore.http11:receive_response_body.started request=<Request [b'POST']>\n",
      "DEBUG:httpcore.http11:receive_response_body.complete\n",
      "DEBUG:httpcore.http11:response_closed.started\n",
      "DEBUG:httpcore.http11:response_closed.complete\n",
      "DEBUG:openai._base_client:Request options: {'method': 'post', 'url': '/chat/completions', 'files': None, 'json_data': {'messages': [{'content': 'You are a leases chatbot. You answer questions relating to ASC 842 under US GAAP. You respond to the queries as shown in \\n    the examples. The responses do not have to be brief. Giving a thorough response with citations from the source documents is more\\n    important than brevity. Each response will be followed by reference from multiple sources with section numbers or page numbers (which\\n    is in the meta data) from the context documents. The responses will be provided only from the provided PDF source documents.  \\n    The responses will be clear and helpful and will use language that is easy to understand. Responses will include examples and \\n    potential scenarios.  If the answer is not available in the PDF source documents, the response will be \"I do not have information related \\n    to that specific scenario, please seek guidance from a qualified expert.\" If the question is not on the topic of leases, respond by \\n    saying, \"This is outside the scope of what I can help you with. Let\\'s get back to lease accounting.\" \\n    \\n    You will answer the input question based on the provided context:\\n    \\n    <context>\\n    Leases  953 \\n12. Disclosures   \\n  \\n \\n \\n© 2023  KPMG LLP, a Delaware limited liability partnership and a member firm of the KPMG global organization of independent \\nmember firms affiliated with KPMG International Limited, a private English company limited by guarantee. All rights reserved.  12.1 General disclosure r equirements  \\n Excerpt from ASC 842 -20 \\n50 Disclosure  \\nGeneral  \\n50-1 The objective of the disclosure requirements is to enable users of \\nfinancial statements to assess the amount, timing, and uncertainty of cash \\nflows arising from leases . To achieve that objective, a lessee shall disclose \\nqualitative and quantitative informa tion about all of the following:  \\na. Its leases (as described in paragraphs 842- 20-50-3(a) through (b) and 842-\\n20-50-7 through 50- 10)  \\nb. The significant judgments made in applying the requirements in this Topic \\nto those leases (as described in paragraph 842- 20-50-3(c))  \\nc. The amounts recognized in the financial statements relating to those \\nleases (as described in paragraphs 842- 20-50-4 and 84 2-20-50-6).  \\n50-2 A lessee shall consider the level of detail necessary to satisfy the \\ndisclosure objective and how much emphasis to place on each of the various \\nrequirements. A lessee shall aggregate or disaggregate disclosures so that \\nuseful inform ation is not obscured by including a large amount of insignificant \\ndetail or by aggregating items that have different characteristics.  \\n  \\n Excerpt from ASC 842 -30 \\n50 Disclosure  \\nGeneral  \\n50-1 The objective of the disclosure requirements is to enable users of \\nfinancial statements to assess the amount, timing, and uncertainty of cash \\nflows arising from leases . To achieve that objective, a lessor  shall disclose \\nqualitative and quantitative informa tion about all of the following:  \\na. Its leases (as described in paragraphs 842- 30-50-3(a), 842- 30-50-4, and \\n842-30-50-7)  \\nb. The significant judgments made in applying the requirements in this Topic \\nto those leases (as described in paragraph 842- 30-50-3(b))  \\nc. The amounts recognized in the financial statements relating to those \\nleases (as described in paragraphs 842- 30-50-5 through 50- 6 and 842 -30-\\n50-8 through 50 -13).  \\n50-2 A lessor shall consider the level of detail necessary to satisfy the \\ndisclosure objective and how much emphasis to place on each of the various \\nrequirements. A lessor shall aggregate or disaggregate disclosures so that \\nuseful information is not obscured by including a large amount of insignificant \\ndetail or by aggregating i tems that have different characteristics.\\n\\n5 Lessor accounting  \\nFinancial reporting developments  Lease accounting  | 313 ASC 842 includes the following disclosure requirements for lessors.  \\nExcerpt from Accounting Standards Codification  \\nLeases  — Lessor  \\nDisclosure  \\n842-30-50-1 \\nThe objective of the disclosure requirements is to enable users of financial statements to assess the \\namount, timing, and uncertainty of cash flows arising from leases . To achieve that objective, a lessor  \\nshall disclose qualitative and quantitative information about all of the following:  \\na. Its leases (as described in paragraphs 842 -30-50-3(a), 842 -30-50-4, and 842 -30-50-7) \\nb. The significant judgments made in applying the requirements in this Topic to tho se leases (as \\ndescribed in paragraph 842 -30-50-3(b))  \\nc. The amounts recognized in the financial statements relating to those leases (as described in \\nparagraphs 842 -30-50-5 through 50 -6 and 842 -30-50-8 through 50 -13). \\n842-30-50-2 \\nA lessor shall consider the level of detail necessary to satisfy the disclosure objective and how much \\nemphasis to place on each of the various requirements. A lessor shall aggregate or disaggregate \\ndisclosures so that useful information is not obscured by including a la rge amount of insignificant \\ndetail or by aggregating items that have different characteristics.  \\n842-30-50-3 \\nA lessor shall disclose both of the following:  \\na. Information about the nature of its leases, including:  \\n1. A general description of those leases  \\n2. The basis and terms and conditions on which variable lease payments  are determined  \\n3. The existence and terms and conditions of options to extend or terminate the lease  \\n4. The existence and terms and conditions of options for a lessee  to purchase the unde rlying asset . \\nb. Information about significant assumptions and judgments made in applying the requirements of \\nthis Topic, which may include the following:  \\n1. The determination of whether a contract  contains a lease (as described in paragraphs \\n842-10-15-2 through 15 -27) \\n2. The allocation of the consideration in a contract between lease and nonlease components (as \\ndescribed in paragraphs 842 -10-15-28 through 15 -32), unless a lessor elects the practical \\nexpedient in paragraph 842 -10-15-42A and all nonlease com ponents in the contract qualify \\nfor that practical expedient  \\n3. The determination of the amount the lessor expects to derive from the underlying asset \\nfollowing the end of the lease term .\\n\\nLeases  952 \\n12. Disclosures   \\n  \\n \\n \\n© 2023  KPMG LLP, a Delaware limited liability partnership and a member firm of the KPMG global organization of independent \\nmember firms affiliated with KPMG International Limited, a private English company limited by guarantee. All rights reserved.  How the standard works  \\nThe disclosure objective in Topic 842 is to provide financial statement users \\nsufficient information to assess the amount, timing and uncertainty of cash \\nflows arising from leases. To achieve that objective, lessees and lessors \\ndisclose qualitative and quantitative information about lease transactions.  \\n \\n \\nThis generally will result in increased information being disclosed as compared \\nto Topic 840. Accordingly, entities will need to evaluate whether they have \\nappropriate systems, processes and internal controls to capture the complete \\nand accurate lease data necessary to prepare the financial statement notes.  \\nFor a discussion of transition disclosures, see section 13A .2.5 (if electing the \\neffective date transition method) or 13B.2.5 (if electing the comparative transition method) .\\n\\nLeases  967 \\n12. Disclosures   \\n  \\n \\n \\n© 2023  KPMG LLP, a Delaware limited liability partnership and a member firm of the KPMG global organization of independent \\nmember firms affiliated with KPMG International Limited, a private English company limited by guarantee. All rights reserved.  — because the periodic short -term lease cost of $200,000 disclosed does not \\nreasonably reflect the lessee’s short -term lease commitments as of \\nDecember  31, 20X1, that fact , and the amount of its short -term lease \\ncommitments of $2,440,000 ($2,400,000 + $40,000).  \\n \\n Comparison to legacy US GAAP  \\nIncreased qualitative and quantitative disclosures   \\n12.2. 60  Lessee disclosures under Topic 842 are more extensive than those \\nunder Topic 840. [840- 10-50, 840- 20-50, 840 -30-50, 840- 40-50] \\n— Examples of new qualitative disclosures include (1) information about \\nleases that have not yet commenced at the reporting date that create \\nsignificant rights and obligations to the lessee, and (2) significant judgments \\nmade,  such as determining whether a contract c ontains a lease, \\ndetermining the discount rate for the lease, and allocating the consideration in the contract to lea se and non- lease components.  \\n— Examples of new quantitative disclosures include cash paid for amounts included in the measurement of lease liabilities, supplemental non- cash \\ninformation on lease liabilities arising from obtaining ROU  assets for \\noperating lea ses, weighted -average remaining lease terms, and weighted-\\naverage discount rate information.  \\n \\n12.3 Lessor disclosures \\n Excerpt from ASC 842 -30 \\n50 Disclosure  \\nGeneral  \\n50-3 A lessor shall disclose both of the following:  \\na. Information about the nature of its leases, including:  \\n1. A general description of those leases  \\n2. The basis and terms and conditions on which variable lease \\npayments  are determined  \\n3. The existence and terms and c onditions of options to extend or \\nterminate the lease  \\n4. The existence and terms and conditions of options for a lessee to \\npurchase the underlying asset .  \\nb. Information about significant assumptions and judgments made in applying \\nthe requirements of this Topic, which may include the following:  \\n1. The determination of whether a contract  contains a lease (as \\ndescribed in paragraphs 842 -10-15-2 through 15 -27)\\n    </context>\\n    \\n    You will use the provided examples for guidance on how to construct your responses. Your responses should be similar.\\n\\n\\nQuestion: How do I determine the different lease components?\\n\\nAnswer: Lease components are elements of the arrangement that provide the customer with the right to use an \\n            identified asset. An entity should consider the right to use an underlying asset to be a separate lease component \\n            if the following 2 conditions are met: 1. Lessee can benefit from the ROU asset either on its own or together with \\n            other readily available resources and 2. The ROU is neither highly dependent on; nor highly interrelated with the \\n            other ROU(s) in the contract. References: KPMG-leaseshandbook section 4.1, PWC-leasesguide0124, section 2.4, \\n            EY-financial-reporting-developments-lease-accounting, section 1.4\\n\\n\\nQuestion: I am a lessor, how do I account for lease modifications?\\n\\nAnswer: Several questions must be answered to determine how to appropriately account for lease modifications for \\n            a lessor. Is the modified contract a lease, or does it contain a lease? If yes, does the modification result in a \\n            separate contract? If yes, account for two separate contracts: the unmodified original contract, and a separate \\n            contract accounted for in the same manner as any other new lease. If the modification does not result in a separate \\n            contract, remeasure and reallocate the remaining consideration in the contract, reassess the lease classification at \\n            the modification effective date, and account for any initial direct costs, lease incentives, and other paymetns made to \\n            or by the lessor. Whether or not the lease classification changes, and how it changes drives the appropriate accounting. \\n            References: EY - Financial Reporting Developments: lease accounting, section 5.6, PWC - Leases Guide, section 5.6, \\n            KPMG - Leases Handbook, section 7.6\\n\\n\\n\\nQuestion: What are the disclosure requirements under ASC 842?\\nAnswer: ', 'role': 'user'}], 'model': 'gpt-3.5-turbo', 'n': 1, 'stream': False, 'temperature': 0.7}}\n",
      "DEBUG:httpcore.connection:connect_tcp.started host='api.openai.com' port=443 local_address=None timeout=None socket_options=None\n",
      "DEBUG:httpcore.connection:connect_tcp.complete return_value=<httpcore._backends.sync.SyncStream object at 0x00000169F0DD0BD0>\n",
      "DEBUG:httpcore.connection:start_tls.started ssl_context=<ssl.SSLContext object at 0x00000169EB279640> server_hostname='api.openai.com' timeout=None\n",
      "DEBUG:httpcore.connection:start_tls.complete return_value=<httpcore._backends.sync.SyncStream object at 0x00000169EF134450>\n",
      "DEBUG:httpcore.http11:send_request_headers.started request=<Request [b'POST']>\n",
      "DEBUG:httpcore.http11:send_request_headers.complete\n",
      "DEBUG:httpcore.http11:send_request_body.started request=<Request [b'POST']>\n",
      "DEBUG:httpcore.http11:send_request_body.complete\n",
      "DEBUG:httpcore.http11:receive_response_headers.started request=<Request [b'POST']>\n",
      "DEBUG:httpcore.http11:receive_response_headers.complete return_value=(b'HTTP/1.1', 200, b'OK', [(b'Date', b'Tue, 30 Apr 2024 01:50:47 GMT'), (b'Content-Type', b'application/json'), (b'Transfer-Encoding', b'chunked'), (b'Connection', b'keep-alive'), (b'access-control-allow-origin', b'*'), (b'Cache-Control', b'no-cache, must-revalidate'), (b'openai-model', b'gpt-3.5-turbo-0125'), (b'openai-organization', b'user-xqtp7jgtgwdv2lgnvjry1mni'), (b'openai-processing-ms', b'6385'), (b'openai-version', b'2020-10-01'), (b'strict-transport-security', b'max-age=15724800; includeSubDomains'), (b'x-ratelimit-limit-requests', b'10000'), (b'x-ratelimit-limit-tokens', b'60000'), (b'x-ratelimit-remaining-requests', b'9999'), (b'x-ratelimit-remaining-tokens', b'57036'), (b'x-ratelimit-reset-requests', b'8.64s'), (b'x-ratelimit-reset-tokens', b'2.964s'), (b'x-request-id', b'req_ebf1a0106143a93e4b00e5813a51a644'), (b'CF-Cache-Status', b'DYNAMIC'), (b'Set-Cookie', b'__cf_bm=7AkerKl9T6c.yo30LU5xGyv0c.cIXMnau93YrnVN1vI-1714441847-1.0.1.1-6LZAGgdwEtizYdsTVRKRfFpD8.t9VJFhd4JFxUS1uwqpgQ72k8K7_.Ayjwz_ZesTs8uCUiSZhUHvBio8PKHNaA; path=/; expires=Tue, 30-Apr-24 02:20:47 GMT; domain=.api.openai.com; HttpOnly; Secure; SameSite=None'), (b'Set-Cookie', b'_cfuvid=Yqu0dqV7BQ1VZ..VRxCQ7TY_3IpSvaU_y.lKX0YYOJU-1714441847959-0.0.1.1-604800000; path=/; domain=.api.openai.com; HttpOnly; Secure; SameSite=None'), (b'Server', b'cloudflare'), (b'CF-RAY', b'87c3e1e438797b00-DEN'), (b'Content-Encoding', b'br'), (b'alt-svc', b'h3=\":443\"; ma=86400')])\n",
      "INFO:httpx:HTTP Request: POST https://api.openai.com/v1/chat/completions \"HTTP/1.1 200 OK\"\n",
      "DEBUG:httpcore.http11:receive_response_body.started request=<Request [b'POST']>\n",
      "DEBUG:httpcore.http11:receive_response_body.complete\n",
      "DEBUG:httpcore.http11:response_closed.started\n",
      "DEBUG:httpcore.http11:response_closed.complete\n",
      "DEBUG:openai._base_client:HTTP Request: POST https://api.openai.com/v1/chat/completions \"200 OK\"\n"
     ]
    }
   ],
   "source": [
    "# invoke the retrieval chain\n",
    "\n",
    "response = retrieval_chain.invoke({'input': input})"
   ]
  },
  {
   "cell_type": "code",
   "execution_count": 16,
   "metadata": {},
   "outputs": [
    {
     "name": "stdout",
     "output_type": "stream",
     "text": [
      "The disclosure requirements under ASC 842 aim to provide users of financial statements with qualitative and quantitative information to assess the amount, timing, and uncertainty of cash flows arising from leases. This information is crucial for stakeholders to understand the impact of leases on an entity's financial position and performance.\n",
      "\n",
      "For lessees, the disclosure requirements include providing information about their leases, significant judgments made in applying the lease accounting requirements, and the amounts recognized in the financial statements relating to those leases. This information should be presented in a clear and transparent manner, both qualitatively and quantitatively. Lessees should consider the level of detail necessary to meet the disclosure objective and balance the emphasis placed on various requirements to avoid obscuring useful information.\n",
      "\n",
      "For lessors, the disclosure requirements are similar and include information about the nature of their leases, significant assumptions and judgments made in applying the lease accounting requirements, and the amounts recognized in the financial statements relating to those leases. Lessors should also consider the level of detail necessary to satisfy the disclosure objective and aggregate or disaggregate disclosures to ensure that useful information is not obscured.\n",
      "\n",
      "Overall, the disclosure requirements under ASC 842 necessitate that lessees and lessors provide detailed insights into their lease transactions, including lease terms, judgments made, and financial impacts. This ensures transparency and helps stakeholders make informed decisions based on the information presented in the financial statements. It is important for entities to carefully assess their systems, processes, and internal controls to capture complete and accurate lease data for disclosure purposes. \n",
      "\n",
      "References: ASC 842-20-50, ASC 842-30-50, KPMG Leases Handbook - section 12, EY Financial Reporting Developments: Lease Accounting - section 5, PWC Leases Guide - section 12.3\n"
     ]
    }
   ],
   "source": [
    "print(response['answer'])"
   ]
  }
 ],
 "metadata": {
  "kernelspec": {
   "display_name": "base",
   "language": "python",
   "name": "python3"
  },
  "language_info": {
   "codemirror_mode": {
    "name": "ipython",
    "version": 3
   },
   "file_extension": ".py",
   "mimetype": "text/x-python",
   "name": "python",
   "nbconvert_exporter": "python",
   "pygments_lexer": "ipython3",
   "version": "3.11.5"
  }
 },
 "nbformat": 4,
 "nbformat_minor": 2
}
