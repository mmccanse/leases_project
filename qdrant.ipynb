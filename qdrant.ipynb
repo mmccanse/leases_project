{
 "cells": [
  {
   "cell_type": "code",
   "execution_count": null,
   "metadata": {},
   "outputs": [],
   "source": [
    "# !pip install langchain qdrant_client openai tiktoken\n",
    "# pip install -U langchain-openai"
   ]
  },
  {
   "cell_type": "code",
   "execution_count": 13,
   "metadata": {},
   "outputs": [],
   "source": [
    "from dotenv import load_dotenv\n",
    "import streamlit as st\n",
    "from langchain.vectorstores import Qdrant\n",
    "from langchain_openai import OpenAIEmbeddings\n",
    "from langchain.chains import RetrievalQA\n",
    "from langchain.llms import OpenAI\n",
    "from qdrant_client import QdrantClient, models\n",
    "import qdrant_client\n",
    "from langchain_community.document_loaders import PyPDFLoader\n",
    "from langchain_text_splitters import RecursiveCharacterTextSplitter\n",
    "import os"
   ]
  },
  {
   "cell_type": "code",
   "execution_count": 32,
   "metadata": {},
   "outputs": [],
   "source": [
    "model = OpenAIEmbeddings(model=\"text-embedding-3-large\")"
   ]
  },
  {
   "cell_type": "code",
   "execution_count": 4,
   "metadata": {},
   "outputs": [],
   "source": [
    "# Create a Qdrant client\n",
    "\n",
    "client = qdrant_client.QdrantClient(\n",
    "    st.secrets[\"QDRANT_HOST\"],\n",
    "    api_key=st.secrets[\"QDRANT_API_KEY\"]\n",
    "    )\n",
    "\n"
   ]
  },
  {
   "cell_type": "code",
   "execution_count": 5,
   "metadata": {},
   "outputs": [
    {
     "data": {
      "text/plain": [
       "False"
      ]
     },
     "execution_count": 5,
     "metadata": {},
     "output_type": "execute_result"
    }
   ],
   "source": [
    "# delete collection\n",
    "\n",
    "client.delete_collection(collection_name=st.secrets[\"QDRANT_COLLECTION_NAME\"])"
   ]
  },
  {
   "cell_type": "code",
   "execution_count": 8,
   "metadata": {},
   "outputs": [
    {
     "data": {
      "text/plain": [
       "True"
      ]
     },
     "execution_count": 8,
     "metadata": {},
     "output_type": "execute_result"
    }
   ],
   "source": [
    "# create collection\n",
    "vectors_config = models.VectorParams(\n",
    "    size=1536, # maybe 3072 for vector size OpenAI text-embedding-3-large. 1536 OpenAI text-embeddings-3-small.\n",
    "    distance=models.Distance.COSINE, #telling Qdrant which distance to find siliarity in search\n",
    "    on_disk=True, # need this for the binary quantization attempt \n",
    ")\n",
    "\n",
    "client.create_collection( # may need to be recreate_collection\n",
    "    collection_name=st.secrets[\"QDRANT_COLLECTION_NAME\"],\n",
    "    vectors_config=vectors_config,\n",
    "    optimizers_config = models.OptimizersConfigDiff( #setting indexing threshold to 0. Disabling the indexing to zero. \n",
    "                                                    # Allows faster vector uploads and paylods. Turn back on lower in code.\n",
    "        default_segment_number=5,\n",
    "        indexing_threshold=0,\n",
    "    ),\n",
    "    quantization_config = models.BinaryQuantization(\n",
    "        binary=models.BinaryQuantizationConfig(always_ram=True),\n",
    "    ),\n",
    ")\n"
   ]
  },
  {
   "cell_type": "code",
   "execution_count": 47,
   "metadata": {},
   "outputs": [],
   "source": [
    "#create vector store\n",
    "openai_api_key = st.secrets[\"OPENAI_API_KEY\"]\n",
    "\n",
    "embeddings = OpenAIEmbeddings()\n",
    "\n",
    "vector_store = Qdrant(\n",
    "    client = client,\n",
    "    collection_name = st.secrets[\"QDRANT_COLLECTION_NAME\"],\n",
    "    embeddings = embeddings,\n",
    ")"
   ]
  },
  {
   "cell_type": "code",
   "execution_count": 14,
   "metadata": {},
   "outputs": [],
   "source": [
    "# Define the directory where source documents are stored\n",
    "directory = 'PDFs_and_TXT'"
   ]
  },
  {
   "cell_type": "code",
   "execution_count": 15,
   "metadata": {},
   "outputs": [],
   "source": [
    "# Define function to load source documents from directory\n",
    "def load_sources(directory):\n",
    "    documents = []\n",
    "    for filename in os.listdir(directory):\n",
    "        if filename.endswith('.pdf'):\n",
    "            file_path = os.path.join(directory, filename)\n",
    "            loader = PyPDFLoader(file_path)\n",
    "            doc = loader.load()\n",
    "            documents.extend(doc)\n",
    "    return documents"
   ]
  },
  {
   "cell_type": "code",
   "execution_count": 22,
   "metadata": {},
   "outputs": [],
   "source": [
    "#test load_sources function\n",
    "\n",
    "documents_loaded = load_sources(directory)"
   ]
  },
  {
   "cell_type": "code",
   "execution_count": 23,
   "metadata": {},
   "outputs": [],
   "source": [
    "# chunk pdfs\n",
    "\n",
    "def chunk_pdfs(documents):\n",
    "    text_splitter = RecursiveCharacterTextSplitter(\n",
    "        chunk_size = 10000,\n",
    "        chunk_overlap = 200\n",
    "    )\n",
    "    \n",
    "    chunks = text_splitter.split_documents(documents)\n",
    "    return chunks"
   ]
  },
  {
   "cell_type": "code",
   "execution_count": 44,
   "metadata": {},
   "outputs": [
    {
     "name": "stdout",
     "output_type": "stream",
     "text": [
      "[Document(page_content='Charles Schwab  \\nManager Treasury -  ALCO Reporting  – 3.10.24 \\nhttps://www.linkedin.com/jobs/view/3851433982/?alternateChannel=search&refId=TIlrwC6qyBhGzHEH%2F81W\\nXA%3D%3D&trackingId=GiWxPynaoAfEt6KbWﬂuug%3D%3D  \\n \\n \\n \\n \\nPrologis  - Accounting/Banking Systems Function Lead –  Denver, \\nCO \\nAbout the job  \\nPrologis, Inc. is the global leader in logistics real estate. In partnership with our customers and our communities, we \\ndevelop modern, high-quality properties that set the standard for innovative building design and sustainability. \\nPrologis owns or has investments in properties and development projects of ~1.2 billion square feet in 19 countries \\nand enables 2.8% of the world’s GDP. We have committed to achieve net zero emissions by 2040. Beyond real estate, \\nour Essentials platform optimizes the company’s g lobal asset portfolio to provide our customers solutions that \\naddress today’s warehouse and shipping challenges. Prologis Ventures invests in logistics innovation and technology \\ncompanies to modernize supply chains worldwide.  \\n \\nJob Title  \\n \\nAccounting / Banking Systems Functional Lead  \\n \\nCompany \\n \\nPrologis  \\n \\nAccounting / Banking Systems Functional Lead – Denver, CO \\n \\nA day in the life  \\n \\nThe FAST (Financial Applications & Solutions Team) is looking for an Accounting/Banking Systems Functional Lead to \\njoin us in our D enver, CO office. This person will work with Accounting stakeholders across the globe to solve \\ncomplex business problems by thinking both inside and outside the box. We are looking for someone who has \\nstrong data analytic skills, likes working with others and enjoys finding creative solutions to challenges. The role \\ninterfaces between strategic partners and the business stakeholders to improve business intelligence and other \\nanalytic capabilities. Individuals in this position will come with a ‘continuous im provement’ mindset to evaluate \\nsystem usage and business processes.', metadata={'source': 'PDFs_and_TXT\\\\Job Descriptions.pdf', 'page': 0}), Document(page_content=\"Key Responsibilities Include \\n \\n \\n• Work as a cross functional/technical analyst, for the purpose of solution design in support of existing finance \\napplications through functional analysis and configuration. \\n• Support account reconciliation procedures, matching and integrations aligned in the Cash Management line \\nof business.  \\n• Evaluate requirements using interviews, data analysis, business process documentation, and working \\nsessions \\n• Proactively communicate and collaborate with the business to prioritize requirements, evaluate solutions, \\nidentify potential risks, and define proposed solutions  \\n• Successfully engage in multiple, simultaneous initiatives, and report on progress towards delivery goals  \\n• Assist in creating design documents, training manuals and track open design questions throughout \\nimplementation lifecycles.  \\n \\n \\nBuilding blocks for success \\n \\n \\n• Connects the Dots: Instinct to ask relevant probing questions that get to the “why” behind business requests \\nto achieve exceptional outcomes  \\n• Relationship Building: Works effectively with diverse teams of talented people with multiple perspectives and \\ntalents  \\n• Work Ethic: Self -motivated focus on continual development, results delivery, high performance, \\naccountability  \\n• Organization: Proven ability to effectively manage time across competing activities/resources and prioritize \\nactivities accordingly  \\n• Communication: Strong verbal and written communication skills with the ability to distill meaningful and \\naccurate information and communicate in an effective way  \\n• Bachelor's degree from four-year college or university in Finance, Accounting, Information Technology, or \\nrelated field  \\n• Knowledge of the commercial real estate industry (specifically industrial real estate) preferred  \\n• 5+ years experience working within a large ERP framework; Blackline or Oracle Cloud EPM Account \\nReconciliation (ARCS)  \\n• Knowledge in Treasury/Cash Management processes, experience working with banks; as well as bank \\nproprietary and online systems  \\n• Familiarity with software installations, testing of patches and configurations, of web-based applications  \\n• Experience in MS Excel, PowerPoint, and Word; familiarity with Smartsheet, RPA; Jira Service Now, PeopleSoft \\nFinancials experience in the areas of CM, DM & AP a plus  \\n• Ability to meet deadlines and juggle multiple projects  \\n \\n \\nHiring Salary Range of: $120k-$146K. Salary and whole compensation package (bonus target) to be determined by \\nthe candidate’s location, education, experience, knowledge, skills, and abilities, as well as internal equity and \\nalignment with market data.\", metadata={'source': 'PDFs_and_TXT\\\\Job Descriptions.pdf', 'page': 1}), Document(page_content='People First  \\n \\nEach of us working at Prologis plays an essential role in the enduring success of our company. We value people who \\nare decisive, courageous and adaptable. While we are one company, locations and departments operate with \\nautonomy and accountability. Individuals take the initiative here.  \\n \\nWhen you join Prologis, you work shoulder to shoulder with some of the top talent in the industry to do the best \\nwork of your career. Every employee belongs. Every employee contributes.  Employees advance their careers here.  \\n \\nAs a successful global enterprise, Prologis has never lost sight of what matters most, our strong belief that our \\npeople are the most important part of our business. And because of that, we provide a generous total rewards \\npackage and take a lot of time to  focus on quality management and leadership development. People come first \\nhere.  \\n \\nAll full-time roles in the US come with a robust benefits package which includes healthcare, dental, and vision \\ninsurance for employees and eligible dependent s. Prologis also offers several other wellness, financial, and \\nwork/lifestyle -specific benefits. Our 401(k) retirement plan has a company match of 50% up to 12% of eligible \\ncompensation. We also offer generous PTO with a starting accrual of 22 days a year in addition to paid holidays and \\nvolunteer time.  \\n \\nAll job offers are contingent upon successful completion of background verification. Prologis is an Equal \\nOpportunity/Affirmative Action employer and all qualified applicants will receive consideration for employment \\nwithout regard to race, color, religions, sex, national origin, sexual orientation, gender identity, disability status, \\nprotected veteran status, or any other characteristic protected by law.  \\n \\nEmployment Type  \\n \\nFull time  \\n \\nLocation:  \\n \\nDenver, Colorado  \\n \\nAdditional Locations:  \\n \\nCloudFlare  \\nIntelligent Automation Sr. Analyst, Celonis  \\n \\nhttps://www.linkedin.com/jobs/view/3905869104/?refId=7eccc95f -b418- 4026- b154-\\ne36fe6cefa53&trackingId=D%2BnBBGV5SDqP1hTWL1hcDw%3D%3D', metadata={'source': 'PDFs_and_TXT\\\\Job Descriptions.pdf', 'page': 2}), Document(page_content=\"About the job  \\nAbout Us  \\n \\nAt Cloudflare, we are on a mission to help build a better Internet. Today the company runs one of the world’s largest \\nnetworks that powers millions of websites and other Internet properties for customers ranging from individual \\nbloggers to SMBs to Fortune 500 companies. Cloudflare protects and accelerates any Internet application online \\nwithout adding hardware, installing software, or changing a line of code. Internet properties powered by Cloudflare \\nall have web traffic routed through its intelligent globa l network, which gets smarter with every request. As a result, \\nthey see significant improvement in performance and a decrease in spam and other attacks. Cloudflare was named \\nto Entrepreneur Magazine’s Top Company Cultures list and ranked among the World’s Most Innovative Companies \\nby Fast Company. \\n \\nWe realize people do not fit into neat boxes. We are looking for curious and empathetic individuals who are \\ncommitted to developing themselves and learning new skills, and we are ready to help you do that. We cannot \\ncomplete our mission without building a diverse and inclusive team. We hire the best people based on an evaluation \\nof their potential and support them throughout their time at Cloudflare. Come join us!  \\n \\nAvailable Locations: Remote US  \\n \\nAbout The Position  \\n \\nAt Cloudflare we are committed to excellence and innovation, not just as it relates to products we sell to our \\ncustomers, but also for our internal processes and systems. We are committed to leveraging cutting-edge \\ntechnologies to enhance operational effic iency and drive innovation. In order to do that, we are seeking a dynamic \\nand forward thinking Intelligent Automation Analyst to join our team.  \\n \\nThis pivotal role is centered around process mining and process automation, requiring strategic planning, thought \\nleadership, and successful execution of cross -functional initiatives. We are in search of a meticulous and innovative \\nprofessional who thrives on devising solutions. In this role, you'll be expected to seamlessly collaborate with external \\nand internal s takeholders across functions. Your ability to think critically, chart effective courses of action, and foster \\ncollaboration across diverse teams will be instrumental in achieving outstanding results.  \\n \\nWhat you'll do  \\n \\nAutomation Strategy and Planning:  \\n \\n \\n• Work with senior finance leadership to develop and implement a comprehensive process mining and \\nautomation strategy aligned with organizational goals.  \\n• Collaborate with cross -functional teams and process owners to help identify opportunities for automation. \\n• Evaluate and recommend suitable intelligent automation and process mining tools to help solve business \\nproblems.   \\n• Work with the business to develop thorough business requirements and proto -types as needed.\", metadata={'source': 'PDFs_and_TXT\\\\Job Descriptions.pdf', 'page': 3}), Document(page_content='Tool Implementation and Configuration: \\n \\n \\n• Manage process mining / automation projects from information gathering to delivery and design, construct, \\ninstall & test.  \\n• Collaborate with IT teams to integrate automation solutions with existing systems and applications.  \\n• Conduct thorough testing and troubleshooting, working with business stakeholders, to ensure the \\neffectiveness of implemented solutions.  \\n• Work with internal teams to ensure high data quality and reliability of data for process mining and \\nautomation solutions.   \\n• Configure relevant process KPIs in process mining dashboards for internal ROI reporting. \\n• Ensure use cases executed meet business requirements and industry standards. \\n \\n \\n \\nData & Process Analysis:  \\n \\n \\n• Analyze raw data and help identify business initiatives from a process exploration perspective. \\n• Assist the business in interpreting trends, patterns, and anomalies based on insights.  \\n• Identify, source, and analyze data and process maps from various platforms; verify data integrity while \\ndocumenting data requirements.  \\n \\n \\n \\nMonitoring and Maintenance:  \\n \\n \\n• Establish and maintain process automation / process mining tools to ensure the ongoing performance of \\nautomation solutions.  \\n• Proactively identify and address issues, optimizing automation processes for continuous improvement. \\n• Collaborate with the IT support team to troubleshoot and resolve any technical challenges. \\n \\n \\n \\nDocumentation and Training: \\n \\n \\n• Create comprehensive documentation for implemented solutions, including process workflows and technical \\nspecifications.  \\n• Provide training and support to end-users and internal teams on intelligent automation tools and processes.', metadata={'source': 'PDFs_and_TXT\\\\Job Descriptions.pdf', 'page': 4}), Document(page_content=\"Examples Of Desirable Skills, Knowledge And Experience  \\n \\n \\n• Bachelor's degree in Computer Science, Information Systems, Business, or related field. \\n• 6+ years of experience working in data analytics, data science, data-driven decision -making or statistical \\nanalysis.  \\n• 3 - 5+ years of hands -on experience with process mining technology, specifically Celonis.  \\n• Experience leveraging automation and business intelligence toolkits such as UiPath, PowerAutomate, Alteryx, \\netc. \\n• Proficiency in data warehousing, data modeling and schema design.  \\n• Proven ability to write data queries using SQL and Python. \\n• Strong analytical and problem -solving skills, with the ability to interpret and leverage data for process \\nimprovement.  \\n• Excellent communication and collaboration skills, with the ability to work across functional teams.  \\n• Experience in process mapping, workflow design, and automation scripting. \\n• Knowledge of best practices in intelligent automation and a commitment to staying current on industry \\ntrends. \\n \\n \\n \\nPreferred Qualifications:  \\n \\n \\n• Certification in Celonis, UiPath, Alteryx, or other relevant intelligent automation tools.  \\n• Experience in implementing automation solutions in complex business environments.  \\n• Experience working and influencing in a cross -functional global environment with all levels of employees.  \\n• Familiarity with machine learning and artificial intelligence concepts in the context of process automation.  \\n• Experience in IT -Consulting, Management Consulting, Process Improvement or a similar area.  \\n \\n \\n \\nCompensation  \\n \\nCompensation may be adjusted depending on work location. \\n \\n \\n• For Colorado -based hires and Washington hires: Estimated annual salary of $126,000 - $154,000.  \\n• For New York City -based and California (excluding Bay Area): Estimated annual salary of $146,000 - $178,000.  \\n• For Bay Area -based hires: Estimated annual salary of $153,000 - $187,000.\", metadata={'source': 'PDFs_and_TXT\\\\Job Descriptions.pdf', 'page': 5}), Document(page_content='Equity \\n \\nThis role is eligible to participate in Cloudflare’s equity plan.  \\n \\nBenefits  \\n \\nCloudflare offers a complete package of benefits and programs to support you and your family. Our benefits \\nprograms can help you pay health care expenses, support caregiving, build capital for the future and make life a little \\neasier and fun! The below is a description of our benefits for employees in the United States, and benefits may vary \\nfor employees based outside the U.S. \\n \\nHealth & Welfare Benefits  \\n \\n \\n• Medical/Rx Insurance  \\n• Dental Insurance  \\n• Vision Insurance  \\n• Flexible Spending Accounts  \\n• Commuter Spending Accounts  \\n• Fertility & Family Forming Benefits  \\n• On-demand mental health support and Employee Assistance Program  \\n• Global Travel Medical Insurance  \\n \\n \\n \\nFinancial Benefits  \\n \\n \\n• Short and Long Term Disability Insurance  \\n• Life & Accident Insurance  \\n• 401(k) Retirement Savings Plan  \\n• Employee Stock Participation Plan  \\n \\n \\n \\nTime Off  \\n \\n \\n• Flexible paid time off covering vacation and sick leave  \\n• Leave programs, including parental, pregnancy health, medical, and bereavement leave', metadata={'source': 'PDFs_and_TXT\\\\Job Descriptions.pdf', 'page': 6}), Document(page_content=\"What Makes Cloudflare Special?  \\n \\nWe’re not just a highly ambitious, large -scale technology company. We’re a highly ambitious, large -scale technology \\ncompany with a soul. Fundamental to our mission to help build a better Internet is protecting the free and open \\nInternet.  \\n \\nProject Galileo : We equip politically and artistically important organizations and journalists with powerful tools to \\ndefend themselves against attacks that would otherwise censor their work, technology already used by Cloudflare’s \\nenterprise customers --at no cost.  \\n \\nAthenian Project : We created Athenian Project to ensure that state and local governments have the highest level of \\nprotection and reliability for free, so that their constituents have access to election information and voter \\nregistration.  \\n \\nPath Forward Partnership : Since 2016, we have partnered with Path Forward, a nonprofit organization, to create \\n16-week positions for mid -career professionals who want to get back to the workplace after taking time off to care \\nfor a child, parent, or loved one.  \\n \\n1.1.1.1 : We released 1.1.1.1 to help fix the foundation of the Internet by building a faster, more secure and privacy -\\ncentric public DNS resolver. This is available publicly for everyone to use - it is the first consumer -focused service \\nCloudflare has ever releas ed. Here’s the deal - we don’t store client IP addresses never, ever. We will continue to \\nabide by our privacy commitment and ensure that no user data is sold to advertisers or used to target consumers.  \\n \\nSound like something you’d like to be a part of? We’ d love to hear from you!  \\n \\nThis position may require access to information protected under U.S. export control laws, including the U.S. Export \\nAdministration Regulations. Please note that any offer of employment may be conditioned on your authorization to \\nreceive software or technology controlled under these U.S. export laws without sponsorship for an export license.  \\n \\nCloudflare is proud to be an equal opportunity employer. We are committed to providing equal employment \\nopportunity for all people and place g reat value in both diversity and inclusiveness. All qualified applicants will be \\nconsidered for employment without regard to their, or any other person's, perceived or actual race, color, religion, \\nsex, gender, gender identity, gender expression, sexual or ientation, national origin, ancestry, citizenship, age, \\nphysical or mental disability, medical condition, family care status, or any other basis protected by law. We are an \\nAA/Veterans/Disabled Employer.  \\n \\nCloudflare provides reasonable accommodations to qualified individuals with disabilities. Please tell us if you require \\na reasonable accommodation to apply for a job. Examples of reasonable accommodations include, but are not \\nlimited to, changing the application process, providing documents in an alternate  format, using a sign language \\ninterpreter, or using specialized equipment. If you require a reasonable accommodation to apply for a job, please \\ncontact us via e -mail at hr@cloudflare.com or via mail at 101 Townsend St. San Francisco, CA 94107.  \\n \\n \\nOpen AI Corporate Accounting Manager  \\n \\nhttps://openai.com/careers/corporate -accounting-manager\", metadata={'source': 'PDFs_and_TXT\\\\Job Descriptions.pdf', 'page': 7}), Document(page_content='Corporate Accounting Manager  \\nSan Francisco, CA — Finance  \\n \\nApply now  \\nAbout the Team  \\n OpenAI’s mission is to build safe artiﬁcial general intelligence (AGI) which beneﬁts all of humanity. This long -term \\nundertaking brings the world’s best scientists, engineers, and business professionals together under one \\norganization to accomplish this.   \\nOpenAI Controllership is responsible for providing accurate and timely ﬁnancial information for our stakeholders. We aim to build best -in-class processes and systems that will scale with our business as it grows.   \\nAbout the Role  \\nAs the Accounting Manager, you’ll have exceptional operational accounting skills, expertise in establishing \\nscalable processes, and the ability to balance complex cross -functional initiatives.  \\nYou will focus on OpEx and Balance Sheet accounts and oversee month -end close, ﬁnancial reporting, and \\noperations. You will also collaborate on managing strategic partnerships, vendor relationships, and budgeting. You \\nwill report to the Director of Corpor ate Accounting and work closely with the Controller, department leads, and \\nexternal partners.  \\nThis role is based in San Francisco, CA. We use a hybrid work model of 3 days in the office per week and offer \\nrelocation assistance to new employees.  \\nIn this role, you will:  \\nOwn core accounting responsibilities including month end close and ﬁnancial and managerial reporting  \\nLead process improvement initiatives and drive implementation across the ﬁnance organization  \\nManage external accounting resources to ensure a timely and accurate month end close process  \\nLead the preparation of Audit PBCs for interim and own speciﬁc year -end audit procedures  \\nOwn the preparation of key balance sheet account reconciliations and review of non -key account reconciliations \\non a monthly basis  \\nSupport new research and products by working cross -functionally to enable development while building scalable \\naccounting processes Assist in building and maintaining the internal control environment to ensure the accuracy of OpenAI’s ﬁnancials  \\nWork with broader OpenAI Finance to analyze deviations in budgeted versus actual results and inform the annual \\nplan  \\nCollaborate with the technical accounting and tax teams on projects and high priority initiatives  \\nYou might thrive in this role if you have:  \\n6-8+ years of relevant accounting experience at some combination of public accounting ﬁrm, private company, or \\nstart-up, showing progressive responsibilities', metadata={'source': 'PDFs_and_TXT\\\\Job Descriptions.pdf', 'page': 8}), Document(page_content='BA/BS in Accounting or Finance  \\nCPA or CA and excellent technical accounting skills with a detailed understanding of GAAP standards  \\nProven ability to roll- up-sleeves and dig into the weeds of complex issues, while keeping the bigger picture and \\ndesired end -state in mind  \\nStrong project management and organizational skills encompassing attention to detail and ability to prioritize and \\nlead high priority tasks on concurrent timelines  \\nEffective verbal and written communication skills  \\nExperience working with modern software and systems, particularly NetSuite, Zip, Netgain and Vena  \\nAbout OpenAI  \\nOpenAI is an AI research and deployment company dedicated to ensuring that general -purpose artiﬁcial \\nintelligence beneﬁts all of humanity. We push the boundaries of the capabilities of AI systems and seek to safely deploy them to the world through our pr oducts. AI is an extremely powerful tool that must be created with safety \\nand human needs at its core, and to achieve our mission, we must encompass and value the many different perspectives, voices, and experiences that form the full spectrum of humanity.   \\nWe are an equal opportunity employer and do not discriminate on the basis of race, religion, national origin, \\ngender, sexual orientation, age, veteran status, disability or any other legally protected status.  \\nFor US Based Candidates: Pursuant to the San Francisco Fair Chance Ordinance, we will consider qualiﬁed \\napplicants with arrest and conviction records.  \\nWe are committed to providing reasonable accommodations to applicants with disabilities, and requests can be \\nmade via this link.  \\nOpenAI Global Applicant Privacy Policy \\nAt OpenAI, we believe artiﬁcial intelligence has the potential to help people solve immense global challenges, and \\nwe want the upside of AI to be widely shared. Join us in shaping the future of technology.  \\nAnnual Salary  \\n$190K • Offers Equity USD  \\n \\n \\nManager Treasury -  ALCO Reporting  \\nCharles Schwab  · Lone Tree, CO · Reposted  6 days ago  · 10 applicants  \\n• $81.8K/yr - $167.2K/yr   On-site  Full-time   Entry level  \\n• 10,001+ employees · Financial Services  \\n• 52 school alumni work here  \\n• Skills: Alteryx, Interpersonal Skills, +8 more  \\n• See how you compare to 9 applicants.  Try Premium for $0  \\n•', metadata={'source': 'PDFs_and_TXT\\\\Job Descriptions.pdf', 'page': 9}), Document(page_content='• Am I a good fit for this job?  \\n• How can I best position myself for this job?  \\n• Tell me more about Charles S...  \\nApply \\nSaveSave <EmbeddedMegamorphicModel:undefined>  at Charles  Schwab  \\n \\nShare  \\nShow more options  \\nAbout the job  \\nYour Opportunity \\n \\nAt Schwab, you’re empowered to make an impact on your career. Here, innovative thought meets creative \\nproblem solving, helping us “challenge the status quo” and transform the finance industry together.  \\n The ALCO Reporting group within Treasury owns the Asset -Liability Committee and other report ing processes \\nfor senior management, executive and board -level committees of the Corporation and its subsidiaries, ensuring \\ncompliance with all related policies, procedures and regulations. The ALCO Reporting group also provides \\nsignificant analytical, research and administrative support to Treasury and the Finance organization. \\n \\n \\n• Source data and prepare reporting schedules, in a team approached process, for executive level ALCO \\nand Board of Directors  \\n• Work with data analytics tools to perform data aggregation and analysis  \\n• Create presentations, graphs, dashboards to display results in committee materials  \\n• Engage in projects to streamline and automate analysis and reporting  \\n• Query, analyze and interpret large data sets \\n• Take initiative to enhance and improve reporting and committee materials   \\nWhat you have \\n To ensure that we have fulfilled our promise of \"challenging the status quo,\" this role has specific qualifications \\nthat successful candidates should have.  \\n \\nRequired Qualifications  \\n  \\n• Bachelor’s degree or higher in Accounting, Finance or related field  \\n• Hands -on experience with data tools and programming languages such as SQL, Teradata, and Alteryx', metadata={'source': 'PDFs_and_TXT\\\\Job Descriptions.pdf', 'page': 10}), Document(page_content='• Experience with analyzing data and information, and applying problem- solving skills to deliver accurate \\nreporting   \\n \\n \\nPreferred Qualifications  \\n \\n \\n• Results driven and action oriented with attention to detail and accuracy  \\n• Solid critical thinking skills to scope and frame problems \\n• Effective communication skills to manage expectations and challenges \\n• Strong interpersonal skills with the demonstrated ability to build cross- functional relationships \\n \\n \\nWhat’s in it for you \\n \\nAt Schwab, we’re committed to empowering our employees’ personal and professional success. Our purpose-\\ndriven, supportive culture, and focus on your development means you’ll get the tools you need to make a \\npositive difference in the finance industry. Our Hybrid Work and Flexibility approach balances our ongoing \\ncommitment to workplace flexibility, serving our clients, and our strong belief in the value of being together in person on a regular basis.  We offer a competitive benefits pa ckage that takes care of the whole you –  both today and in the future:  \\n  \\n• 401(k) with company match and Employee stock purchase plan \\n• Paid time for vacation, volunteering, and 28- day sabbatical after every 5 years of service for eligible \\npositions  \\n• Paid parental leave and family building benefits \\n• Tuition reimbursement  \\n• Health, dental, and vision insurance', metadata={'source': 'PDFs_and_TXT\\\\Job Descriptions.pdf', 'page': 11}), Document(page_content='Meredith McCanse , CPA  \\n(646) 281 -6533  \\uf09f meredithmccanse@mac.com  \\nwww.linkedin.com/in/meredithmccanse  \\n \\nSKILLS  \\n \\nAlteryx  Designer Core Certified , artificial intelligence , Python, SQL basics, Oracle , FloQast , Blackline,  NetSuite , Apps Script , Google \\nSuite, Excel , Word , process -improvement, automation, decision -making, risk analysis, month -end close, operational accounting, \\nbalance sheet reconciliations, SOX controls, process documentation , people manage r experience  \\nEDUCATION   \\n \\nUNIVERSITY OF DENVER, Artificial Intelligence Bootcamp (6 months)  Denver, CO  \\nCertificate in Artificial Intelligence  April 2024  \\n• Python programming for AI  \\n• Data processing , analysis, and visualization  with Pandas \\n• Sourcing data with APIs  \\n• Unsupervised/Supervised machine learning models  \\n• Model – Fit – Predict and optimization processes \\n• Neural networks and deep learning models  \\n• Natural language processing  \\n• Transformers and their applications  \\n• LangChain, Gradio, Streamlit   \\n \\nBARUCH COLLEGE , Zicklin School of Business  New York, NY  \\nMaster of Business Administration in Accountancy, GPA: 3.83   June 2015  \\n \\nUNIVERSITY OF RICHMOND  Richmond, VA  \\nBachelor of Arts in Leadership Studies and Women’s Studies , GPA: 3.37  May 1998 \\n• Study abroad year Zimbabwe: Grassroots Development and NGO Management  \\n \\nCERTIFICATIONS AND LICENSES   \\n \\nCPA \\nColorado –  CPA.0034993  \\n \\nPROFESSIONAL EXPERIENCE   \\n  \\nTwilio  \\nDenver   06/21 – 03/23 \\nAccounting Manager, G eneral Ledger OpEx Team   \\n• Process improvement and automation using technology; Alteryx, Apps Script, automation features in Oracle; Buil t Alteryx \\nworkflows to facilitate Open PO accruals, financ ial analysis f luxes , journal entries, and prepaid analysis resulting in significant \\ntime savings and increased accuracy/reduced risk  \\n• Collaborate d across departments to facilitate Alteryx skill building and resource sharing, host team workshops to build \\nAlteryx workflows and facilitate learning  \\n• Global business process owner for cash management in Oracle ERP implementation: f oster ed cross- department \\ncommunication, collaboration, and troubleshooting in ongoing transition to new Oracle ERP system, work ed with Accounts \\nPayable, Treasury, COGS, International teams to evaluate risk, problem -solve transition challenges,  created  new processes \\nand documentation , ensure d SOX compliant financial controls i mplemented  and adhered to  \\n• Wrote accounting policies in accordance with US GAAP and review ed processes and accruals to ensure GAAP compliance  \\n• Support ed month -end and quarter -end processes to ensure audit compliance and accurate and timely financial reporting', metadata={'source': 'PDFs_and_TXT\\\\McCanse 24_042124.pdf', 'page': 0}), Document(page_content='Red Lion Hotels Corporation  \\nDenver   10/18 – 05/21 \\nManager, Corpo rate Accounting  (08/20 – 05/21 )  \\n• Responsible for A P function, manage d two full time staff , in addition to general corporate accounting for leases, stock comp, \\nintangibles, prepaids, payroll, GL maintenance, troubleshooting intercompany out of balance issues  \\n• Standardize d and maintain ed review/approval processes and  documentation  for manual payments, T&E  reimbursement, \\ncorporate credit cards  and general cleanup of payables systems (Nexus, Chrome River)  \\n• Collaborate d and communicat ed with wider accounting department  to improve  follow up  processes for account \\nreconciliations  \\n• Reduce d AP invoices days pending by proactively communicating with dept. heads , offering training s and support \\ndocuments , improving relationships between larger company and AP team  \\n• Provide d direction  and training  to staff regarding daily procedures and US GAAP accounting compliance  \\n \\nSenior Corporate Accountant  (10/18 – 08/20) \\n• Major player in process improvements and systems implementations for:  \\nStock comp –  implemented eTrade’s  Equity Edge to calculate monthly expense vs. prior manual process  \\nPayroll – major implementation in transitioning from Ultimate Software to ADP  \\nPrepaid expense deferrals – facilitated improved internal workflow, communication, and leveraged available Blackline \\ntechnology to automate prepaid account reconciliations  \\n• Responsible for stock comp, corporate accruals, prepaid expense deferrals, lease expense tracking, intangibles amortization, tracking and accruing severance/bonuses, payroll journal entries and general payroll backup/support, tie -outs between GL \\n(Great Pla ins) / financial statement software (EPM) / Blackline, perform GL QA checks  \\n  \\nEY \\nNew York / Denver   07/15 – 10/18 \\nSenior – Financial Accounting Advisory Services (FAAS) – Denver , CO (06/17- 10/18)  \\n• National accounting change team – leases (ASC 842 and IFRS 16 ) \\n• 3rd party leases application testing (IBM TRIRIGA, Lease Accelerator, SLAN Nakisa)  \\n• Champion for EY Lease Accounting Navigator (LAN) application; lead demonstrations for new and potential clients; \\nonboard ed engagement teams to orient to the tool, resource to EY teams for questions and problem solving  \\n \\nStaff – Audit  – New York , NY (07/15 - 05/17)   \\n• Audited real estate management firm, real estate investm ent funds, and PR firm; executed financial  analytics, substantive \\ntesting, tests of controls, walkthroughs , revenue testing across multiple accounts in high risk environment  \\n  \\nRAWLINGS ARCHITECTS, PC \\nNew York   01/12 – 08/13 \\nOffice Manager    \\n• Redesigned company invoicing processes to streamline billing  and reduce opportunities for human error   \\n• Researched, proposed, and implemented electronic timesheet system company- wide  \\n• Proposed,  designed,  and instituted  Section 125 plan for employee insurance premiums to be paid with pre -tax dollars ; \\nreduced tax liabilities for the firm and increased take home pay for employees  \\n \\nTHE PRINCETON REVIEW  \\nNew York    \\nTutoring Manager  (09/09 – 01/12)  \\n• Managed 100+ tutors, conducted orientations , set expectations for job responsibilities, provided performance feedback  \\n \\nTeacher / Master Level Tutor  (10/00 – 12/05) \\n \\nPARALLEL CAREER –  FREELANCE  \\nNew York   01/01 – 07/10  \\nModern Dancer , Teacher   \\n• Performed with numerous  choreographers in  NYC and internationally; taught movement awareness and dance  to children, \\nsenior citizens, and professional dancers', metadata={'source': 'PDFs_and_TXT\\\\McCanse 24_042124.pdf', 'page': 1})]\n"
     ]
    }
   ],
   "source": [
    "chunks = chunk_pdfs(documents_loaded)\n",
    "print(chunks)"
   ]
  },
  {
   "cell_type": "code",
   "execution_count": 48,
   "metadata": {},
   "outputs": [
    {
     "data": {
      "text/plain": [
       "['d9e9404daafd4c24afd367ee792b8e7c',\n",
       " '19e0e7dd37c742e198a05a218e678764',\n",
       " 'b4a89b4f50ad4ccab8d1a224c7c609ca',\n",
       " 'fc7e1150db3a4399b1cc5536744fc4ce',\n",
       " '3e64c38af9f147e582a765d958995901',\n",
       " '47d8e37afefd4ed9bf313b01bb70e8f0',\n",
       " '6d6f1465e8f04feda3a73ce5fe976ab0',\n",
       " '0fe91c458bea49e2ac00033c847e1975',\n",
       " '7e8ffb0b7b184577b0b576a9713cc987',\n",
       " 'af9ffec088c846eb91dac9bd84c7ce8c',\n",
       " 'e258282860a549838e9795afbf4cf4ed',\n",
       " 'a98e3dc1e8e442d387800596d8fd418d',\n",
       " 'ae16e7a8203e4023bdade4c2274be91f',\n",
       " 'a532a92018114c809b4e609da321e6bb']"
      ]
     },
     "execution_count": 48,
     "metadata": {},
     "output_type": "execute_result"
    }
   ],
   "source": [
    "# add embedded chunks to vector store. I think this process does the embedding?\n",
    "vector_store.add_documents(chunks)"
   ]
  },
  {
   "cell_type": "code",
   "execution_count": null,
   "metadata": {},
   "outputs": [],
   "source": [
    "# Enable indexing again after upload vectors\n",
    "\n",
    "# client.update_collection(\n",
    "#     collection_name=st.secrets[\"QDRANT_COLLECTION_NAME\"],\n",
    "#     optimizer_config=models.OptimizersConfigDiff(\n",
    "#         indexing_threshold=20000\n",
    "#     )\n",
    "# )"
   ]
  }
 ],
 "metadata": {
  "kernelspec": {
   "display_name": "base",
   "language": "python",
   "name": "python3"
  },
  "language_info": {
   "codemirror_mode": {
    "name": "ipython",
    "version": 3
   },
   "file_extension": ".py",
   "mimetype": "text/x-python",
   "name": "python",
   "nbconvert_exporter": "python",
   "pygments_lexer": "ipython3",
   "version": "3.11.5"
  }
 },
 "nbformat": 4,
 "nbformat_minor": 2
}
