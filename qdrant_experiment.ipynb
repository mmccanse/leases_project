{
 "cells": [
  {
   "cell_type": "code",
   "execution_count": 1,
   "metadata": {},
   "outputs": [],
   "source": [
    "# !pip install langchain qdrant_client openai tiktoken\n",
    "# pip install -U langchain-openai"
   ]
  },
  {
   "cell_type": "code",
   "execution_count": 8,
   "metadata": {},
   "outputs": [],
   "source": [
    "from dotenv import load_dotenv\n",
    "import re\n",
    "import streamlit as st\n",
    "from langchain.vectorstores import Qdrant\n",
    "from langchain_openai import OpenAIEmbeddings\n",
    "from langchain.chains import RetrievalQA\n",
    "from langchain_openai import ChatOpenAI, OpenAI\n",
    "import openai\n",
    "from qdrant_client import QdrantClient, models\n",
    "import qdrant_client\n",
    "from langchain_community.document_loaders import PyPDFLoader\n",
    "from PyPDF2 import PdfReader\n",
    "from langchain_text_splitters import RecursiveCharacterTextSplitter\n",
    "from qdrant_client.models import PointStruct\n",
    "import spacy\n",
    "import os"
   ]
  },
  {
   "cell_type": "code",
   "execution_count": 7,
   "metadata": {},
   "outputs": [
    {
     "name": "stdout",
     "output_type": "stream",
     "text": [
      "['Charles Schwab Manager Treasury - ALCO Reporting – 3.10.24 https://www.linkedin.com/jobs/view/3851433982/?alternateChannel=search&refId=TIlrwC6qyBhGzHEH%2F81W XA%3D%3D&trackingId=GiWxPynaoAfEt6KbWﬂuug%3D%3D Prologis - Accounting/Banking Systems Function Lead – Denver, CO About the job Prologis, Inc. is the global leader in logistics real estate. In partnership with our customers and our communities, we develop modern, high-quality properties that set the standard for innovative building design and sustainability. Prologis owns or has investments in properties and development projects of ~1.2 billion square feet in 19 countries and enables 2.8% of the world’s GDP. We have committed to achieve net zero emissions by 2040. Beyond real estate, our Essentials platform optimizes the company’s g lobal asset portfolio to provide our customers solutions that address today’s warehouse and shipping challenges. Prologis Ventures invests in logistics innovation and technology companies to modernize supply chains worldwide. Job Title Accounting / Banking Systems Functional Lead Company Prologis Accounting / Banking Systems Functional Lead – Denver, CO A day in the life The FAST (Financial Applications & Solutions Team) is looking for an Accounting/Banking Systems Functional Lead to join us in our D enver, CO office. This person will work with Accounting stakeholders across the globe to solve complex business problems by thinking both inside and outside the box. We are looking for someone who has strong data analytic skills, likes working with others and enjoys finding creative solutions to challenges. The role interfaces between strategic partners and the business stakeholders to improve business intelligence and other analytic capabilities. Individuals in this position will come with a ‘continuous im provement’ mindset to evaluate system usage and business processes. Key Responsibilities Include • Work as a cross functional/technical analyst, for the purpose of solution design in support of existing finance applications through functional analysis and configuration. • Support account reconciliation procedures, matching and integrations aligned in the Cash Management line of business. • Evaluate requirements using interviews, data analysis, business process documentation, and working sessions • Proactively communicate and collaborate with the business to prioritize requirements, evaluate solutions, identify potential risks, and define proposed solutions • Successfully engage in multiple, simultaneous initiatives, and report on progress towards delivery goals • Assist in creating design documents, training manuals and track open design questions throughout implementation lifecycles. Building blocks for success • Connects the Dots: Instinct to ask relevant probing questions that get to the “why” behind business requests to achieve exceptional outcomes • Relationship Building: Works effectively with diverse teams of talented people with multiple perspectives and talents • Work Ethic: Self -motivated focus on continual development, results delivery, high performance, accountability • Organization: Proven ability to effectively manage time across competing activities/resources and prioritize activities accordingly • Communication: Strong verbal and written communication skills with the ability to distill meaningful and accurate information and communicate in an effective way • Bachelor\\'s degree from four-year college or university in Finance, Accounting, Information Technology, or related field • Knowledge of the commercial real estate industry (specifically industrial real estate) preferred • 5+ years experience working within a large ERP framework; Blackline or Oracle Cloud EPM Account Reconciliation (ARCS) • Knowledge in Treasury/Cash Management processes, experience working with banks; as well as bank proprietary and online systems • Familiarity with software installations, testing of patches and configurations, of web-based applications • Experience in MS Excel, PowerPoint, and Word; familiarity with Smartsheet, RPA; Jira Service Now, PeopleSoft Financials experience in the areas of CM, DM & AP a plus • Ability to meet deadlines and juggle multiple projects Hiring Salary Range of: $120k-$146K. Salary and whole compensation package (bonus target) to be determined by the candidate’s location, education, experience, knowledge, skills, and abilities, as well as internal equity and alignment with market data. People First Each of us working at Prologis plays an essential role in the enduring success of our company. We value people who are decisive, courageous and adaptable. While we are one company, locations and departments operate with autonomy and accountability. Individuals take the initiative here. When you join Prologis, you work shoulder to shoulder with some of the top talent in the industry to do the best work of your career. Every employee belongs. Every employee contributes. Employees advance their careers here. As a successful global enterprise, Prologis has never lost sight of what matters most, our strong belief that our people are the most important part of our business. And because of that, we provide a generous total rewards package and take a lot of time to focus on quality management and leadership development. People come first here. All full-time roles in the US come with a robust benefits package which includes healthcare, dental, and vision insurance for employees and eligible dependent s. Prologis also offers several other wellness, financial, and work/lifestyle -specific benefits. Our 401(k) retirement plan has a company match of 50% up to 12% of eligible compensation. We also offer generous PTO with a starting accrual of 22 days a year in addition to paid holidays and volunteer time. All job offers are contingent upon successful completion of background verification. Prologis is an Equal Opportunity/Affirmative Action employer and all qualified applicants will receive consideration for employment without regard to race, color, religions, sex, national origin, sexual orientation, gender identity, disability status, protected veteran status, or any other characteristic protected by law. Employment Type Full time Location: Denver, Colorado Additional Locations: CloudFlare Intelligent Automation Sr. Analyst, Celonis https://www.linkedin.com/jobs/view/3905869104/?refId=7eccc95f -b418- 4026- b154- e36fe6cefa53&trackingId=D%2BnBBGV5SDqP1hTWL1hcDw%3D%3D About the job About Us At Cloudflare, we are on a mission to help build a better Internet. Today the company runs one of the world’s largest networks that powers millions of websites and other Internet properties for customers ranging from individual bloggers to SMBs to Fortune 500 companies. Cloudflare protects and accelerates any Internet application online without adding hardware, installing software, or changing a line of code. Internet properties powered by Cloudflare all have web traffic routed through its intelligent globa l network, which gets smarter with every request. As a result, they see significant improvement in performance and a decrease in spam and other attacks. Cloudflare was named to Entrepreneur Magazine’s Top Company Cultures list and ranked among the World’s Most Innovative Companies by Fast Company. We realize people do not fit into neat boxes. We are looking for curious and empathetic individuals who are committed to developing themselves and learning new skills, and we are ready to help you do that. We cannot complete our mission without building a diverse and inclusive team. We hire the best people based on an evaluation of their potential and support them throughout their time at Cloudflare. Come join us! Available Locations: Remote US About The Position At Cloudflare we are committed to excellence and innovation, not just as it relates to products we sell to our customers, but also for our internal processes and systems. We are committed to leveraging cutting-edge technologies to enhance operational effic iency and drive innovation. In order to do that, we are seeking a dynamic and forward thinking Intelligent Automation Analyst to join our team. This pivotal role is centered around process mining and process automation, requiring strategic planning, thought leadership, and successful execution of cross -functional initiatives. We are in search of a meticulous and innovative professional who thrives on devising solutions. In this role, you\\'ll be expected to seamlessly collaborate with external and internal s takeholders across functions. Your ability to think critically, chart effective courses of action, and foster collaboration across diverse teams will be instrumental in achieving outstanding results. What you\\'ll do Automation Strategy and Planning: • Work with senior finance leadership to develop and implement a comprehensive process mining and automation strategy aligned with organizational goals. • Collaborate with cross -functional teams and process owners to help identify opportunities for automation. • Evaluate and recommend suitable intelligent automation and process mining tools to help solve business problems. • Work with the business to develop thorough business requirements and proto -types as needed. Tool Implementation and Configuration: • Manage process mining / automation projects from information gathering to delivery and design, construct, install & test. • Collaborate with IT teams to integrate automation solutions with existing systems and applications. • Conduct thorough testing and troubleshooting, working with business stakeholders, to ensure the effectiveness of implemented solutions. • Work with internal teams to ensure high data quality and reliability of data for process mining and automation solutions. • Configure relevant process KPIs in process mining dashboards for internal ROI reporting. • Ensure use cases executed meet business requirements and industry standards. Data & Process Analysis: • Analyze raw data and help identify business initiatives from a process exploration perspective. • Assist the business in interpreting trends, patterns, and anomalies based on insights. • Identify, source, and analyze data and process maps from various platforms; verify data integrity while documenting data requirements. Monitoring and Maintenance: • Establish and maintain process automation / process mining tools to ensure the ongoing performance of automation solutions. • Proactively identify and address issues, optimizing automation processes for continuous improvement. • Collaborate with the IT support team to troubleshoot and resolve any technical challenges. Documentation and Training: • Create comprehensive documentation for implemented solutions, including process workflows and technical specifications. • Provide training and support to end-users and internal teams on intelligent automation tools and processes. Examples Of Desirable Skills, Knowledge And Experience • Bachelor\\'s degree in Computer Science, Information Systems, Business, or related field. • 6+ years of experience working in data analytics, data science, data-driven decision -making or statistical analysis. • 3 - 5+ years of hands -on experience with process mining technology, specifically Celonis. • Experience leveraging automation and business intelligence toolkits such as UiPath, PowerAutomate, Alteryx, etc. • Proficiency in data warehousing, data modeling and schema design. • Proven ability to write data queries using SQL and Python. • Strong analytical and problem -solving skills, with the ability to interpret and leverage data for process improvement. • Excellent communication and collaboration skills, with the ability to work across functional teams. • Experience in process mapping, workflow design, and automation scripting. • Knowledge of best practices in intelligent automation and a commitment to staying current on industry trends. Preferred Qualifications: • Certification in Celonis, UiPath, Alteryx, or other relevant intelligent automation tools. • Experience in implementing automation solutions in complex business environments. • Experience working and influencing in a cross -functional global environment with all levels of employees. • Familiarity with machine learning and artificial intelligence concepts in the context of process automation. • Experience in IT -Consulting, Management Consulting, Process Improvement or a similar area. Compensation Compensation may be adjusted depending on work location. • For Colorado -based hires and Washington hires: Estimated annual salary of $126,000 - $154,000. • For New York City -based and California (excluding Bay Area): Estimated annual salary of $146,000 - $178,000. • For Bay Area -based hires: Estimated annual salary of $153,000 - $187,000. Equity This role is eligible to participate in Cloudflare’s equity plan. Benefits Cloudflare offers a complete package of benefits and programs to support you and your family. Our benefits programs can help you pay health care expenses, support caregiving, build capital for the future and make life a little easier and fun! The below is a description of our benefits for employees in the United States, and benefits may vary for employees based outside the U.S. Health & Welfare Benefits • Medical/Rx Insurance • Dental Insurance • Vision Insurance • Flexible Spending Accounts • Commuter Spending Accounts • Fertility & Family Forming Benefits • On-demand mental health support and Employee Assistance Program • Global Travel Medical Insurance Financial Benefits • Short and Long Term Disability Insurance • Life & Accident Insurance • 401(k) Retirement Savings Plan • Employee Stock Participation Plan Time Off • Flexible paid time off covering vacation and sick leave • Leave programs, including parental, pregnancy health, medical, and bereavement leave What Makes Cloudflare Special? We’re not just a highly ambitious, large -scale technology company. We’re a highly ambitious, large -scale technology company with a soul. Fundamental to our mission to help build a better Internet is protecting the free and open Internet. Project Galileo : We equip politically and artistically important organizations and journalists with powerful tools to defend themselves against attacks that would otherwise censor their work, technology already used by Cloudflare’s enterprise customers --at no cost. Athenian Project : We created Athenian Project to ensure that state and local governments have the highest level of protection and reliability for free, so that their constituents have access to election information and voter registration. Path Forward Partnership : Since 2016, we have partnered with Path Forward, a nonprofit organization, to create 16-week positions for mid -career professionals who want to get back to the workplace after taking time off to care for a child, parent, or loved one. 1.1.1.1 : We released 1.1.1.1 to help fix the foundation of the Internet by building a faster, more secure and privacy - centric public DNS resolver. This is available publicly for everyone to use - it is the first consumer -focused service Cloudflare has ever releas ed. Here’s the deal - we don’t store client IP addresses never, ever. We will continue to abide by our privacy commitment and ensure that no user data is sold to advertisers or used to target consumers. Sound like something you’d like to be a part of? We’ d love to hear from you! This position may require access to information protected under U.S. export control laws, including the U.S. Export Administration Regulations. Please note that any offer of employment may be conditioned on your authorization to receive software or technology controlled under these U.S. export laws without sponsorship for an export license. Cloudflare is proud to be an equal opportunity employer. We are committed to providing equal employment opportunity for all people and place g reat value in both diversity and inclusiveness. All qualified applicants will be considered for employment without regard to their, or any other person\\'s, perceived or actual race, color, religion, sex, gender, gender identity, gender expression, sexual or ientation, national origin, ancestry, citizenship, age, physical or mental disability, medical condition, family care status, or any other basis protected by law. We are an AA/Veterans/Disabled Employer. Cloudflare provides reasonable accommodations to qualified individuals with disabilities. Please tell us if you require a reasonable accommodation to apply for a job. Examples of reasonable accommodations include, but are not limited to, changing the application process, providing documents in an alternate format, using a sign language interpreter, or using specialized equipment. If you require a reasonable accommodation to apply for a job, please contact us via e -mail at hr@cloudflare.com or via mail at 101 Townsend St. San Francisco, CA 94107. Open AI Corporate Accounting Manager https://openai.com/careers/corporate -accounting-manager Corporate Accounting Manager San Francisco, CA — Finance Apply now About the Team OpenAI’s mission is to build safe artiﬁcial general intelligence (AGI) which beneﬁts all of humanity. This long -term undertaking brings the world’s best scientists, engineers, and business professionals together under one organization to accomplish this. OpenAI Controllership is responsible for providing accurate and timely ﬁnancial information for our stakeholders. We aim to build best -in-class processes and systems that will scale with our business as it grows. About the Role As the Accounting Manager, you’ll have exceptional operational accounting skills, expertise in establishing scalable processes, and the ability to balance complex cross -functional initiatives. You will focus on OpEx and Balance Sheet accounts and oversee month -end close, ﬁnancial reporting, and operations. You will also collaborate on managing strategic partnerships, vendor relationships, and budgeting. You will report to the Director of Corpor ate Accounting and work closely with the Controller, department leads, and external partners. This role is based in San Francisco, CA. We use a hybrid work model of 3 days in the office per week and offer relocation assistance to new employees. In this role, you will: Own core accounting responsibilities including month end close and ﬁnancial and managerial reporting Lead process improvement initiatives and drive implementation across the ﬁnance organization Manage external accounting resources to ensure a timely and accurate month end close process Lead the preparation of Audit PBCs for interim and own speciﬁc year -end audit procedures Own the preparation of key balance sheet account reconciliations and review of non -key account reconciliations on a monthly basis Support new research and products by working cross -functionally to enable development while building scalable accounting processes Assist in building and maintaining the internal control environment to ensure the accuracy of OpenAI’s ﬁnancials Work with broader OpenAI Finance to analyze deviations in budgeted versus actual results and inform the annual plan Collaborate with the technical accounting and tax teams on projects and high priority initiatives You might thrive in this role if you have: 6-8+ years of relevant accounting experience at some combination of public accounting ﬁrm, private company, or start-up, showing progressive responsibilities BA/BS in Accounting or Finance CPA or CA and excellent technical accounting skills with a detailed understanding of GAAP standards Proven ability to roll- up-sleeves and dig into the weeds of complex issues, while keeping the bigger picture and desired end -state in mind Strong project management and organizational skills encompassing attention to detail and ability to prioritize and lead high priority tasks on concurrent timelines Effective verbal and written communication skills Experience working with modern software and systems, particularly NetSuite, Zip, Netgain and Vena About OpenAI OpenAI is an AI research and deployment company dedicated to ensuring that general -purpose artiﬁcial intelligence beneﬁts all of humanity. We push the boundaries of the capabilities of AI systems and seek to safely deploy them to the world through our pr oducts. AI is an extremely powerful tool that must be created with safety and human needs at its core, and to achieve our mission, we must encompass and value the many different perspectives, voices, and experiences that form the full spectrum of humanity. We are an equal opportunity employer and do not discriminate on the basis of race, religion, national origin, gender, sexual orientation, age, veteran status, disability or any other legally protected status. For US Based Candidates: Pursuant to the San Francisco Fair Chance Ordinance, we will consider qualiﬁed applicants with arrest and conviction records. We are committed to providing reasonable accommodations to applicants with disabilities, and requests can be made via this link. OpenAI Global Applicant Privacy Policy At OpenAI, we believe artiﬁcial intelligence has the potential to help people solve immense global challenges, and we want the upside of AI to be widely shared. Join us in shaping the future of technology. Annual Salary $190K • Offers Equity USD Manager Treasury - ALCO Reporting Charles Schwab · Lone Tree, CO · Reposted 6 days ago · 10 applicants • $81.8K/yr - $167.2K/yr On-site Full-time Entry level • 10,001+ employees · Financial Services • 52 school alumni work here • Skills: Alteryx, Interpersonal Skills, +8 more • See how you compare to 9 applicants. Try Premium for $0 • • Am I a good fit for this job? • How can I best position myself for this job? • Tell me more about Charles S... Apply SaveSave <EmbeddedMegamorphicModel:undefined> at Charles Schwab Share Show more options About the job Your Opportunity At Schwab, you’re empowered to make an impact on your career. Here, innovative thought meets creative problem solving, helping us “challenge the status quo” and transform the finance industry together. The ALCO Reporting group within Treasury owns the Asset -Liability Committee and other report ing processes for senior management, executive and board -level committees of the Corporation and its subsidiaries, ensuring compliance with all related policies, procedures and regulations. The ALCO Reporting group also provides significant analytical, research and administrative support to Treasury and the Finance organization. • Source data and prepare reporting schedules, in a team approached process, for executive level ALCO and Board of Directors • Work with data analytics tools to perform data aggregation and analysis • Create presentations, graphs, dashboards to display results in committee materials • Engage in projects to streamline and automate analysis and reporting • Query, analyze and interpret large data sets • Take initiative to enhance and improve reporting and committee materials What you have To ensure that we have fulfilled our promise of \"challenging the status quo,\" this role has specific qualifications that successful candidates should have. Required Qualifications • Bachelor’s degree or higher in Accounting, Finance or related field • Hands -on experience with data tools and programming languages such as SQL, Teradata, and Alteryx • Experience with analyzing data and information, and applying problem- solving skills to deliver accurate reporting Preferred Qualifications • Results driven and action oriented with attention to detail and accuracy • Solid critical thinking skills to scope and frame problems • Effective communication skills to manage expectations and challenges • Strong interpersonal skills with the demonstrated ability to build cross- functional relationships What’s in it for you At Schwab, we’re committed to empowering our employees’ personal and professional success. Our purpose- driven, supportive culture, and focus on your development means you’ll get the tools you need to make a positive difference in the finance industry. Our Hybrid Work and Flexibility approach balances our ongoing commitment to workplace flexibility, serving our clients, and our strong belief in the value of being together in person on a regular basis. We offer a competitive benefits pa ckage that takes care of the whole you – both today and in the future: • 401(k) with company match and Employee stock purchase plan • Paid time for vacation, volunteering, and 28- day sabbatical after every 5 years of service for eligible positions • Paid parental leave and family building benefits • Tuition reimbursement • Health, dental, and vision insurance', 'Meredith McCanse , CPA (646) 281 -6533 \\uf09f meredithmccanse@mac.com www.linkedin.com/in/meredithmccanse SKILLS Alteryx Designer Core Certified , artificial intelligence , Python, SQL basics, Oracle , FloQast , Blackline, NetSuite , Apps Script , Google Suite, Excel , Word , process -improvement, automation, decision -making, risk analysis, month -end close, operational accounting, balance sheet reconciliations, SOX controls, process documentation , people manage r experience EDUCATION UNIVERSITY OF DENVER, Artificial Intelligence Bootcamp (6 months) Denver, CO Certificate in Artificial Intelligence April 2024 • Python programming for AI • Data processing , analysis, and visualization with Pandas • Sourcing data with APIs • Unsupervised/Supervised machine learning models • Model – Fit – Predict and optimization processes • Neural networks and deep learning models • Natural language processing • Transformers and their applications • LangChain, Gradio, Streamlit BARUCH COLLEGE , Zicklin School of Business New York, NY Master of Business Administration in Accountancy, GPA: 3.83 June 2015 UNIVERSITY OF RICHMOND Richmond, VA Bachelor of Arts in Leadership Studies and Women’s Studies , GPA: 3.37 May 1998 • Study abroad year Zimbabwe: Grassroots Development and NGO Management CERTIFICATIONS AND LICENSES CPA Colorado – CPA.0034993 PROFESSIONAL EXPERIENCE Twilio Denver 06/21 – 03/23 Accounting Manager, G eneral Ledger OpEx Team • Process improvement and automation using technology; Alteryx, Apps Script, automation features in Oracle; Buil t Alteryx workflows to facilitate Open PO accruals, financ ial analysis f luxes , journal entries, and prepaid analysis resulting in significant time savings and increased accuracy/reduced risk • Collaborate d across departments to facilitate Alteryx skill building and resource sharing, host team workshops to build Alteryx workflows and facilitate learning • Global business process owner for cash management in Oracle ERP implementation: f oster ed cross- department communication, collaboration, and troubleshooting in ongoing transition to new Oracle ERP system, work ed with Accounts Payable, Treasury, COGS, International teams to evaluate risk, problem -solve transition challenges, created new processes and documentation , ensure d SOX compliant financial controls i mplemented and adhered to • Wrote accounting policies in accordance with US GAAP and review ed processes and accruals to ensure GAAP compliance • Support ed month -end and quarter -end processes to ensure audit compliance and accurate and timely financial reporting Red Lion Hotels Corporation Denver 10/18 – 05/21 Manager, Corpo rate Accounting (08/20 – 05/21 ) • Responsible for A P function, manage d two full time staff , in addition to general corporate accounting for leases, stock comp, intangibles, prepaids, payroll, GL maintenance, troubleshooting intercompany out of balance issues • Standardize d and maintain ed review/approval processes and documentation for manual payments, T&E reimbursement, corporate credit cards and general cleanup of payables systems (Nexus, Chrome River) • Collaborate d and communicat ed with wider accounting department to improve follow up processes for account reconciliations • Reduce d AP invoices days pending by proactively communicating with dept. heads , offering training s and support documents , improving relationships between larger company and AP team • Provide d direction and training to staff regarding daily procedures and US GAAP accounting compliance Senior Corporate Accountant (10/18 – 08/20) • Major player in process improvements and systems implementations for: Stock comp – implemented eTrade’s Equity Edge to calculate monthly expense vs. prior manual process Payroll – major implementation in transitioning from Ultimate Software to ADP Prepaid expense deferrals – facilitated improved internal workflow, communication, and leveraged available Blackline technology to automate prepaid account reconciliations • Responsible for stock comp, corporate accruals, prepaid expense deferrals, lease expense tracking, intangibles amortization, tracking and accruing severance/bonuses, payroll journal entries and general payroll backup/support, tie -outs between GL (Great Pla ins) / financial statement software (EPM) / Blackline, perform GL QA checks EY New York / Denver 07/15 – 10/18 Senior – Financial Accounting Advisory Services (FAAS) – Denver , CO (06/17- 10/18) • National accounting change team – leases (ASC 842 and IFRS 16 ) • 3rd party leases application testing (IBM TRIRIGA, Lease Accelerator, SLAN Nakisa) • Champion for EY Lease Accounting Navigator (LAN) application; lead demonstrations for new and potential clients; onboard ed engagement teams to orient to the tool, resource to EY teams for questions and problem solving Staff – Audit – New York , NY (07/15 - 05/17) • Audited real estate management firm, real estate investm ent funds, and PR firm; executed financial analytics, substantive testing, tests of controls, walkthroughs , revenue testing across multiple accounts in high risk environment RAWLINGS ARCHITECTS, PC New York 01/12 – 08/13 Office Manager • Redesigned company invoicing processes to streamline billing and reduce opportunities for human error • Researched, proposed, and implemented electronic timesheet system company- wide • Proposed, designed, and instituted Section 125 plan for employee insurance premiums to be paid with pre -tax dollars ; reduced tax liabilities for the firm and increased take home pay for employees THE PRINCETON REVIEW New York Tutoring Manager (09/09 – 01/12) • Managed 100+ tutors, conducted orientations , set expectations for job responsibilities, provided performance feedback Teacher / Master Level Tutor (10/00 – 12/05) PARALLEL CAREER – FREELANCE New York 01/01 – 07/10 Modern Dancer , Teacher • Performed with numerous choreographers in NYC and internationally; taught movement awareness and dance to children, senior citizens, and professional dancers']\n"
     ]
    }
   ],
   "source": [
    "# Define the directory where source documents are stored\n",
    "directory = 'small_pdfs'\n",
    "\n",
    "# Define function to load source documents from directory\n",
    "def load_sources(directory):\n",
    "    documents = []\n",
    "    for filename in os.listdir(directory):\n",
    "        if filename.endswith('.pdf'):\n",
    "            file_path = os.path.join(directory, filename)\n",
    "            try:\n",
    "                reader = PdfReader(file_path)\n",
    "                text = ''\n",
    "                for page in reader.pages:\n",
    "                    text += page.extract_text() + ' '  # Add a space between pages\n",
    "                # Clean text: replace line breaks with spaces, then normalize whitespace\n",
    "                cleaned_text = text.replace('\\n', ' ').replace('\\r', ' ')\n",
    "                cleaned_text = ' '.join(cleaned_text.split())\n",
    "                documents.append(cleaned_text)\n",
    "            except Exception as e:\n",
    "                print(f\"Failed to process {filename}: {str(e)}\")\n",
    "    return documents\n",
    "\n",
    "# Example usage\n",
    "documents = load_sources(directory)\n",
    "print(documents)"
   ]
  },
  {
   "cell_type": "code",
   "execution_count": null,
   "metadata": {},
   "outputs": [],
   "source": [
    "# Setup Open AI and Qdrant clients\n",
    "openai_api_key = st.secrets[\"OPENAI_API_KEY\"]\n",
    "organization = st.secrets[\"OPEN_AI_ORGANIZATION_ID\"]\n",
    "project = st.secrets[\"PROJECT_NAME\"]\n",
    "\n",
    "# Create a Qdrant client\n",
    "\n",
    "openai_client = openai.Client(\n",
    "    api_key = openai_api_key\n",
    ")\n",
    "\n"
   ]
  },
  {
   "cell_type": "code",
   "execution_count": null,
   "metadata": {},
   "outputs": [],
   "source": [
    "# embedding a document\n",
    "\n",
    "embedding_model = \"text-embedding-3-large\"\n",
    "\n",
    "result = openai_client.embeddings.create(input=documents_loaded, model=embedding_model)"
   ]
  },
  {
   "cell_type": "code",
   "execution_count": null,
   "metadata": {},
   "outputs": [],
   "source": [
    "# convert the model outputs to Qdrant points.\n",
    "# not sure if \"text\" is like bob, or needs to refer to my source embeddings, \"result\"\n",
    "\n",
    "points = [\n",
    "    PointStruct(\n",
    "        id=idx,\n",
    "        vector=data.embedding,\n",
    "        payload={\"text\": text},\n",
    "    )\n",
    "    for idx, (data, text) in enumerate(zip(result.data, texts))\n",
    "]"
   ]
  },
  {
   "cell_type": "code",
   "execution_count": null,
   "metadata": {},
   "outputs": [],
   "source": [
    "# delete collection\n",
    "\n",
    "client.delete_collection(collection_name=st.secrets[\"QDRANT_COLLECTION_NAME_2\"])"
   ]
  },
  {
   "cell_type": "code",
   "execution_count": null,
   "metadata": {},
   "outputs": [],
   "source": [
    "# create collection\n",
    "vectors_config = models.VectorParams(\n",
    "    size=1536, # maybe 3072 for vector size OpenAI text-embedding-3-large. 1536 OpenAI text-embeddings-3-small.\n",
    "    distance=models.Distance.COSINE, #telling Qdrant which distance to find siliarity in search\n",
    "    on_disk=True, # need this for the binary quantization attempt \n",
    ")\n",
    "\n",
    "client.create_collection( # may need to be recreate_collection\n",
    "    collection_name=st.secrets[\"QDRANT_COLLECTION_NAME\"],\n",
    "    vectors_config=vectors_config,\n",
    "    optimizers_config = models.OptimizersConfigDiff( #setting indexing threshold to 0. Disabling the indexing to zero. \n",
    "                                                    # Allows faster vector uploads and paylods. Turn back on lower in code.\n",
    "        default_segment_number=5,\n",
    "        indexing_threshold=0,\n",
    "    ),\n",
    "    quantization_config = models.BinaryQuantization(\n",
    "        binary=models.BinaryQuantizationConfig(always_ram=True),\n",
    "    ),\n",
    ")\n"
   ]
  },
  {
   "cell_type": "code",
   "execution_count": null,
   "metadata": {},
   "outputs": [],
   "source": [
    "#create vector store\n",
    "openai_api_key = st.secrets[\"OPENAI_API_KEY\"]\n",
    "\n",
    "embeddings = OpenAIEmbeddings()\n",
    "\n",
    "vector_store = Qdrant(\n",
    "    client = client,\n",
    "    collection_name = st.secrets[\"QDRANT_COLLECTION_NAME\"],\n",
    "    embeddings = embeddings,\n",
    ")"
   ]
  },
  {
   "cell_type": "code",
   "execution_count": null,
   "metadata": {},
   "outputs": [],
   "source": [
    "# Define the directory where source documents are stored\n",
    "directory = 'PDFs_and_TXT'"
   ]
  },
  {
   "cell_type": "code",
   "execution_count": null,
   "metadata": {},
   "outputs": [],
   "source": [
    "# Define function to load source documents from directory\n",
    "def load_sources(directory):\n",
    "    documents = []\n",
    "    for filename in os.listdir(directory):\n",
    "        if filename.endswith('.pdf'):\n",
    "            file_path = os.path.join(directory, filename)\n",
    "            loader = PyPDFLoader(file_path)\n",
    "            doc = loader.load()\n",
    "            documents.extend(doc)\n",
    "    return documents"
   ]
  },
  {
   "cell_type": "code",
   "execution_count": null,
   "metadata": {},
   "outputs": [],
   "source": [
    "#test load_sources function\n",
    "\n",
    "documents_loaded = load_sources(directory)"
   ]
  },
  {
   "cell_type": "code",
   "execution_count": null,
   "metadata": {},
   "outputs": [],
   "source": [
    "# chunk pdfs\n",
    "\n",
    "def chunk_pdfs(documents):\n",
    "    text_splitter = RecursiveCharacterTextSplitter(\n",
    "        chunk_size = 10000,\n",
    "        chunk_overlap = 200\n",
    "    )\n",
    "    \n",
    "    chunks = text_splitter.split_documents(documents)\n",
    "    return chunks"
   ]
  },
  {
   "cell_type": "code",
   "execution_count": null,
   "metadata": {},
   "outputs": [],
   "source": [
    "chunks = chunk_pdfs(documents_loaded)\n",
    "print(chunks)"
   ]
  },
  {
   "cell_type": "code",
   "execution_count": null,
   "metadata": {},
   "outputs": [],
   "source": [
    "# add embedded chunks to vector store. I think this process does the embedding?\n",
    "vector_store.add_documents(chunks)"
   ]
  },
  {
   "cell_type": "code",
   "execution_count": null,
   "metadata": {},
   "outputs": [],
   "source": [
    "# Enable indexing again after upload vectors\n",
    "\n",
    "client.update_collection(\n",
    "    collection_name=st.secrets[\"QDRANT_COLLECTION_NAME\"],\n",
    "    optimizer_config=models.OptimizersConfigDiff(\n",
    "        indexing_threshold=20000\n",
    "    )\n",
    ")"
   ]
  }
 ],
 "metadata": {
  "kernelspec": {
   "display_name": "base",
   "language": "python",
   "name": "python3"
  },
  "language_info": {
   "codemirror_mode": {
    "name": "ipython",
    "version": 3
   },
   "file_extension": ".py",
   "mimetype": "text/x-python",
   "name": "python",
   "nbconvert_exporter": "python",
   "pygments_lexer": "ipython3",
   "version": "3.11.5"
  }
 },
 "nbformat": 4,
 "nbformat_minor": 2
}
